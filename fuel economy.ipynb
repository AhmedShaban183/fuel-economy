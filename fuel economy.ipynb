{
 "cells": [
  {
   "cell_type": "markdown",
   "metadata": {},
   "source": [
    "\n",
    "# Project: Investigate a Dataset - [fuel economy Dataset]\n",
    "\n",
    "## Table of Contents\n",
    "<ul>\n",
    "<li><a href=\"#intro\">Introduction</a></li>\n",
    "<li><a href=\"#wrangling\">Data Wrangling</a></li>\n",
    "<li><a href=\"#eda\">Exploratory Data Analysis</a></li>\n",
    "<li><a href=\"#conclusions\">Conclusions</a></li>\n",
    "</ul>"
   ]
  },
  {
   "cell_type": "markdown",
   "metadata": {},
   "source": [
    "<a id='intro'></a>\n",
    "## Introduction\n",
    "\n",
    "### Overview\n",
    "To complete my Data Analysis project I will be using the fuel economy of an automobile  dataset.\n",
    "\n",
    "This dataset contains information about 2 thousand movies including user ratings and revenue, this dataset collected from EBA https://www.epa.gov/compliance-and-fuel-economy-data/data-cars-used-testing-fuel-economy  It consist of 21 columns such as: \n",
    "#### Attribute\tDescription\n",
    "Model$\\;\\;\\;\\;\\;\\;$$\\;\\;\\;\\;\\;\\;\\;\\;\\;\\;\\;\\;\\;\\;\\;\\;$Vehicle make and model<br>\n",
    "Displ$\\;\\;\\;\\;\\;\\;$$\\;\\;\\;\\;\\;\\;\\;\\;\\;\\;\\;\\;\\;\\;\\;\\;\\;$Engine displacement - the size of an engine in liters.<br>\n",
    "Cyl$\\;\\;\\;\\;\\;\\;$$\\;\\;\\;\\;\\;\\;\\;\\;\\;\\;\\;\\;\\;\\;\\;\\;\\;\\;\\;$The number of cylinders in a particular engine.<br>\n",
    "Trans$\\;\\;\\;\\;\\;\\;$$\\;\\;\\;\\;\\;\\;\\;\\;\\;\\;\\;\\;\\;\\;\\;\\;$Transmission Type and Number of Gears.<br>\n",
    "Drive$\\;\\;\\;\\;\\;\\;$$\\;\\;\\;\\;\\;\\;\\;\\;\\;\\;\\;\\;\\;\\;\\;\\;\\;$Drive axle type (2WD = 2-wheel drive, 4WD = 4-wheel/all-wheel drive)<br>\n",
    "Fuel$\\;\\;\\;\\;\\;\\;$$\\;\\;\\;\\;\\;\\;\\;\\;\\;\\;\\;\\;\\;\\;\\;\\;\\;\\;$Fuel Type<br>\n",
    "Cert Region*$\\;\\;\\;\\;\\;\\;$$\\;\\;\\;\\;\\;\\;\\;\\;$Certification Region Code<br>\n",
    "Sales Area**$\\;\\;\\;\\;\\;\\;$$\\;\\;\\;\\;\\;\\;\\;$Certification Region Code<br>\n",
    "Stnd$\\;\\;\\;\\;\\;\\;$$\\;\\;\\;\\;\\;\\;\\;\\;\\;\\;\\;\\;\\;\\;\\;\\;$Vehicle emissions standard code<br>\n",
    "Stnd Description*$\\;\\;\\;\\;\\;\\;$$\\;\\;$Vehicle emissions standard description<br>\n",
    "Underhood ID$\\;\\;\\;\\;\\;\\;$$\\;\\;\\;\\;$This is a 12-digit ID number that can be found on the underhood emission label of every vehicle. <br>\n",
    "Veh Class$\\;\\;\\;\\;\\;\\;$$\\;\\;\\;\\;\\;\\;\\;\\;\\;$EPA Vehicle Class<br>\n",
    "AirPollu_Score$\\;\\;\\;\\;\\;\\;$$\\;\\;\\;$Air pollution score (smog rating)<br>\n",
    "City MPG$\\;\\;\\;\\;\\;\\;$$\\;\\;\\;\\;\\;\\;\\;\\;\\;$Estimated city mpg (miles/gallon)<br>\n",
    "Hwy MPG$\\;\\;\\;\\;\\;\\;$$\\;\\;\\;\\;\\;\\;\\;\\;$Estimated highway mpg (miles/gallon)<br>\n",
    "Cmb MPG$\\;\\;\\;\\;\\;\\;$$\\;\\;\\;\\;\\;\\;\\;\\;$Estimated combined mpg (miles/gallon)<br>\n",
    "GreenGasScore$\\;\\;\\;\\;\\;\\;$Greenhouse gas rating<br>\n",
    "SmartWay$\\;\\;\\;\\;\\;\\;$$\\;\\;\\;\\;\\;\\;\\;\\;$Yes, No, or Elite<br>\n",
    "\n",
    "##### Vehicles that receive the SmartWay certification are very good environmental performers relative to other vehicles\n",
    "\n",
    "\n",
    "### Question(s) for Analysis\n",
    "##### The number of movies each year ?!\n",
    "##### Budget vs vote average in one year!\n",
    "##### Duration of the movie vs Popularity\n",
    "For this question I will explore the following properties of the Vehicles with respect to the SmartWay certification Vehicles:\n",
    "<br><br><br><br>\n",
    "### Predict SmartWay?"
   ]
  },
  {
   "cell_type": "markdown",
   "metadata": {},
   "source": [
    "<a id='wrangling'></a>\n",
    "## Data Wrangling\n",
    "\n",
    ">  After loading the datset, I will use Pandas to explore some helpful methods for assessing and building intuition about the dataset, then I will proceed with the cleaning process to include only the relavent data related to the questions I will apply on the dataset for the analysis process and delete the unused data.\n",
    "\n",
    "\n",
    "### General Properties\n",
    ">  load my dataset to explore data. "
   ]
  },
  {
   "cell_type": "code",
   "execution_count": 1,
   "metadata": {},
   "outputs": [],
   "source": [
    "import pandas as pd\n",
    "df_08=pd.read_excel('all_alpha_08.xls')\n",
    "df_9=pd.read_excel('all_alpha_09.xls')\n",
    "df_10=pd.read_excel('all_alpha_10.xls')\n",
    "df_11=pd.read_excel('all_alpha_11.xlsx')\n",
    "df_12=pd.read_excel('all_alpha_12.xlsx')\n",
    "df_13=pd.read_excel('all_alpha_13.xlsx')\n",
    "df_14=pd.read_excel('all_alpha_14.xlsx')\n",
    "df_15=pd.read_excel('all_alpha_15.xlsx')\n",
    "df_16=pd.read_excel('all_alpha_16.xlsx')\n",
    "df_17=pd.read_excel('all_alpha_17.xlsx')\n",
    "df_18=pd.read_excel('all_alpha_18.xlsx')\n",
    "df_19=pd.read_excel('all_alpha_19.xlsx')\n",
    "df_20=pd.read_excel('all_alpha_20.xlsx')\n",
    "df_21=pd.read_excel('all_alpha_21.xlsx')\n",
    "df_22=pd.read_excel('all_alpha_22.xlsx')"
   ]
  },
  {
   "cell_type": "markdown",
   "metadata": {},
   "source": [
    "## Cleaning Column Labels"
   ]
  },
  {
   "cell_type": "code",
   "execution_count": 2,
   "metadata": {},
   "outputs": [
    {
     "name": "stdout",
     "output_type": "stream",
     "text": [
      "<class 'pandas.core.frame.DataFrame'>\n",
      "RangeIndex: 2404 entries, 0 to 2403\n",
      "Data columns (total 18 columns):\n",
      " #   Column                Non-Null Count  Dtype  \n",
      "---  ------                --------------  -----  \n",
      " 0   Model                 2404 non-null   object \n",
      " 1   Displ                 2404 non-null   float64\n",
      " 2   Cyl                   2205 non-null   object \n",
      " 3   Trans                 2205 non-null   object \n",
      " 4   Drive                 2311 non-null   object \n",
      " 5   Fuel                  2404 non-null   object \n",
      " 6   Sales Area            2404 non-null   object \n",
      " 7   Stnd                  2404 non-null   object \n",
      " 8   Underhood ID          2404 non-null   object \n",
      " 9   Veh Class             2404 non-null   object \n",
      " 10  Air Pollution Score   2404 non-null   object \n",
      " 11  FE Calc Appr          2205 non-null   object \n",
      " 12  City MPG              2205 non-null   object \n",
      " 13  Hwy MPG               2205 non-null   object \n",
      " 14  Cmb MPG               2205 non-null   object \n",
      " 15  Unadj Cmb MPG         2205 non-null   float64\n",
      " 16  Greenhouse Gas Score  2205 non-null   object \n",
      " 17  SmartWay              2404 non-null   object \n",
      "dtypes: float64(2), object(16)\n",
      "memory usage: 338.2+ KB\n"
     ]
    }
   ],
   "source": [
    "df_08.info()"
   ]
  },
  {
   "cell_type": "code",
   "execution_count": 3,
   "metadata": {},
   "outputs": [
    {
     "data": {
      "text/html": [
       "<div>\n",
       "<style scoped>\n",
       "    .dataframe tbody tr th:only-of-type {\n",
       "        vertical-align: middle;\n",
       "    }\n",
       "\n",
       "    .dataframe tbody tr th {\n",
       "        vertical-align: top;\n",
       "    }\n",
       "\n",
       "    .dataframe thead th {\n",
       "        text-align: right;\n",
       "    }\n",
       "</style>\n",
       "<table border=\"1\" class=\"dataframe\">\n",
       "  <thead>\n",
       "    <tr style=\"text-align: right;\">\n",
       "      <th></th>\n",
       "      <th>Model</th>\n",
       "      <th>Displ</th>\n",
       "      <th>Cyl</th>\n",
       "      <th>Trans</th>\n",
       "      <th>Drive</th>\n",
       "      <th>Fuel</th>\n",
       "      <th>Sales Area</th>\n",
       "      <th>Veh Class</th>\n",
       "      <th>Air Pollution Score</th>\n",
       "      <th>City MPG</th>\n",
       "      <th>Hwy MPG</th>\n",
       "      <th>Cmb MPG</th>\n",
       "      <th>Greenhouse Gas Score</th>\n",
       "      <th>SmartWay</th>\n",
       "    </tr>\n",
       "  </thead>\n",
       "  <tbody>\n",
       "    <tr>\n",
       "      <th>0</th>\n",
       "      <td>ACURA MDX</td>\n",
       "      <td>3.7</td>\n",
       "      <td>(6 cyl)</td>\n",
       "      <td>Auto-S5</td>\n",
       "      <td>4WD</td>\n",
       "      <td>Gasoline</td>\n",
       "      <td>CA</td>\n",
       "      <td>SUV</td>\n",
       "      <td>7</td>\n",
       "      <td>15</td>\n",
       "      <td>20</td>\n",
       "      <td>17</td>\n",
       "      <td>4</td>\n",
       "      <td>no</td>\n",
       "    </tr>\n",
       "  </tbody>\n",
       "</table>\n",
       "</div>"
      ],
      "text/plain": [
       "       Model  Displ      Cyl    Trans Drive      Fuel Sales Area Veh Class  \\\n",
       "0  ACURA MDX    3.7  (6 cyl)  Auto-S5   4WD  Gasoline         CA       SUV   \n",
       "\n",
       "  Air Pollution Score City MPG Hwy MPG Cmb MPG Greenhouse Gas Score SmartWay  \n",
       "0                   7       15      20      17                    4       no  "
      ]
     },
     "execution_count": 3,
     "metadata": {},
     "output_type": "execute_result"
    }
   ],
   "source": [
    "df_08.drop(['Stnd', 'Underhood ID', 'FE Calc Appr', 'Unadj Cmb MPG'], axis=1, inplace=True)\n",
    "\n",
    "# confirm changes\n",
    "df_08.head(1)"
   ]
  },
  {
   "cell_type": "code",
   "execution_count": 4,
   "metadata": {},
   "outputs": [
    {
     "name": "stdout",
     "output_type": "stream",
     "text": [
      "<class 'pandas.core.frame.DataFrame'>\n",
      "RangeIndex: 2561 entries, 0 to 2560\n",
      "Data columns (total 17 columns):\n",
      " #   Column                Non-Null Count  Dtype  \n",
      "---  ------                --------------  -----  \n",
      " 0   Model                 2561 non-null   object \n",
      " 1   Displ                 2561 non-null   float64\n",
      " 2   Cyl                   2363 non-null   float64\n",
      " 3   Trans                 2561 non-null   object \n",
      " 4   Drive                 2561 non-null   object \n",
      " 5   Fuel                  2561 non-null   object \n",
      " 6   Sales Area            2561 non-null   object \n",
      " 7   Stnd                  2561 non-null   object \n",
      " 8   Stnd Description      2561 non-null   object \n",
      " 9   Underhood ID          2561 non-null   object \n",
      " 10  Veh Class             2561 non-null   object \n",
      " 11  Air Pollution Score   2561 non-null   object \n",
      " 12  City MPG              2363 non-null   object \n",
      " 13  Hwy MPG               2363 non-null   object \n",
      " 14  Cmb MPG               2363 non-null   object \n",
      " 15  Greenhouse Gas Score  2363 non-null   object \n",
      " 16  SmartWay              2561 non-null   object \n",
      "dtypes: float64(2), object(15)\n",
      "memory usage: 340.3+ KB\n"
     ]
    }
   ],
   "source": [
    "df_9.info()"
   ]
  },
  {
   "cell_type": "code",
   "execution_count": 5,
   "metadata": {},
   "outputs": [],
   "source": [
    "df_9.drop(['Stnd','Stnd Description', 'Underhood ID',], axis=1, inplace=True)\n"
   ]
  },
  {
   "cell_type": "code",
   "execution_count": 6,
   "metadata": {},
   "outputs": [
    {
     "name": "stdout",
     "output_type": "stream",
     "text": [
      "<class 'pandas.core.frame.DataFrame'>\n",
      "RangeIndex: 2326 entries, 0 to 2325\n",
      "Data columns (total 17 columns):\n",
      " #   Column                Non-Null Count  Dtype  \n",
      "---  ------                --------------  -----  \n",
      " 0   Model                 2326 non-null   object \n",
      " 1   Displ                 2322 non-null   float64\n",
      " 2   Cyl                   2322 non-null   float64\n",
      " 3   Trans                 2326 non-null   object \n",
      " 4   Drive                 2326 non-null   object \n",
      " 5   Fuel                  2326 non-null   object \n",
      " 6   Sales Area            2326 non-null   object \n",
      " 7   Stnd                  2326 non-null   object \n",
      " 8   Stnd Description      2326 non-null   object \n",
      " 9   Underhood ID          2326 non-null   object \n",
      " 10  Veh Class             2326 non-null   object \n",
      " 11  Air Pollution Score   2326 non-null   object \n",
      " 12  City MPG              2155 non-null   object \n",
      " 13  Hwy MPG               2155 non-null   object \n",
      " 14  Cmb MPG               2155 non-null   object \n",
      " 15  Greenhouse Gas Score  2157 non-null   object \n",
      " 16  SmartWay              2326 non-null   object \n",
      "dtypes: float64(2), object(15)\n",
      "memory usage: 309.0+ KB\n"
     ]
    }
   ],
   "source": [
    "df_10.info()"
   ]
  },
  {
   "cell_type": "code",
   "execution_count": 7,
   "metadata": {},
   "outputs": [],
   "source": [
    "df_10.drop(['Stnd','Stnd Description', 'Underhood ID',], axis=1, inplace=True)"
   ]
  },
  {
   "cell_type": "code",
   "execution_count": 8,
   "metadata": {},
   "outputs": [
    {
     "name": "stdout",
     "output_type": "stream",
     "text": [
      "<class 'pandas.core.frame.DataFrame'>\n",
      "RangeIndex: 2171 entries, 0 to 2170\n",
      "Data columns (total 17 columns):\n",
      " #   Column                Non-Null Count  Dtype  \n",
      "---  ------                --------------  -----  \n",
      " 0   Model                 2171 non-null   object \n",
      " 1   Displ                 2165 non-null   float64\n",
      " 2   Cyl                   2154 non-null   float64\n",
      " 3   Trans                 2171 non-null   object \n",
      " 4   Drive                 2171 non-null   object \n",
      " 5   Fuel                  2171 non-null   object \n",
      " 6   Sales Area            2171 non-null   object \n",
      " 7   Stnd                  2171 non-null   object \n",
      " 8   Stnd Description      2171 non-null   object \n",
      " 9   Underhood ID          2171 non-null   object \n",
      " 10  Veh Class             2171 non-null   object \n",
      " 11  Air Pollution Score   2171 non-null   object \n",
      " 12  City MPG              2028 non-null   object \n",
      " 13  Hwy MPG               2028 non-null   object \n",
      " 14  Cmb MPG               2028 non-null   object \n",
      " 15  Greenhouse Gas Score  2033 non-null   object \n",
      " 16  SmartWay              2171 non-null   object \n",
      "dtypes: float64(2), object(15)\n",
      "memory usage: 288.5+ KB\n"
     ]
    }
   ],
   "source": [
    "df_11.info()"
   ]
  },
  {
   "cell_type": "code",
   "execution_count": 9,
   "metadata": {},
   "outputs": [
    {
     "data": {
      "text/html": [
       "<div>\n",
       "<style scoped>\n",
       "    .dataframe tbody tr th:only-of-type {\n",
       "        vertical-align: middle;\n",
       "    }\n",
       "\n",
       "    .dataframe tbody tr th {\n",
       "        vertical-align: top;\n",
       "    }\n",
       "\n",
       "    .dataframe thead th {\n",
       "        text-align: right;\n",
       "    }\n",
       "</style>\n",
       "<table border=\"1\" class=\"dataframe\">\n",
       "  <thead>\n",
       "    <tr style=\"text-align: right;\">\n",
       "      <th></th>\n",
       "      <th>Model</th>\n",
       "      <th>Displ</th>\n",
       "      <th>Cyl</th>\n",
       "      <th>Trans</th>\n",
       "      <th>Drive</th>\n",
       "      <th>Fuel</th>\n",
       "      <th>Sales Area</th>\n",
       "      <th>Veh Class</th>\n",
       "      <th>Air Pollution Score</th>\n",
       "      <th>City MPG</th>\n",
       "      <th>Hwy MPG</th>\n",
       "      <th>Cmb MPG</th>\n",
       "      <th>Greenhouse Gas Score</th>\n",
       "      <th>SmartWay</th>\n",
       "    </tr>\n",
       "  </thead>\n",
       "  <tbody>\n",
       "    <tr>\n",
       "      <th>0</th>\n",
       "      <td>ACURA MDX</td>\n",
       "      <td>3.5</td>\n",
       "      <td>6.0</td>\n",
       "      <td>SemiAuto-6</td>\n",
       "      <td>4WD</td>\n",
       "      <td>Gasoline</td>\n",
       "      <td>CA</td>\n",
       "      <td>SUV</td>\n",
       "      <td>6</td>\n",
       "      <td>16</td>\n",
       "      <td>21</td>\n",
       "      <td>18</td>\n",
       "      <td>3</td>\n",
       "      <td>no</td>\n",
       "    </tr>\n",
       "  </tbody>\n",
       "</table>\n",
       "</div>"
      ],
      "text/plain": [
       "       Model  Displ  Cyl       Trans Drive      Fuel Sales Area Veh Class  \\\n",
       "0  ACURA MDX    3.5  6.0  SemiAuto-6   4WD  Gasoline         CA       SUV   \n",
       "\n",
       "  Air Pollution Score City MPG Hwy MPG Cmb MPG Greenhouse Gas Score SmartWay  \n",
       "0                   6       16      21      18                    3       no  "
      ]
     },
     "execution_count": 9,
     "metadata": {},
     "output_type": "execute_result"
    }
   ],
   "source": [
    "df_11.drop(['Stnd','Stnd Description', 'Underhood ID',], axis=1, inplace=True)\n",
    "# confirm changes\n",
    "df_11.head(1)"
   ]
  },
  {
   "cell_type": "code",
   "execution_count": 10,
   "metadata": {},
   "outputs": [
    {
     "name": "stdout",
     "output_type": "stream",
     "text": [
      "<class 'pandas.core.frame.DataFrame'>\n",
      "RangeIndex: 2252 entries, 0 to 2251\n",
      "Data columns (total 17 columns):\n",
      " #   Column                Non-Null Count  Dtype  \n",
      "---  ------                --------------  -----  \n",
      " 0   Model                 2252 non-null   object \n",
      " 1   Displ                 2240 non-null   float64\n",
      " 2   Cyl                   2240 non-null   float64\n",
      " 3   Trans                 2252 non-null   object \n",
      " 4   Drive                 2252 non-null   object \n",
      " 5   Fuel                  2252 non-null   object \n",
      " 6   Sales Area            2252 non-null   object \n",
      " 7   Stnd                  2252 non-null   object \n",
      " 8   Stnd Description      2252 non-null   object \n",
      " 9   Underhood ID          2252 non-null   object \n",
      " 10  Veh Class             2252 non-null   object \n",
      " 11  Air Pollution Score   2252 non-null   object \n",
      " 12  City MPG              2107 non-null   object \n",
      " 13  Hwy MPG               2107 non-null   object \n",
      " 14  Cmb MPG               2107 non-null   object \n",
      " 15  Greenhouse Gas Score  2107 non-null   object \n",
      " 16  SmartWay              2252 non-null   object \n",
      "dtypes: float64(2), object(15)\n",
      "memory usage: 299.2+ KB\n"
     ]
    }
   ],
   "source": [
    "df_12.info()"
   ]
  },
  {
   "cell_type": "code",
   "execution_count": 11,
   "metadata": {},
   "outputs": [
    {
     "data": {
      "text/html": [
       "<div>\n",
       "<style scoped>\n",
       "    .dataframe tbody tr th:only-of-type {\n",
       "        vertical-align: middle;\n",
       "    }\n",
       "\n",
       "    .dataframe tbody tr th {\n",
       "        vertical-align: top;\n",
       "    }\n",
       "\n",
       "    .dataframe thead th {\n",
       "        text-align: right;\n",
       "    }\n",
       "</style>\n",
       "<table border=\"1\" class=\"dataframe\">\n",
       "  <thead>\n",
       "    <tr style=\"text-align: right;\">\n",
       "      <th></th>\n",
       "      <th>Model</th>\n",
       "      <th>Displ</th>\n",
       "      <th>Cyl</th>\n",
       "      <th>Trans</th>\n",
       "      <th>Drive</th>\n",
       "      <th>Fuel</th>\n",
       "      <th>Sales Area</th>\n",
       "      <th>Veh Class</th>\n",
       "      <th>Air Pollution Score</th>\n",
       "      <th>City MPG</th>\n",
       "      <th>Hwy MPG</th>\n",
       "      <th>Cmb MPG</th>\n",
       "      <th>Greenhouse Gas Score</th>\n",
       "      <th>SmartWay</th>\n",
       "    </tr>\n",
       "  </thead>\n",
       "  <tbody>\n",
       "    <tr>\n",
       "      <th>0</th>\n",
       "      <td>ACURA MDX</td>\n",
       "      <td>3.7</td>\n",
       "      <td>6.0</td>\n",
       "      <td>SemiAuto-6</td>\n",
       "      <td>4WD</td>\n",
       "      <td>Gasoline</td>\n",
       "      <td>FA</td>\n",
       "      <td>SUV</td>\n",
       "      <td>5</td>\n",
       "      <td>16</td>\n",
       "      <td>21</td>\n",
       "      <td>18</td>\n",
       "      <td>3</td>\n",
       "      <td>no</td>\n",
       "    </tr>\n",
       "  </tbody>\n",
       "</table>\n",
       "</div>"
      ],
      "text/plain": [
       "       Model  Displ  Cyl       Trans Drive      Fuel Sales Area Veh Class  \\\n",
       "0  ACURA MDX    3.7  6.0  SemiAuto-6   4WD  Gasoline         FA       SUV   \n",
       "\n",
       "  Air Pollution Score City MPG Hwy MPG Cmb MPG Greenhouse Gas Score SmartWay  \n",
       "0                   5       16      21      18                    3       no  "
      ]
     },
     "execution_count": 11,
     "metadata": {},
     "output_type": "execute_result"
    }
   ],
   "source": [
    "df_12.drop(['Stnd','Stnd Description', 'Underhood ID',], axis=1, inplace=True)\n",
    "# confirm changes\n",
    "df_12.head(1)\n"
   ]
  },
  {
   "cell_type": "code",
   "execution_count": 12,
   "metadata": {},
   "outputs": [
    {
     "name": "stdout",
     "output_type": "stream",
     "text": [
      "<class 'pandas.core.frame.DataFrame'>\n",
      "RangeIndex: 2397 entries, 0 to 2396\n",
      "Data columns (total 18 columns):\n",
      " #   Column                Non-Null Count  Dtype  \n",
      "---  ------                --------------  -----  \n",
      " 0   Model                 2397 non-null   object \n",
      " 1   Displ                 2372 non-null   float64\n",
      " 2   Cyl                   2372 non-null   float64\n",
      " 3   Trans                 2397 non-null   object \n",
      " 4   Drive                 2397 non-null   object \n",
      " 5   Fuel                  2397 non-null   object \n",
      " 6   Sales Area            2397 non-null   object \n",
      " 7   Stnd                  2397 non-null   object \n",
      " 8   Stnd Description      2397 non-null   object \n",
      " 9   Underhood ID          2397 non-null   object \n",
      " 10  Veh Class             2397 non-null   object \n",
      " 11  Air Pollution Score   2397 non-null   object \n",
      " 12  City MPG              2230 non-null   object \n",
      " 13  Hwy MPG               2230 non-null   object \n",
      " 14  Cmb MPG               2230 non-null   object \n",
      " 15  Greenhouse Gas Score  2230 non-null   object \n",
      " 16  SmartWay              2397 non-null   object \n",
      " 17  Comb CO2              2230 non-null   object \n",
      "dtypes: float64(2), object(16)\n",
      "memory usage: 337.2+ KB\n"
     ]
    }
   ],
   "source": [
    "df_13.info()"
   ]
  },
  {
   "cell_type": "code",
   "execution_count": 13,
   "metadata": {},
   "outputs": [
    {
     "data": {
      "text/html": [
       "<div>\n",
       "<style scoped>\n",
       "    .dataframe tbody tr th:only-of-type {\n",
       "        vertical-align: middle;\n",
       "    }\n",
       "\n",
       "    .dataframe tbody tr th {\n",
       "        vertical-align: top;\n",
       "    }\n",
       "\n",
       "    .dataframe thead th {\n",
       "        text-align: right;\n",
       "    }\n",
       "</style>\n",
       "<table border=\"1\" class=\"dataframe\">\n",
       "  <thead>\n",
       "    <tr style=\"text-align: right;\">\n",
       "      <th></th>\n",
       "      <th>Model</th>\n",
       "      <th>Displ</th>\n",
       "      <th>Cyl</th>\n",
       "      <th>Trans</th>\n",
       "      <th>Drive</th>\n",
       "      <th>Fuel</th>\n",
       "      <th>Sales Area</th>\n",
       "      <th>Veh Class</th>\n",
       "      <th>Air Pollution Score</th>\n",
       "      <th>City MPG</th>\n",
       "      <th>Hwy MPG</th>\n",
       "      <th>Cmb MPG</th>\n",
       "      <th>Greenhouse Gas Score</th>\n",
       "      <th>SmartWay</th>\n",
       "      <th>Comb CO2</th>\n",
       "    </tr>\n",
       "  </thead>\n",
       "  <tbody>\n",
       "    <tr>\n",
       "      <th>0</th>\n",
       "      <td>ACURA ILX</td>\n",
       "      <td>1.5</td>\n",
       "      <td>4.0</td>\n",
       "      <td>SCV-7</td>\n",
       "      <td>2WD</td>\n",
       "      <td>Gasoline</td>\n",
       "      <td>FC</td>\n",
       "      <td>small car</td>\n",
       "      <td>7</td>\n",
       "      <td>39</td>\n",
       "      <td>38</td>\n",
       "      <td>38</td>\n",
       "      <td>9</td>\n",
       "      <td>Yes</td>\n",
       "      <td>228</td>\n",
       "    </tr>\n",
       "  </tbody>\n",
       "</table>\n",
       "</div>"
      ],
      "text/plain": [
       "       Model  Displ  Cyl  Trans Drive      Fuel Sales Area  Veh Class  \\\n",
       "0  ACURA ILX    1.5  4.0  SCV-7   2WD  Gasoline         FC  small car   \n",
       "\n",
       "  Air Pollution Score City MPG Hwy MPG Cmb MPG Greenhouse Gas Score SmartWay  \\\n",
       "0                   7       39      38      38                    9      Yes   \n",
       "\n",
       "  Comb CO2  \n",
       "0      228  "
      ]
     },
     "execution_count": 13,
     "metadata": {},
     "output_type": "execute_result"
    }
   ],
   "source": [
    "df_13.drop(['Stnd','Stnd Description', 'Underhood ID','Comb CO2'], axis=1, inplace=True)\n",
    "# confirm changes\n",
    "df_13.head(1)"
   ]
  },
  {
   "cell_type": "code",
   "execution_count": 14,
   "metadata": {},
   "outputs": [
    {
     "name": "stdout",
     "output_type": "stream",
     "text": [
      "<class 'pandas.core.frame.DataFrame'>\n",
      "RangeIndex: 2517 entries, 0 to 2516\n",
      "Data columns (total 18 columns):\n",
      " #   Column                Non-Null Count  Dtype  \n",
      "---  ------                --------------  -----  \n",
      " 0   Model                 2517 non-null   object \n",
      " 1   Displ                 2487 non-null   float64\n",
      " 2   Cyl                   2487 non-null   float64\n",
      " 3   Trans                 2517 non-null   object \n",
      " 4   Drive                 2517 non-null   object \n",
      " 5   Fuel                  2517 non-null   object \n",
      " 6   Sales Area            2517 non-null   object \n",
      " 7   Stnd                  2517 non-null   object \n",
      " 8   Stnd Description      2517 non-null   object \n",
      " 9   Underhood ID          2517 non-null   object \n",
      " 10  Veh Class             2517 non-null   object \n",
      " 11  Air Pollution Score   2517 non-null   object \n",
      " 12  City MPG              2320 non-null   object \n",
      " 13  Hwy MPG               2320 non-null   object \n",
      " 14  Cmb MPG               2320 non-null   object \n",
      " 15  Greenhouse Gas Score  2320 non-null   object \n",
      " 16  SmartWay              2517 non-null   object \n",
      " 17  Comb CO2              2320 non-null   object \n",
      "dtypes: float64(2), object(16)\n",
      "memory usage: 354.1+ KB\n"
     ]
    }
   ],
   "source": [
    "df_14.info()"
   ]
  },
  {
   "cell_type": "code",
   "execution_count": 15,
   "metadata": {},
   "outputs": [
    {
     "data": {
      "text/html": [
       "<div>\n",
       "<style scoped>\n",
       "    .dataframe tbody tr th:only-of-type {\n",
       "        vertical-align: middle;\n",
       "    }\n",
       "\n",
       "    .dataframe tbody tr th {\n",
       "        vertical-align: top;\n",
       "    }\n",
       "\n",
       "    .dataframe thead th {\n",
       "        text-align: right;\n",
       "    }\n",
       "</style>\n",
       "<table border=\"1\" class=\"dataframe\">\n",
       "  <thead>\n",
       "    <tr style=\"text-align: right;\">\n",
       "      <th></th>\n",
       "      <th>Model</th>\n",
       "      <th>Displ</th>\n",
       "      <th>Cyl</th>\n",
       "      <th>Trans</th>\n",
       "      <th>Drive</th>\n",
       "      <th>Fuel</th>\n",
       "      <th>Sales Area</th>\n",
       "      <th>Veh Class</th>\n",
       "      <th>Air Pollution Score</th>\n",
       "      <th>City MPG</th>\n",
       "      <th>Hwy MPG</th>\n",
       "      <th>Cmb MPG</th>\n",
       "      <th>Greenhouse Gas Score</th>\n",
       "      <th>SmartWay</th>\n",
       "      <th>Comb CO2</th>\n",
       "    </tr>\n",
       "  </thead>\n",
       "  <tbody>\n",
       "    <tr>\n",
       "      <th>0</th>\n",
       "      <td>ACURA ILX</td>\n",
       "      <td>1.5</td>\n",
       "      <td>4.0</td>\n",
       "      <td>SCV-7</td>\n",
       "      <td>2WD</td>\n",
       "      <td>Gasoline</td>\n",
       "      <td>FA</td>\n",
       "      <td>small car</td>\n",
       "      <td>9</td>\n",
       "      <td>39</td>\n",
       "      <td>38</td>\n",
       "      <td>38</td>\n",
       "      <td>9</td>\n",
       "      <td>Yes</td>\n",
       "      <td>228</td>\n",
       "    </tr>\n",
       "  </tbody>\n",
       "</table>\n",
       "</div>"
      ],
      "text/plain": [
       "       Model  Displ  Cyl  Trans Drive      Fuel Sales Area  Veh Class  \\\n",
       "0  ACURA ILX    1.5  4.0  SCV-7   2WD  Gasoline         FA  small car   \n",
       "\n",
       "  Air Pollution Score City MPG Hwy MPG Cmb MPG Greenhouse Gas Score SmartWay  \\\n",
       "0                   9       39      38      38                    9      Yes   \n",
       "\n",
       "  Comb CO2  \n",
       "0      228  "
      ]
     },
     "execution_count": 15,
     "metadata": {},
     "output_type": "execute_result"
    }
   ],
   "source": [
    "df_14.drop(['Stnd','Stnd Description', 'Underhood ID',' Comb CO2'], axis=1, inplace=True)\n",
    "# confirm changes\n",
    "df_14.head(1)"
   ]
  },
  {
   "cell_type": "code",
   "execution_count": 16,
   "metadata": {},
   "outputs": [
    {
     "name": "stdout",
     "output_type": "stream",
     "text": [
      "<class 'pandas.core.frame.DataFrame'>\n",
      "RangeIndex: 2653 entries, 0 to 2652\n",
      "Data columns (total 18 columns):\n",
      " #   Column                Non-Null Count  Dtype  \n",
      "---  ------                --------------  -----  \n",
      " 0   Model                 2653 non-null   object \n",
      " 1   Displ                 2621 non-null   float64\n",
      " 2   Cyl                   2621 non-null   float64\n",
      " 3   Trans                 2653 non-null   object \n",
      " 4   Drive                 2653 non-null   object \n",
      " 5   Fuel                  2653 non-null   object \n",
      " 6   Sales Area            2653 non-null   object \n",
      " 7   Stnd                  2653 non-null   object \n",
      " 8   Stnd Description      2653 non-null   object \n",
      " 9   Underhood ID          2653 non-null   object \n",
      " 10  Veh Class             2653 non-null   object \n",
      " 11  Air Pollution Score   2653 non-null   object \n",
      " 12  City MPG              2385 non-null   object \n",
      " 13  Hwy MPG               2385 non-null   object \n",
      " 14  Cmb MPG               2385 non-null   object \n",
      " 15  Greenhouse Gas Score  2385 non-null   object \n",
      " 16  SmartWay              2653 non-null   object \n",
      " 17  Comb CO2              2385 non-null   object \n",
      "dtypes: float64(2), object(16)\n",
      "memory usage: 373.2+ KB\n"
     ]
    }
   ],
   "source": [
    "df_15.info()"
   ]
  },
  {
   "cell_type": "code",
   "execution_count": 17,
   "metadata": {},
   "outputs": [
    {
     "data": {
      "text/html": [
       "<div>\n",
       "<style scoped>\n",
       "    .dataframe tbody tr th:only-of-type {\n",
       "        vertical-align: middle;\n",
       "    }\n",
       "\n",
       "    .dataframe tbody tr th {\n",
       "        vertical-align: top;\n",
       "    }\n",
       "\n",
       "    .dataframe thead th {\n",
       "        text-align: right;\n",
       "    }\n",
       "</style>\n",
       "<table border=\"1\" class=\"dataframe\">\n",
       "  <thead>\n",
       "    <tr style=\"text-align: right;\">\n",
       "      <th></th>\n",
       "      <th>Model</th>\n",
       "      <th>Displ</th>\n",
       "      <th>Cyl</th>\n",
       "      <th>Trans</th>\n",
       "      <th>Drive</th>\n",
       "      <th>Fuel</th>\n",
       "      <th>Sales Area</th>\n",
       "      <th>Veh Class</th>\n",
       "      <th>Air Pollution Score</th>\n",
       "      <th>City MPG</th>\n",
       "      <th>Hwy MPG</th>\n",
       "      <th>Cmb MPG</th>\n",
       "      <th>Greenhouse Gas Score</th>\n",
       "      <th>SmartWay</th>\n",
       "      <th>Comb CO2</th>\n",
       "    </tr>\n",
       "  </thead>\n",
       "  <tbody>\n",
       "    <tr>\n",
       "      <th>0</th>\n",
       "      <td>ACURA ILX</td>\n",
       "      <td>2.0</td>\n",
       "      <td>4.0</td>\n",
       "      <td>SemiAuto-5</td>\n",
       "      <td>2WD</td>\n",
       "      <td>Gasoline</td>\n",
       "      <td>FA</td>\n",
       "      <td>small car</td>\n",
       "      <td>5</td>\n",
       "      <td>24</td>\n",
       "      <td>35</td>\n",
       "      <td>28</td>\n",
       "      <td>7</td>\n",
       "      <td>No</td>\n",
       "      <td>316</td>\n",
       "    </tr>\n",
       "  </tbody>\n",
       "</table>\n",
       "</div>"
      ],
      "text/plain": [
       "       Model  Displ  Cyl       Trans Drive      Fuel Sales Area  Veh Class  \\\n",
       "0  ACURA ILX    2.0  4.0  SemiAuto-5   2WD  Gasoline         FA  small car   \n",
       "\n",
       "  Air Pollution Score City MPG Hwy MPG Cmb MPG Greenhouse Gas Score SmartWay  \\\n",
       "0                   5       24      35      28                    7       No   \n",
       "\n",
       "  Comb CO2  \n",
       "0      316  "
      ]
     },
     "execution_count": 17,
     "metadata": {},
     "output_type": "execute_result"
    }
   ],
   "source": [
    "df_15.drop(['Stnd','Stnd Description', 'Underhood ID','Comb CO2'], axis=1, inplace=True)\n",
    "# confirm changes\n",
    "df_15.head(1)"
   ]
  },
  {
   "cell_type": "code",
   "execution_count": 18,
   "metadata": {},
   "outputs": [
    {
     "name": "stdout",
     "output_type": "stream",
     "text": [
      "<class 'pandas.core.frame.DataFrame'>\n",
      "RangeIndex: 2589 entries, 0 to 2588\n",
      "Data columns (total 18 columns):\n",
      " #   Column                Non-Null Count  Dtype  \n",
      "---  ------                --------------  -----  \n",
      " 0   Model                 2589 non-null   object \n",
      " 1   Displ                 2529 non-null   float64\n",
      " 2   Cyl                   2529 non-null   float64\n",
      " 3   Trans                 2589 non-null   object \n",
      " 4   Drive                 2589 non-null   object \n",
      " 5   Fuel                  2589 non-null   object \n",
      " 6   Cert Region           2589 non-null   object \n",
      " 7   Stnd                  2589 non-null   object \n",
      " 8   Stnd Description      2589 non-null   object \n",
      " 9   Underhood ID          2589 non-null   object \n",
      " 10  Veh Class             2589 non-null   object \n",
      " 11  Air Pollution Score   2589 non-null   object \n",
      " 12  City MPG              2589 non-null   object \n",
      " 13  Hwy MPG               2589 non-null   object \n",
      " 14  Cmb MPG               2589 non-null   object \n",
      " 15  Greenhouse Gas Score  2589 non-null   object \n",
      " 16  SmartWay              2589 non-null   object \n",
      " 17  Comb CO2              2589 non-null   object \n",
      "dtypes: float64(2), object(16)\n",
      "memory usage: 364.2+ KB\n"
     ]
    }
   ],
   "source": [
    "df_16.info()"
   ]
  },
  {
   "cell_type": "code",
   "execution_count": 19,
   "metadata": {},
   "outputs": [
    {
     "data": {
      "text/html": [
       "<div>\n",
       "<style scoped>\n",
       "    .dataframe tbody tr th:only-of-type {\n",
       "        vertical-align: middle;\n",
       "    }\n",
       "\n",
       "    .dataframe tbody tr th {\n",
       "        vertical-align: top;\n",
       "    }\n",
       "\n",
       "    .dataframe thead th {\n",
       "        text-align: right;\n",
       "    }\n",
       "</style>\n",
       "<table border=\"1\" class=\"dataframe\">\n",
       "  <thead>\n",
       "    <tr style=\"text-align: right;\">\n",
       "      <th></th>\n",
       "      <th>Model</th>\n",
       "      <th>Displ</th>\n",
       "      <th>Cyl</th>\n",
       "      <th>Trans</th>\n",
       "      <th>Drive</th>\n",
       "      <th>Fuel</th>\n",
       "      <th>Cert Region</th>\n",
       "      <th>Veh Class</th>\n",
       "      <th>Air Pollution Score</th>\n",
       "      <th>City MPG</th>\n",
       "      <th>Hwy MPG</th>\n",
       "      <th>Cmb MPG</th>\n",
       "      <th>Greenhouse Gas Score</th>\n",
       "      <th>SmartWay</th>\n",
       "      <th>Comb CO2</th>\n",
       "    </tr>\n",
       "  </thead>\n",
       "  <tbody>\n",
       "    <tr>\n",
       "      <th>0</th>\n",
       "      <td>ACURA ILX</td>\n",
       "      <td>2.4</td>\n",
       "      <td>4.0</td>\n",
       "      <td>AutoMan-8</td>\n",
       "      <td>2WD</td>\n",
       "      <td>Gasoline</td>\n",
       "      <td>FA</td>\n",
       "      <td>small car</td>\n",
       "      <td>5</td>\n",
       "      <td>25</td>\n",
       "      <td>36</td>\n",
       "      <td>29</td>\n",
       "      <td>7</td>\n",
       "      <td>No</td>\n",
       "      <td>305</td>\n",
       "    </tr>\n",
       "  </tbody>\n",
       "</table>\n",
       "</div>"
      ],
      "text/plain": [
       "       Model  Displ  Cyl      Trans Drive      Fuel Cert Region  Veh Class  \\\n",
       "0  ACURA ILX    2.4  4.0  AutoMan-8   2WD  Gasoline          FA  small car   \n",
       "\n",
       "  Air Pollution Score City MPG Hwy MPG Cmb MPG Greenhouse Gas Score SmartWay  \\\n",
       "0                   5       25      36      29                    7       No   \n",
       "\n",
       "  Comb CO2  \n",
       "0      305  "
      ]
     },
     "execution_count": 19,
     "metadata": {},
     "output_type": "execute_result"
    }
   ],
   "source": [
    "df_16.drop(['Stnd','Stnd Description', 'Underhood ID','Comb CO2'], axis=1, inplace=True)\n",
    "# confirm changes\n",
    "df_16.head(1)"
   ]
  },
  {
   "cell_type": "code",
   "execution_count": 20,
   "metadata": {},
   "outputs": [
    {
     "name": "stdout",
     "output_type": "stream",
     "text": [
      "<class 'pandas.core.frame.DataFrame'>\n",
      "RangeIndex: 2589 entries, 0 to 2588\n",
      "Data columns (total 18 columns):\n",
      " #   Column                Non-Null Count  Dtype  \n",
      "---  ------                --------------  -----  \n",
      " 0   Model                 2589 non-null   object \n",
      " 1   Displ                 2527 non-null   float64\n",
      " 2   Cyl                   2527 non-null   float64\n",
      " 3   Trans                 2589 non-null   object \n",
      " 4   Drive                 2589 non-null   object \n",
      " 5   Fuel                  2589 non-null   object \n",
      " 6   Cert Region           2589 non-null   object \n",
      " 7   Stnd                  2589 non-null   object \n",
      " 8   Stnd Description      2589 non-null   object \n",
      " 9   Underhood ID          2589 non-null   object \n",
      " 10  Veh Class             2589 non-null   object \n",
      " 11  Air Pollution Score   2589 non-null   int64  \n",
      " 12  City MPG              2589 non-null   object \n",
      " 13  Hwy MPG               2589 non-null   object \n",
      " 14  Cmb MPG               2589 non-null   object \n",
      " 15  Greenhouse Gas Score  2589 non-null   int64  \n",
      " 16  SmartWay              2589 non-null   object \n",
      " 17  Comb CO2              2589 non-null   object \n",
      "dtypes: float64(2), int64(2), object(14)\n",
      "memory usage: 364.2+ KB\n"
     ]
    }
   ],
   "source": [
    "df_17.info()"
   ]
  },
  {
   "cell_type": "code",
   "execution_count": 21,
   "metadata": {},
   "outputs": [
    {
     "data": {
      "text/html": [
       "<div>\n",
       "<style scoped>\n",
       "    .dataframe tbody tr th:only-of-type {\n",
       "        vertical-align: middle;\n",
       "    }\n",
       "\n",
       "    .dataframe tbody tr th {\n",
       "        vertical-align: top;\n",
       "    }\n",
       "\n",
       "    .dataframe thead th {\n",
       "        text-align: right;\n",
       "    }\n",
       "</style>\n",
       "<table border=\"1\" class=\"dataframe\">\n",
       "  <thead>\n",
       "    <tr style=\"text-align: right;\">\n",
       "      <th></th>\n",
       "      <th>Model</th>\n",
       "      <th>Displ</th>\n",
       "      <th>Cyl</th>\n",
       "      <th>Trans</th>\n",
       "      <th>Drive</th>\n",
       "      <th>Fuel</th>\n",
       "      <th>Cert Region</th>\n",
       "      <th>Veh Class</th>\n",
       "      <th>Air Pollution Score</th>\n",
       "      <th>City MPG</th>\n",
       "      <th>Hwy MPG</th>\n",
       "      <th>Cmb MPG</th>\n",
       "      <th>Greenhouse Gas Score</th>\n",
       "      <th>SmartWay</th>\n",
       "      <th>Comb CO2</th>\n",
       "    </tr>\n",
       "  </thead>\n",
       "  <tbody>\n",
       "    <tr>\n",
       "      <th>0</th>\n",
       "      <td>ACURA ILX</td>\n",
       "      <td>2.4</td>\n",
       "      <td>4.0</td>\n",
       "      <td>AMS-8</td>\n",
       "      <td>2WD</td>\n",
       "      <td>Gasoline</td>\n",
       "      <td>CA</td>\n",
       "      <td>small car</td>\n",
       "      <td>6</td>\n",
       "      <td>25</td>\n",
       "      <td>35</td>\n",
       "      <td>29</td>\n",
       "      <td>7</td>\n",
       "      <td>Yes</td>\n",
       "      <td>309</td>\n",
       "    </tr>\n",
       "  </tbody>\n",
       "</table>\n",
       "</div>"
      ],
      "text/plain": [
       "       Model  Displ  Cyl  Trans Drive      Fuel Cert Region  Veh Class  \\\n",
       "0  ACURA ILX    2.4  4.0  AMS-8   2WD  Gasoline          CA  small car   \n",
       "\n",
       "   Air Pollution Score City MPG Hwy MPG Cmb MPG  Greenhouse Gas Score  \\\n",
       "0                    6       25      35      29                     7   \n",
       "\n",
       "  SmartWay Comb CO2  \n",
       "0      Yes      309  "
      ]
     },
     "execution_count": 21,
     "metadata": {},
     "output_type": "execute_result"
    }
   ],
   "source": [
    "df_17.drop(['Stnd','Stnd Description', 'Underhood ID','Comb CO2'], axis=1, inplace=True)\n",
    "# confirm changes\n",
    "df_17.head(1)"
   ]
  },
  {
   "cell_type": "code",
   "execution_count": 22,
   "metadata": {},
   "outputs": [
    {
     "name": "stdout",
     "output_type": "stream",
     "text": [
      "<class 'pandas.core.frame.DataFrame'>\n",
      "RangeIndex: 2713 entries, 0 to 2712\n",
      "Data columns (total 18 columns):\n",
      " #   Column                Non-Null Count  Dtype  \n",
      "---  ------                --------------  -----  \n",
      " 0   Model                 2713 non-null   object \n",
      " 1   Displ                 2663 non-null   float64\n",
      " 2   Cyl                   2663 non-null   float64\n",
      " 3   Trans                 2713 non-null   object \n",
      " 4   Drive                 2713 non-null   object \n",
      " 5   Fuel                  2713 non-null   object \n",
      " 6   Cert Region           2713 non-null   object \n",
      " 7   Stnd                  2713 non-null   object \n",
      " 8   Stnd Description      2713 non-null   object \n",
      " 9   Underhood ID          2713 non-null   object \n",
      " 10  Veh Class             2713 non-null   object \n",
      " 11  Air Pollution Score   2713 non-null   int64  \n",
      " 12  City MPG              2713 non-null   object \n",
      " 13  Hwy MPG               2713 non-null   object \n",
      " 14  Cmb MPG               2713 non-null   object \n",
      " 15  Greenhouse Gas Score  2713 non-null   int64  \n",
      " 16  SmartWay              2713 non-null   object \n",
      " 17  Comb CO2              2713 non-null   object \n",
      "dtypes: float64(2), int64(2), object(14)\n",
      "memory usage: 381.6+ KB\n"
     ]
    }
   ],
   "source": [
    "df_18.info()"
   ]
  },
  {
   "cell_type": "code",
   "execution_count": 23,
   "metadata": {},
   "outputs": [
    {
     "data": {
      "text/html": [
       "<div>\n",
       "<style scoped>\n",
       "    .dataframe tbody tr th:only-of-type {\n",
       "        vertical-align: middle;\n",
       "    }\n",
       "\n",
       "    .dataframe tbody tr th {\n",
       "        vertical-align: top;\n",
       "    }\n",
       "\n",
       "    .dataframe thead th {\n",
       "        text-align: right;\n",
       "    }\n",
       "</style>\n",
       "<table border=\"1\" class=\"dataframe\">\n",
       "  <thead>\n",
       "    <tr style=\"text-align: right;\">\n",
       "      <th></th>\n",
       "      <th>Model</th>\n",
       "      <th>Displ</th>\n",
       "      <th>Cyl</th>\n",
       "      <th>Trans</th>\n",
       "      <th>Drive</th>\n",
       "      <th>Fuel</th>\n",
       "      <th>Cert Region</th>\n",
       "      <th>Veh Class</th>\n",
       "      <th>Air Pollution Score</th>\n",
       "      <th>City MPG</th>\n",
       "      <th>Hwy MPG</th>\n",
       "      <th>Cmb MPG</th>\n",
       "      <th>Greenhouse Gas Score</th>\n",
       "      <th>SmartWay</th>\n",
       "    </tr>\n",
       "  </thead>\n",
       "  <tbody>\n",
       "    <tr>\n",
       "      <th>0</th>\n",
       "      <td>ACURA ILX</td>\n",
       "      <td>2.4</td>\n",
       "      <td>4.0</td>\n",
       "      <td>AMS-8</td>\n",
       "      <td>2WD</td>\n",
       "      <td>Gasoline</td>\n",
       "      <td>CA</td>\n",
       "      <td>small car</td>\n",
       "      <td>3</td>\n",
       "      <td>25</td>\n",
       "      <td>35</td>\n",
       "      <td>29</td>\n",
       "      <td>6</td>\n",
       "      <td>No</td>\n",
       "    </tr>\n",
       "  </tbody>\n",
       "</table>\n",
       "</div>"
      ],
      "text/plain": [
       "       Model  Displ  Cyl  Trans Drive      Fuel Cert Region  Veh Class  \\\n",
       "0  ACURA ILX    2.4  4.0  AMS-8   2WD  Gasoline          CA  small car   \n",
       "\n",
       "   Air Pollution Score City MPG Hwy MPG Cmb MPG  Greenhouse Gas Score SmartWay  \n",
       "0                    3       25      35      29                     6       No  "
      ]
     },
     "execution_count": 23,
     "metadata": {},
     "output_type": "execute_result"
    }
   ],
   "source": [
    "df_18.drop(['Stnd','Stnd Description', 'Underhood ID','Comb CO2'], axis=1, inplace=True)\n",
    "# confirm changes\n",
    "df_18.head(1)"
   ]
  },
  {
   "cell_type": "code",
   "execution_count": 24,
   "metadata": {},
   "outputs": [
    {
     "name": "stdout",
     "output_type": "stream",
     "text": [
      "<class 'pandas.core.frame.DataFrame'>\n",
      "RangeIndex: 2690 entries, 0 to 2689\n",
      "Data columns (total 18 columns):\n",
      " #   Column                Non-Null Count  Dtype  \n",
      "---  ------                --------------  -----  \n",
      " 0   Model                 2690 non-null   object \n",
      " 1   Displ                 2610 non-null   float64\n",
      " 2   Cyl                   2610 non-null   float64\n",
      " 3   Trans                 2690 non-null   object \n",
      " 4   Drive                 2690 non-null   object \n",
      " 5   Fuel                  2690 non-null   object \n",
      " 6   Cert Region           2690 non-null   object \n",
      " 7   Stnd                  2690 non-null   object \n",
      " 8   Stnd Description      2690 non-null   object \n",
      " 9   Underhood ID          2690 non-null   object \n",
      " 10  Veh Class             2690 non-null   object \n",
      " 11  Air Pollution Score   2690 non-null   int64  \n",
      " 12  City MPG              2690 non-null   object \n",
      " 13  Hwy MPG               2690 non-null   object \n",
      " 14  Cmb MPG               2690 non-null   object \n",
      " 15  Greenhouse Gas Score  2690 non-null   int64  \n",
      " 16  SmartWay              2690 non-null   object \n",
      " 17  Comb CO2              2690 non-null   object \n",
      "dtypes: float64(2), int64(2), object(14)\n",
      "memory usage: 378.4+ KB\n"
     ]
    }
   ],
   "source": [
    "df_19.info()"
   ]
  },
  {
   "cell_type": "code",
   "execution_count": 25,
   "metadata": {},
   "outputs": [
    {
     "data": {
      "text/html": [
       "<div>\n",
       "<style scoped>\n",
       "    .dataframe tbody tr th:only-of-type {\n",
       "        vertical-align: middle;\n",
       "    }\n",
       "\n",
       "    .dataframe tbody tr th {\n",
       "        vertical-align: top;\n",
       "    }\n",
       "\n",
       "    .dataframe thead th {\n",
       "        text-align: right;\n",
       "    }\n",
       "</style>\n",
       "<table border=\"1\" class=\"dataframe\">\n",
       "  <thead>\n",
       "    <tr style=\"text-align: right;\">\n",
       "      <th></th>\n",
       "      <th>Model</th>\n",
       "      <th>Displ</th>\n",
       "      <th>Cyl</th>\n",
       "      <th>Trans</th>\n",
       "      <th>Drive</th>\n",
       "      <th>Fuel</th>\n",
       "      <th>Cert Region</th>\n",
       "      <th>Veh Class</th>\n",
       "      <th>Air Pollution Score</th>\n",
       "      <th>City MPG</th>\n",
       "      <th>Hwy MPG</th>\n",
       "      <th>Cmb MPG</th>\n",
       "      <th>Greenhouse Gas Score</th>\n",
       "      <th>SmartWay</th>\n",
       "      <th>Comb CO2</th>\n",
       "    </tr>\n",
       "  </thead>\n",
       "  <tbody>\n",
       "    <tr>\n",
       "      <th>0</th>\n",
       "      <td>ACURA ILX</td>\n",
       "      <td>2.4</td>\n",
       "      <td>4.0</td>\n",
       "      <td>AMS-8</td>\n",
       "      <td>2WD</td>\n",
       "      <td>Gasoline</td>\n",
       "      <td>CA</td>\n",
       "      <td>small car</td>\n",
       "      <td>3</td>\n",
       "      <td>24</td>\n",
       "      <td>34</td>\n",
       "      <td>28</td>\n",
       "      <td>6</td>\n",
       "      <td>No</td>\n",
       "      <td>316</td>\n",
       "    </tr>\n",
       "  </tbody>\n",
       "</table>\n",
       "</div>"
      ],
      "text/plain": [
       "       Model  Displ  Cyl  Trans Drive      Fuel Cert Region  Veh Class  \\\n",
       "0  ACURA ILX    2.4  4.0  AMS-8   2WD  Gasoline          CA  small car   \n",
       "\n",
       "   Air Pollution Score City MPG Hwy MPG Cmb MPG  Greenhouse Gas Score  \\\n",
       "0                    3       24      34      28                     6   \n",
       "\n",
       "  SmartWay Comb CO2  \n",
       "0       No      316  "
      ]
     },
     "execution_count": 25,
     "metadata": {},
     "output_type": "execute_result"
    }
   ],
   "source": [
    "df_19.drop(['Stnd','Stnd Description', 'Underhood ID','Comb CO2'], axis=1, inplace=True)\n",
    "# confirm changes\n",
    "df_19.head(1)"
   ]
  },
  {
   "cell_type": "code",
   "execution_count": 26,
   "metadata": {},
   "outputs": [
    {
     "name": "stdout",
     "output_type": "stream",
     "text": [
      "<class 'pandas.core.frame.DataFrame'>\n",
      "RangeIndex: 2545 entries, 0 to 2544\n",
      "Data columns (total 18 columns):\n",
      " #   Column                Non-Null Count  Dtype  \n",
      "---  ------                --------------  -----  \n",
      " 0   Model                 2545 non-null   object \n",
      " 1   Displ                 2462 non-null   float64\n",
      " 2   Cyl                   2462 non-null   float64\n",
      " 3   Trans                 2545 non-null   object \n",
      " 4   Drive                 2545 non-null   object \n",
      " 5   Fuel                  2545 non-null   object \n",
      " 6   Cert Region           2545 non-null   object \n",
      " 7   Stnd                  2545 non-null   object \n",
      " 8   Stnd Description      2545 non-null   object \n",
      " 9   Underhood ID          2545 non-null   object \n",
      " 10  Veh Class             2545 non-null   object \n",
      " 11  Air Pollution Score   2545 non-null   int64  \n",
      " 12  City MPG              2545 non-null   object \n",
      " 13  Hwy MPG               2545 non-null   object \n",
      " 14  Cmb MPG               2545 non-null   object \n",
      " 15  Greenhouse Gas Score  2545 non-null   int64  \n",
      " 16  SmartWay              2545 non-null   object \n",
      " 17  Comb CO2              2545 non-null   object \n",
      "dtypes: float64(2), int64(2), object(14)\n",
      "memory usage: 358.0+ KB\n"
     ]
    }
   ],
   "source": [
    "df_20.info()"
   ]
  },
  {
   "cell_type": "code",
   "execution_count": 27,
   "metadata": {},
   "outputs": [
    {
     "data": {
      "text/html": [
       "<div>\n",
       "<style scoped>\n",
       "    .dataframe tbody tr th:only-of-type {\n",
       "        vertical-align: middle;\n",
       "    }\n",
       "\n",
       "    .dataframe tbody tr th {\n",
       "        vertical-align: top;\n",
       "    }\n",
       "\n",
       "    .dataframe thead th {\n",
       "        text-align: right;\n",
       "    }\n",
       "</style>\n",
       "<table border=\"1\" class=\"dataframe\">\n",
       "  <thead>\n",
       "    <tr style=\"text-align: right;\">\n",
       "      <th></th>\n",
       "      <th>Model</th>\n",
       "      <th>Displ</th>\n",
       "      <th>Cyl</th>\n",
       "      <th>Trans</th>\n",
       "      <th>Drive</th>\n",
       "      <th>Fuel</th>\n",
       "      <th>Cert Region</th>\n",
       "      <th>Veh Class</th>\n",
       "      <th>Air Pollution Score</th>\n",
       "      <th>City MPG</th>\n",
       "      <th>Hwy MPG</th>\n",
       "      <th>Cmb MPG</th>\n",
       "      <th>Greenhouse Gas Score</th>\n",
       "      <th>SmartWay</th>\n",
       "      <th>Comb CO2</th>\n",
       "    </tr>\n",
       "  </thead>\n",
       "  <tbody>\n",
       "    <tr>\n",
       "      <th>0</th>\n",
       "      <td>ACURA ILX</td>\n",
       "      <td>2.4</td>\n",
       "      <td>4.0</td>\n",
       "      <td>AMS-8</td>\n",
       "      <td>2WD</td>\n",
       "      <td>Gasoline</td>\n",
       "      <td>CA</td>\n",
       "      <td>small car</td>\n",
       "      <td>3</td>\n",
       "      <td>24</td>\n",
       "      <td>34</td>\n",
       "      <td>28</td>\n",
       "      <td>6</td>\n",
       "      <td>No</td>\n",
       "      <td>316</td>\n",
       "    </tr>\n",
       "  </tbody>\n",
       "</table>\n",
       "</div>"
      ],
      "text/plain": [
       "       Model  Displ  Cyl  Trans Drive      Fuel Cert Region  Veh Class  \\\n",
       "0  ACURA ILX    2.4  4.0  AMS-8   2WD  Gasoline          CA  small car   \n",
       "\n",
       "   Air Pollution Score City MPG Hwy MPG Cmb MPG  Greenhouse Gas Score  \\\n",
       "0                    3       24      34      28                     6   \n",
       "\n",
       "  SmartWay Comb CO2  \n",
       "0       No      316  "
      ]
     },
     "execution_count": 27,
     "metadata": {},
     "output_type": "execute_result"
    }
   ],
   "source": [
    "df_20.drop(['Stnd','Stnd Description', 'Underhood ID','Comb CO2'], axis=1, inplace=True)\n",
    "# confirm changes\n",
    "df_20.head(1)"
   ]
  },
  {
   "cell_type": "code",
   "execution_count": 28,
   "metadata": {},
   "outputs": [
    {
     "name": "stdout",
     "output_type": "stream",
     "text": [
      "<class 'pandas.core.frame.DataFrame'>\n",
      "RangeIndex: 2586 entries, 0 to 2585\n",
      "Data columns (total 18 columns):\n",
      " #   Column                Non-Null Count  Dtype  \n",
      "---  ------                --------------  -----  \n",
      " 0   Model                 2586 non-null   object \n",
      " 1   Displ                 2465 non-null   float64\n",
      " 2   Cyl                   2465 non-null   float64\n",
      " 3   Trans                 2586 non-null   object \n",
      " 4   Drive                 2586 non-null   object \n",
      " 5   Fuel                  2586 non-null   object \n",
      " 6   Cert Region           2586 non-null   object \n",
      " 7   Stnd                  2586 non-null   object \n",
      " 8   Stnd Description      2586 non-null   object \n",
      " 9   Underhood ID          2586 non-null   object \n",
      " 10  Veh Class             2586 non-null   object \n",
      " 11  Air Pollution Score   2586 non-null   int64  \n",
      " 12  City MPG              2586 non-null   object \n",
      " 13  Hwy MPG               2586 non-null   object \n",
      " 14  Cmb MPG               2586 non-null   object \n",
      " 15  Greenhouse Gas Score  2586 non-null   int64  \n",
      " 16  SmartWay              2586 non-null   object \n",
      " 17  Comb CO2              2586 non-null   object \n",
      "dtypes: float64(2), int64(2), object(14)\n",
      "memory usage: 363.8+ KB\n"
     ]
    }
   ],
   "source": [
    "df_21.info()"
   ]
  },
  {
   "cell_type": "code",
   "execution_count": 29,
   "metadata": {},
   "outputs": [
    {
     "data": {
      "text/html": [
       "<div>\n",
       "<style scoped>\n",
       "    .dataframe tbody tr th:only-of-type {\n",
       "        vertical-align: middle;\n",
       "    }\n",
       "\n",
       "    .dataframe tbody tr th {\n",
       "        vertical-align: top;\n",
       "    }\n",
       "\n",
       "    .dataframe thead th {\n",
       "        text-align: right;\n",
       "    }\n",
       "</style>\n",
       "<table border=\"1\" class=\"dataframe\">\n",
       "  <thead>\n",
       "    <tr style=\"text-align: right;\">\n",
       "      <th></th>\n",
       "      <th>Model</th>\n",
       "      <th>Displ</th>\n",
       "      <th>Cyl</th>\n",
       "      <th>Trans</th>\n",
       "      <th>Drive</th>\n",
       "      <th>Fuel</th>\n",
       "      <th>Cert Region</th>\n",
       "      <th>Veh Class</th>\n",
       "      <th>Air Pollution Score</th>\n",
       "      <th>City MPG</th>\n",
       "      <th>Hwy MPG</th>\n",
       "      <th>Cmb MPG</th>\n",
       "      <th>Greenhouse Gas Score</th>\n",
       "      <th>SmartWay</th>\n",
       "      <th>Comb CO2</th>\n",
       "    </tr>\n",
       "  </thead>\n",
       "  <tbody>\n",
       "    <tr>\n",
       "      <th>0</th>\n",
       "      <td>ACURA ILX</td>\n",
       "      <td>2.4</td>\n",
       "      <td>4.0</td>\n",
       "      <td>AMS-8</td>\n",
       "      <td>2WD</td>\n",
       "      <td>Gasoline</td>\n",
       "      <td>CA</td>\n",
       "      <td>small car</td>\n",
       "      <td>3</td>\n",
       "      <td>24</td>\n",
       "      <td>34</td>\n",
       "      <td>28</td>\n",
       "      <td>6</td>\n",
       "      <td>No</td>\n",
       "      <td>316</td>\n",
       "    </tr>\n",
       "  </tbody>\n",
       "</table>\n",
       "</div>"
      ],
      "text/plain": [
       "       Model  Displ  Cyl  Trans Drive      Fuel Cert Region  Veh Class  \\\n",
       "0  ACURA ILX    2.4  4.0  AMS-8   2WD  Gasoline          CA  small car   \n",
       "\n",
       "   Air Pollution Score City MPG Hwy MPG Cmb MPG  Greenhouse Gas Score  \\\n",
       "0                    3       24      34      28                     6   \n",
       "\n",
       "  SmartWay Comb CO2  \n",
       "0       No      316  "
      ]
     },
     "execution_count": 29,
     "metadata": {},
     "output_type": "execute_result"
    }
   ],
   "source": [
    "df_21.drop(['Stnd','Stnd Description', 'Underhood ID','Comb CO2'], axis=1, inplace=True)\n",
    "# confirm changes\n",
    "df_21.head(1)"
   ]
  },
  {
   "cell_type": "code",
   "execution_count": 30,
   "metadata": {},
   "outputs": [
    {
     "name": "stdout",
     "output_type": "stream",
     "text": [
      "<class 'pandas.core.frame.DataFrame'>\n",
      "RangeIndex: 2399 entries, 0 to 2398\n",
      "Data columns (total 18 columns):\n",
      " #   Column                Non-Null Count  Dtype  \n",
      "---  ------                --------------  -----  \n",
      " 0   Model                 2399 non-null   object \n",
      " 1   Displ                 2231 non-null   float64\n",
      " 2   Cyl                   2231 non-null   float64\n",
      " 3   Trans                 2399 non-null   object \n",
      " 4   Drive                 2399 non-null   object \n",
      " 5   Fuel                  2399 non-null   object \n",
      " 6   Cert Region           2399 non-null   object \n",
      " 7   Stnd                  2399 non-null   object \n",
      " 8   Stnd Description      2399 non-null   object \n",
      " 9   Underhood ID          2399 non-null   object \n",
      " 10  Veh Class             2399 non-null   object \n",
      " 11  Air Pollution Score   2399 non-null   int64  \n",
      " 12  City MPG              2399 non-null   object \n",
      " 13  Hwy MPG               2399 non-null   object \n",
      " 14  Cmb MPG               2399 non-null   object \n",
      " 15  Greenhouse Gas Score  2399 non-null   int64  \n",
      " 16  SmartWay              2399 non-null   object \n",
      " 17  Comb CO2              2399 non-null   object \n",
      "dtypes: float64(2), int64(2), object(14)\n",
      "memory usage: 337.5+ KB\n"
     ]
    }
   ],
   "source": [
    "df_22.info()"
   ]
  },
  {
   "cell_type": "code",
   "execution_count": 31,
   "metadata": {},
   "outputs": [
    {
     "data": {
      "text/html": [
       "<div>\n",
       "<style scoped>\n",
       "    .dataframe tbody tr th:only-of-type {\n",
       "        vertical-align: middle;\n",
       "    }\n",
       "\n",
       "    .dataframe tbody tr th {\n",
       "        vertical-align: top;\n",
       "    }\n",
       "\n",
       "    .dataframe thead th {\n",
       "        text-align: right;\n",
       "    }\n",
       "</style>\n",
       "<table border=\"1\" class=\"dataframe\">\n",
       "  <thead>\n",
       "    <tr style=\"text-align: right;\">\n",
       "      <th></th>\n",
       "      <th>Model</th>\n",
       "      <th>Displ</th>\n",
       "      <th>Cyl</th>\n",
       "      <th>Trans</th>\n",
       "      <th>Drive</th>\n",
       "      <th>Fuel</th>\n",
       "      <th>Cert Region</th>\n",
       "      <th>Veh Class</th>\n",
       "      <th>Air Pollution Score</th>\n",
       "      <th>City MPG</th>\n",
       "      <th>Hwy MPG</th>\n",
       "      <th>Cmb MPG</th>\n",
       "      <th>Greenhouse Gas Score</th>\n",
       "      <th>SmartWay</th>\n",
       "      <th>Comb CO2</th>\n",
       "    </tr>\n",
       "  </thead>\n",
       "  <tbody>\n",
       "    <tr>\n",
       "      <th>0</th>\n",
       "      <td>ACURA ILX</td>\n",
       "      <td>2.4</td>\n",
       "      <td>4.0</td>\n",
       "      <td>AMS-8</td>\n",
       "      <td>2WD</td>\n",
       "      <td>Gasoline</td>\n",
       "      <td>CA</td>\n",
       "      <td>small car</td>\n",
       "      <td>3</td>\n",
       "      <td>24</td>\n",
       "      <td>34</td>\n",
       "      <td>28</td>\n",
       "      <td>6</td>\n",
       "      <td>No</td>\n",
       "      <td>316</td>\n",
       "    </tr>\n",
       "  </tbody>\n",
       "</table>\n",
       "</div>"
      ],
      "text/plain": [
       "       Model  Displ  Cyl  Trans Drive      Fuel Cert Region  Veh Class  \\\n",
       "0  ACURA ILX    2.4  4.0  AMS-8   2WD  Gasoline          CA  small car   \n",
       "\n",
       "   Air Pollution Score City MPG Hwy MPG Cmb MPG  Greenhouse Gas Score  \\\n",
       "0                    3       24      34      28                     6   \n",
       "\n",
       "  SmartWay Comb CO2  \n",
       "0       No      316  "
      ]
     },
     "execution_count": 31,
     "metadata": {},
     "output_type": "execute_result"
    }
   ],
   "source": [
    "df_22.drop(['Stnd','Stnd Description', 'Underhood ID','Comb CO2'], axis=1, inplace=True)\n",
    "# confirm changes\n",
    "df_22.head(1)"
   ]
  },
  {
   "cell_type": "code",
   "execution_count": 32,
   "metadata": {},
   "outputs": [],
   "source": [
    "df_08.rename(columns=lambda x : x.strip().lower().replace(' ','_'),inplace = True)\n",
    "\n",
    "df_9.rename(columns=lambda x : x.strip().lower().replace(' ','_'),inplace = True)\n",
    "\n",
    "df_10.rename(columns=lambda x : x.strip().lower().replace(' ','_'),inplace = True)\n",
    "\n",
    "df_11.rename(columns=lambda x : x.strip().lower().replace(' ','_'),inplace = True)\n",
    "\n",
    "df_12.rename(columns=lambda x : x.strip().lower().replace(' ','_'),inplace = True)\n",
    "\n",
    "df_13.rename(columns=lambda x : x.strip().lower().replace(' ','_'),inplace = True)\n",
    "\n",
    "df_14.rename(columns=lambda x : x.strip().lower().replace(' ','_'),inplace = True)\n",
    "\n",
    "df_15.rename(columns=lambda x : x.strip().lower().replace(' ','_'),inplace = True)\n",
    "\n",
    "df_16.rename(columns=lambda x : x.strip().lower().replace(' ','_'),inplace = True)\n",
    "\n",
    "df_17.rename(columns=lambda x : x.strip().lower().replace(' ','_'),inplace = True)\n",
    "\n",
    "df_18.rename(columns=lambda x : x.strip().lower().replace(' ','_'),inplace = True)\n",
    "\n",
    "df_19.rename(columns=lambda x : x.strip().lower().replace(' ','_'),inplace = True)\n",
    "\n",
    "df_20.rename(columns=lambda x : x.strip().lower().replace(' ','_'),inplace = True)\n",
    "\n",
    "df_21.rename(columns=lambda x : x.strip().lower().replace(' ','_'),inplace = True)\n",
    "\n",
    "df_22.rename(columns=lambda x : x.strip().lower().replace(' ','_'),inplace = True)"
   ]
  },
  {
   "cell_type": "code",
   "execution_count": 54,
   "metadata": {},
   "outputs": [],
   "source": [
    "df_17.rename(columns={'sales_area':'cert_region','smog_rating':'air_pollution_score'},inplace=True)\n",
    "df_16.rename(columns={'sales_area':'cert_region','smog_rating':'air_pollution_score'},inplace=True)\n",
    "df_15.rename(columns={'sales_area':'cert_region','smog_rating':'air_pollution_score'},inplace=True)\n",
    "df_14.rename(columns={'sales_area':'cert_region','smog_rating':'air_pollution_score','greenhouse_gas_rating':'greenhouse_gas_score'},inplace=True)\n",
    "df_13.rename(columns={'sales_area':'cert_region','smog_rating':'air_pollution_score','greenhouse_gas_rating':'greenhouse_gas_score'},inplace=True)\n",
    "df_12.rename(columns={'sales_area':'cert_region'},inplace=True)\n",
    "df_11.rename(columns={'sales_area':'cert_region'},inplace=True)\n",
    "df_10.rename(columns={'sales_area':'cert_region'},inplace=True)\n",
    "\n",
    "df_08.rename(columns={'sales_area':'cert_region'},inplace=True)\n",
    "df_9.rename(columns={'sales_area':'cert_region','smog_rating':'air_pollution_score'},inplace=True)\n"
   ]
  },
  {
   "cell_type": "code",
   "execution_count": 56,
   "metadata": {},
   "outputs": [
    {
     "data": {
      "text/plain": [
       "array([ True,  True,  True,  True,  True,  True,  True,  True,  True,\n",
       "        True,  True,  True,  True,  True])"
      ]
     },
     "execution_count": 56,
     "metadata": {},
     "output_type": "execute_result"
    }
   ],
   "source": [
    "(df_08.columns == df_11.columns)"
   ]
  },
  {
   "cell_type": "code",
   "execution_count": 64,
   "metadata": {},
   "outputs": [
    {
     "name": "stdout",
     "output_type": "stream",
     "text": [
      "<class 'pandas.core.frame.DataFrame'>\n",
      "RangeIndex: 2371 entries, 0 to 2370\n",
      "Data columns (total 14 columns):\n",
      " #   Column                Non-Null Count  Dtype  \n",
      "---  ------                --------------  -----  \n",
      " 0   model                 2371 non-null   object \n",
      " 1   displ                 2371 non-null   float64\n",
      " 2   cyl                   2371 non-null   float64\n",
      " 3   trans                 2371 non-null   object \n",
      " 4   drive                 2371 non-null   object \n",
      " 5   fuel                  2371 non-null   object \n",
      " 6   cert_region           2371 non-null   object \n",
      " 7   veh_class             2371 non-null   object \n",
      " 8   air_pollution_score   2371 non-null   object \n",
      " 9   city_mpg              2370 non-null   object \n",
      " 10  hwy_mpg               2370 non-null   object \n",
      " 11  cmb_mpg               2370 non-null   object \n",
      " 12  greenhouse_gas_score  2371 non-null   object \n",
      " 13  smartway              2371 non-null   object \n",
      "dtypes: float64(2), object(12)\n",
      "memory usage: 259.5+ KB\n"
     ]
    }
   ],
   "source": [
    "df_13.info()"
   ]
  },
  {
   "cell_type": "markdown",
   "metadata": {},
   "source": [
    "#### confirm changes"
   ]
  },
  {
   "cell_type": "code",
   "execution_count": 65,
   "metadata": {},
   "outputs": [
    {
     "name": "stdout",
     "output_type": "stream",
     "text": [
      "True\n",
      "True\n",
      "True\n",
      "True\n",
      "True\n",
      "True\n",
      "True\n",
      "True\n",
      "True\n",
      "True\n",
      "True\n",
      "True\n",
      "True\n",
      "True\n"
     ]
    }
   ],
   "source": [
    "print((df_08.columns == df_9.columns).all())\n",
    "print((df_08.columns == df_10.columns).all())\n",
    "print((df_08.columns == df_11.columns).all())\n",
    "print((df_08.columns == df_12.columns).all())\n",
    "print((df_08.columns == df_13.columns).all())\n",
    "print((df_08.columns == df_14.columns).all())\n",
    "print((df_08.columns == df_15.columns).all())\n",
    "print((df_08.columns == df_16.columns).all())\n",
    "print((df_08.columns == df_17.columns).all())\n",
    "print((df_08.columns == df_18.columns).all())\n",
    "print((df_08.columns == df_19.columns).all())\n",
    "print((df_08.columns == df_20.columns).all())\n",
    "print((df_08.columns == df_21.columns).all())\n",
    "print((df_08.columns == df_22.columns).all())"
   ]
  },
  {
   "cell_type": "markdown",
   "metadata": {},
   "source": [
    "### Greenhouse Gas Rating and air pollution score\n",
    "##### Vehicles that score a 10 are the cleanest"
   ]
  },
  {
   "cell_type": "code",
   "execution_count": 66,
   "metadata": {},
   "outputs": [
    {
     "data": {
      "text/plain": [
       "No       2277\n",
       "Yes       308\n",
       "Elite      56\n",
       "Name: smartway, dtype: int64"
      ]
     },
     "execution_count": 66,
     "metadata": {},
     "output_type": "execute_result"
    }
   ],
   "source": [
    "df_18['smartway'].value_counts()"
   ]
  },
  {
   "cell_type": "code",
   "execution_count": 67,
   "metadata": {},
   "outputs": [
    {
     "data": {
      "text/plain": [
       "array(['CA', 'FA', 'FC'], dtype=object)"
      ]
     },
     "execution_count": 67,
     "metadata": {},
     "output_type": "execute_result"
    }
   ],
   "source": [
    "df_08['cert_region'].unique()"
   ]
  },
  {
   "cell_type": "code",
   "execution_count": 68,
   "metadata": {},
   "outputs": [
    {
     "data": {
      "text/plain": [
       "FA    1039\n",
       "CA     987\n",
       "FC     181\n",
       "Name: cert_region, dtype: int64"
      ]
     },
     "execution_count": 68,
     "metadata": {},
     "output_type": "execute_result"
    }
   ],
   "source": [
    "df_08['cert_region'].value_counts()"
   ]
  },
  {
   "cell_type": "code",
   "execution_count": 69,
   "metadata": {},
   "outputs": [
    {
     "data": {
      "text/plain": [
       "array(['Auto-S5', 'Man-6', 'Auto-S6', 'Auto-AV', 'Auto-S7', 'Auto-L4',\n",
       "       'Auto-L6', 'Auto-4', 'Man-5', 'Auto-L5', 'Auto-6', 'S8', 'Auto-S4',\n",
       "       'Auto-L7'], dtype=object)"
      ]
     },
     "execution_count": 69,
     "metadata": {},
     "output_type": "execute_result"
    }
   ],
   "source": [
    "df_08['trans'].unique()"
   ]
  },
  {
   "cell_type": "code",
   "execution_count": 70,
   "metadata": {},
   "outputs": [
    {
     "data": {
      "text/plain": [
       "array(['No', 'Elite', 'Yes'], dtype=object)"
      ]
     },
     "execution_count": 70,
     "metadata": {},
     "output_type": "execute_result"
    }
   ],
   "source": [
    "df_18['smartway'].unique()"
   ]
  },
  {
   "cell_type": "code",
   "execution_count": 71,
   "metadata": {},
   "outputs": [
    {
     "data": {
      "text/plain": [
       "No       2277\n",
       "Yes       308\n",
       "Elite      56\n",
       "Name: smartway, dtype: int64"
      ]
     },
     "execution_count": 71,
     "metadata": {},
     "output_type": "execute_result"
    }
   ],
   "source": [
    "df_18['smartway'].value_counts()"
   ]
  },
  {
   "cell_type": "code",
   "execution_count": 72,
   "metadata": {},
   "outputs": [
    {
     "data": {
      "text/plain": [
       "array(['CA', 'FA'], dtype=object)"
      ]
     },
     "execution_count": 72,
     "metadata": {},
     "output_type": "execute_result"
    }
   ],
   "source": [
    "df_18['cert_region'].unique()"
   ]
  },
  {
   "cell_type": "code",
   "execution_count": 73,
   "metadata": {},
   "outputs": [
    {
     "data": {
      "text/plain": [
       "(array(['(6 cyl)', '(4 cyl)', '(12 cyl)', '(8 cyl)', '(10 cyl)',\n",
       "        '(16 cyl)', '(5 cyl)', '(2 cyl)'], dtype=object),\n",
       " array([ 4.,  6.,  8., 12., 10.,  5., 16.,  2.,  3.]))"
      ]
     },
     "execution_count": 73,
     "metadata": {},
     "output_type": "execute_result"
    }
   ],
   "source": [
    "df_08['cyl'].unique(),df_18['cyl'].unique()"
   ]
  },
  {
   "cell_type": "code",
   "execution_count": 74,
   "metadata": {},
   "outputs": [
    {
     "data": {
      "text/plain": [
       "array(['Gasoline', 'ethanol', 'CNG', 'diesel', 'gas'], dtype=object)"
      ]
     },
     "execution_count": 74,
     "metadata": {},
     "output_type": "execute_result"
    }
   ],
   "source": [
    "df_08['fuel'].unique()"
   ]
  },
  {
   "cell_type": "code",
   "execution_count": 75,
   "metadata": {},
   "outputs": [
    {
     "data": {
      "text/plain": [
       "array(['Gasoline', 'Gasoline/Electricity', 'Diesel', 'Ethanol/Gas'],\n",
       "      dtype=object)"
      ]
     },
     "execution_count": 75,
     "metadata": {},
     "output_type": "execute_result"
    }
   ],
   "source": [
    "df_18['fuel'].unique()"
   ]
  },
  {
   "cell_type": "code",
   "execution_count": 76,
   "metadata": {},
   "outputs": [
    {
     "data": {
      "text/plain": [
       "(0, 0)"
      ]
     },
     "execution_count": 76,
     "metadata": {},
     "output_type": "execute_result"
    }
   ],
   "source": [
    "sum(df_08.duplicated()==True),sum(df_18.duplicated()==True)"
   ]
  },
  {
   "cell_type": "markdown",
   "metadata": {},
   "source": [
    "# Filter, Drop Nulls, Dedupe"
   ]
  },
  {
   "cell_type": "code",
   "execution_count": 77,
   "metadata": {},
   "outputs": [],
   "source": [
    "df_08.dropna(inplace=True)\n",
    "df_9.dropna(inplace=True)\n",
    "df_10.dropna(inplace=True)\n",
    "df_11.dropna(inplace=True)\n",
    "df_12.dropna(inplace=True)\n",
    "df_13.dropna(inplace=True)\n",
    "df_14.dropna(inplace=True)\n",
    "df_15.dropna(inplace=True)\n",
    "df_16.dropna(inplace=True)\n",
    "df_17.dropna(inplace=True)\n",
    "df_18.dropna(inplace=True)\n",
    "df_19.dropna(inplace=True)\n",
    "df_20.dropna(inplace=True)\n",
    "df_21.dropna(inplace=True)\n",
    "df_22.dropna(inplace=True)\n",
    "df_08.drop_duplicates(inplace=True)\n",
    "df_9.drop_duplicates(inplace=True)\n",
    "df_10.drop_duplicates(inplace=True)\n",
    "df_11.drop_duplicates(inplace=True)\n",
    "df_12.drop_duplicates(inplace=True)\n",
    "df_13.drop_duplicates(inplace=True)\n",
    "df_14.drop_duplicates(inplace=True)\n",
    "df_15.drop_duplicates(inplace=True)\n",
    "df_16.drop_duplicates(inplace=True)\n",
    "df_17.drop_duplicates(inplace=True)\n",
    "df_18.drop_duplicates(inplace=True)\n",
    "df_19.drop_duplicates(inplace=True)\n",
    "df_20.drop_duplicates(inplace=True)\n",
    "df_21.drop_duplicates(inplace=True)\n",
    "df_22.drop_duplicates(inplace=True)"
   ]
  },
  {
   "cell_type": "code",
   "execution_count": 78,
   "metadata": {},
   "outputs": [
    {
     "data": {
      "text/plain": [
       "model                   0\n",
       "displ                   0\n",
       "cyl                     0\n",
       "trans                   0\n",
       "drive                   0\n",
       "fuel                    0\n",
       "cert_region             0\n",
       "veh_class               0\n",
       "air_pollution_score     0\n",
       "city_mpg                0\n",
       "hwy_mpg                 0\n",
       "cmb_mpg                 0\n",
       "greenhouse_gas_score    0\n",
       "smartway                0\n",
       "dtype: int64"
      ]
     },
     "execution_count": 78,
     "metadata": {},
     "output_type": "execute_result"
    }
   ],
   "source": [
    "df_08.isnull().sum()"
   ]
  },
  {
   "cell_type": "code",
   "execution_count": 79,
   "metadata": {},
   "outputs": [
    {
     "data": {
      "text/plain": [
       "model                   0\n",
       "displ                   0\n",
       "cyl                     0\n",
       "trans                   0\n",
       "drive                   0\n",
       "fuel                    0\n",
       "cert_region             0\n",
       "veh_class               0\n",
       "air_pollution_score     0\n",
       "city_mpg                0\n",
       "hwy_mpg                 0\n",
       "cmb_mpg                 0\n",
       "greenhouse_gas_score    0\n",
       "smartway                0\n",
       "dtype: int64"
      ]
     },
     "execution_count": 79,
     "metadata": {},
     "output_type": "execute_result"
    }
   ],
   "source": [
    "df_18.isnull().sum()"
   ]
  },
  {
   "cell_type": "code",
   "execution_count": 80,
   "metadata": {},
   "outputs": [
    {
     "name": "stdout",
     "output_type": "stream",
     "text": [
      "0\n",
      "0\n"
     ]
    }
   ],
   "source": [
    "print(df_08.duplicated().sum(),df_18.duplicated().sum(),sep=\"\\n\")"
   ]
  },
  {
   "cell_type": "markdown",
   "metadata": {},
   "source": [
    "# Fixing Data Types\n",
    "### Modify the rows that have hybrid cars(contain \"/\")"
   ]
  },
  {
   "cell_type": "markdown",
   "metadata": {},
   "source": [
    "### df_8"
   ]
  },
  {
   "cell_type": "code",
   "execution_count": 81,
   "metadata": {},
   "outputs": [
    {
     "ename": "KeyError",
     "evalue": "0",
     "output_type": "error",
     "traceback": [
      "\u001b[1;31m---------------------------------------------------------------------------\u001b[0m",
      "\u001b[1;31mKeyError\u001b[0m                                  Traceback (most recent call last)",
      "\u001b[1;32m~\\anaconda3\\lib\\site-packages\\pandas\\core\\indexes\\base.py\u001b[0m in \u001b[0;36mget_loc\u001b[1;34m(self, key, method, tolerance)\u001b[0m\n\u001b[0;32m   3360\u001b[0m             \u001b[1;32mtry\u001b[0m\u001b[1;33m:\u001b[0m\u001b[1;33m\u001b[0m\u001b[1;33m\u001b[0m\u001b[0m\n\u001b[1;32m-> 3361\u001b[1;33m                 \u001b[1;32mreturn\u001b[0m \u001b[0mself\u001b[0m\u001b[1;33m.\u001b[0m\u001b[0m_engine\u001b[0m\u001b[1;33m.\u001b[0m\u001b[0mget_loc\u001b[0m\u001b[1;33m(\u001b[0m\u001b[0mcasted_key\u001b[0m\u001b[1;33m)\u001b[0m\u001b[1;33m\u001b[0m\u001b[1;33m\u001b[0m\u001b[0m\n\u001b[0m\u001b[0;32m   3362\u001b[0m             \u001b[1;32mexcept\u001b[0m \u001b[0mKeyError\u001b[0m \u001b[1;32mas\u001b[0m \u001b[0merr\u001b[0m\u001b[1;33m:\u001b[0m\u001b[1;33m\u001b[0m\u001b[1;33m\u001b[0m\u001b[0m\n",
      "\u001b[1;32m~\\anaconda3\\lib\\site-packages\\pandas\\_libs\\index.pyx\u001b[0m in \u001b[0;36mpandas._libs.index.IndexEngine.get_loc\u001b[1;34m()\u001b[0m\n",
      "\u001b[1;32m~\\anaconda3\\lib\\site-packages\\pandas\\_libs\\index.pyx\u001b[0m in \u001b[0;36mpandas._libs.index.IndexEngine.get_loc\u001b[1;34m()\u001b[0m\n",
      "\u001b[1;32mpandas\\_libs\\hashtable_class_helper.pxi\u001b[0m in \u001b[0;36mpandas._libs.hashtable.PyObjectHashTable.get_item\u001b[1;34m()\u001b[0m\n",
      "\u001b[1;32mpandas\\_libs\\hashtable_class_helper.pxi\u001b[0m in \u001b[0;36mpandas._libs.hashtable.PyObjectHashTable.get_item\u001b[1;34m()\u001b[0m\n",
      "\u001b[1;31mKeyError\u001b[0m: 0",
      "\nThe above exception was the direct cause of the following exception:\n",
      "\u001b[1;31mKeyError\u001b[0m                                  Traceback (most recent call last)",
      "\u001b[1;32mC:\\Users\\ABO_SH~1\\AppData\\Local\\Temp/ipykernel_9856/438959365.py\u001b[0m in \u001b[0;36m<module>\u001b[1;34m\u001b[0m\n\u001b[0;32m      9\u001b[0m \u001b[1;33m\u001b[0m\u001b[0m\n\u001b[0;32m     10\u001b[0m \u001b[1;32mfor\u001b[0m \u001b[0mi\u001b[0m \u001b[1;32min\u001b[0m \u001b[0msplit_columns\u001b[0m\u001b[1;33m:\u001b[0m\u001b[1;33m\u001b[0m\u001b[1;33m\u001b[0m\u001b[0m\n\u001b[1;32m---> 11\u001b[1;33m     \u001b[0mdf_8_1\u001b[0m\u001b[1;33m[\u001b[0m\u001b[0mi\u001b[0m\u001b[1;33m]\u001b[0m \u001b[1;33m=\u001b[0m \u001b[0mdf_8_1\u001b[0m\u001b[1;33m[\u001b[0m\u001b[0mi\u001b[0m\u001b[1;33m]\u001b[0m\u001b[1;33m.\u001b[0m\u001b[0mstr\u001b[0m\u001b[1;33m.\u001b[0m\u001b[0msplit\u001b[0m\u001b[1;33m(\u001b[0m\u001b[1;34m\"/\"\u001b[0m\u001b[1;33m,\u001b[0m\u001b[0mexpand\u001b[0m \u001b[1;33m=\u001b[0m \u001b[1;32mTrue\u001b[0m\u001b[1;33m)\u001b[0m\u001b[1;33m[\u001b[0m\u001b[1;36m0\u001b[0m\u001b[1;33m]\u001b[0m\u001b[1;33m\u001b[0m\u001b[1;33m\u001b[0m\u001b[0m\n\u001b[0m\u001b[0;32m     12\u001b[0m     \u001b[0mdf_8_2\u001b[0m\u001b[1;33m[\u001b[0m\u001b[0mi\u001b[0m\u001b[1;33m]\u001b[0m \u001b[1;33m=\u001b[0m \u001b[0mdf_8_2\u001b[0m\u001b[1;33m[\u001b[0m\u001b[0mi\u001b[0m\u001b[1;33m]\u001b[0m\u001b[1;33m.\u001b[0m\u001b[0mstr\u001b[0m\u001b[1;33m.\u001b[0m\u001b[0msplit\u001b[0m\u001b[1;33m(\u001b[0m\u001b[1;34m\"/\"\u001b[0m\u001b[1;33m,\u001b[0m\u001b[0mexpand\u001b[0m \u001b[1;33m=\u001b[0m \u001b[1;32mTrue\u001b[0m\u001b[1;33m)\u001b[0m\u001b[1;33m[\u001b[0m\u001b[1;36m1\u001b[0m\u001b[1;33m]\u001b[0m\u001b[1;33m\u001b[0m\u001b[1;33m\u001b[0m\u001b[0m\n\u001b[0;32m     13\u001b[0m \u001b[1;33m\u001b[0m\u001b[0m\n",
      "\u001b[1;32m~\\anaconda3\\lib\\site-packages\\pandas\\core\\frame.py\u001b[0m in \u001b[0;36m__getitem__\u001b[1;34m(self, key)\u001b[0m\n\u001b[0;32m   3456\u001b[0m             \u001b[1;32mif\u001b[0m \u001b[0mself\u001b[0m\u001b[1;33m.\u001b[0m\u001b[0mcolumns\u001b[0m\u001b[1;33m.\u001b[0m\u001b[0mnlevels\u001b[0m \u001b[1;33m>\u001b[0m \u001b[1;36m1\u001b[0m\u001b[1;33m:\u001b[0m\u001b[1;33m\u001b[0m\u001b[1;33m\u001b[0m\u001b[0m\n\u001b[0;32m   3457\u001b[0m                 \u001b[1;32mreturn\u001b[0m \u001b[0mself\u001b[0m\u001b[1;33m.\u001b[0m\u001b[0m_getitem_multilevel\u001b[0m\u001b[1;33m(\u001b[0m\u001b[0mkey\u001b[0m\u001b[1;33m)\u001b[0m\u001b[1;33m\u001b[0m\u001b[1;33m\u001b[0m\u001b[0m\n\u001b[1;32m-> 3458\u001b[1;33m             \u001b[0mindexer\u001b[0m \u001b[1;33m=\u001b[0m \u001b[0mself\u001b[0m\u001b[1;33m.\u001b[0m\u001b[0mcolumns\u001b[0m\u001b[1;33m.\u001b[0m\u001b[0mget_loc\u001b[0m\u001b[1;33m(\u001b[0m\u001b[0mkey\u001b[0m\u001b[1;33m)\u001b[0m\u001b[1;33m\u001b[0m\u001b[1;33m\u001b[0m\u001b[0m\n\u001b[0m\u001b[0;32m   3459\u001b[0m             \u001b[1;32mif\u001b[0m \u001b[0mis_integer\u001b[0m\u001b[1;33m(\u001b[0m\u001b[0mindexer\u001b[0m\u001b[1;33m)\u001b[0m\u001b[1;33m:\u001b[0m\u001b[1;33m\u001b[0m\u001b[1;33m\u001b[0m\u001b[0m\n\u001b[0;32m   3460\u001b[0m                 \u001b[0mindexer\u001b[0m \u001b[1;33m=\u001b[0m \u001b[1;33m[\u001b[0m\u001b[0mindexer\u001b[0m\u001b[1;33m]\u001b[0m\u001b[1;33m\u001b[0m\u001b[1;33m\u001b[0m\u001b[0m\n",
      "\u001b[1;32m~\\anaconda3\\lib\\site-packages\\pandas\\core\\indexes\\base.py\u001b[0m in \u001b[0;36mget_loc\u001b[1;34m(self, key, method, tolerance)\u001b[0m\n\u001b[0;32m   3361\u001b[0m                 \u001b[1;32mreturn\u001b[0m \u001b[0mself\u001b[0m\u001b[1;33m.\u001b[0m\u001b[0m_engine\u001b[0m\u001b[1;33m.\u001b[0m\u001b[0mget_loc\u001b[0m\u001b[1;33m(\u001b[0m\u001b[0mcasted_key\u001b[0m\u001b[1;33m)\u001b[0m\u001b[1;33m\u001b[0m\u001b[1;33m\u001b[0m\u001b[0m\n\u001b[0;32m   3362\u001b[0m             \u001b[1;32mexcept\u001b[0m \u001b[0mKeyError\u001b[0m \u001b[1;32mas\u001b[0m \u001b[0merr\u001b[0m\u001b[1;33m:\u001b[0m\u001b[1;33m\u001b[0m\u001b[1;33m\u001b[0m\u001b[0m\n\u001b[1;32m-> 3363\u001b[1;33m                 \u001b[1;32mraise\u001b[0m \u001b[0mKeyError\u001b[0m\u001b[1;33m(\u001b[0m\u001b[0mkey\u001b[0m\u001b[1;33m)\u001b[0m \u001b[1;32mfrom\u001b[0m \u001b[0merr\u001b[0m\u001b[1;33m\u001b[0m\u001b[1;33m\u001b[0m\u001b[0m\n\u001b[0m\u001b[0;32m   3364\u001b[0m \u001b[1;33m\u001b[0m\u001b[0m\n\u001b[0;32m   3365\u001b[0m         \u001b[1;32mif\u001b[0m \u001b[0mis_scalar\u001b[0m\u001b[1;33m(\u001b[0m\u001b[0mkey\u001b[0m\u001b[1;33m)\u001b[0m \u001b[1;32mand\u001b[0m \u001b[0misna\u001b[0m\u001b[1;33m(\u001b[0m\u001b[0mkey\u001b[0m\u001b[1;33m)\u001b[0m \u001b[1;32mand\u001b[0m \u001b[1;32mnot\u001b[0m \u001b[0mself\u001b[0m\u001b[1;33m.\u001b[0m\u001b[0mhasnans\u001b[0m\u001b[1;33m:\u001b[0m\u001b[1;33m\u001b[0m\u001b[1;33m\u001b[0m\u001b[0m\n",
      "\u001b[1;31mKeyError\u001b[0m: 0"
     ]
    }
   ],
   "source": [
    "\n",
    "df_8_hyb = df_08[df_08[\"fuel\"].str.contains(\"/\")]\n",
    "\n",
    "df_8_1 = df_8_hyb.copy()\n",
    "df_8_2 = df_8_hyb.copy()\n",
    "\n",
    "\n",
    "split_columns = ['fuel', 'air_pollution_score', 'city_mpg', 'hwy_mpg', 'cmb_mpg', 'greenhouse_gas_score']\n",
    "\n",
    "\n",
    "for i in split_columns:\n",
    "    df_8_1[i] = df_8_1[i].str.split(\"/\",expand = True)[0]\n",
    "    df_8_2[i] = df_8_2[i].str.split(\"/\",expand = True)[1]\n",
    "\n",
    "\n",
    "extracted_8 = df_8_1.append(df_8_2)\n",
    "\n",
    "\n",
    "\n",
    "\n",
    "df_08.drop(df_8_hyb.index, inplace = True)\n",
    "\n",
    "df_08 = df_08.append(extracted_8,ignore_index=True)\n",
    "\n",
    "\n",
    "df_08[df_08['fuel'].str.contains('/')]"
   ]
  },
  {
   "cell_type": "markdown",
   "metadata": {},
   "source": [
    "###### Repeat the same process to rest of the 9 datasets"
   ]
  },
  {
   "cell_type": "markdown",
   "metadata": {},
   "source": [
    "### df_9"
   ]
  },
  {
   "cell_type": "code",
   "execution_count": 43,
   "metadata": {},
   "outputs": [
    {
     "data": {
      "text/html": [
       "<div>\n",
       "<style scoped>\n",
       "    .dataframe tbody tr th:only-of-type {\n",
       "        vertical-align: middle;\n",
       "    }\n",
       "\n",
       "    .dataframe tbody tr th {\n",
       "        vertical-align: top;\n",
       "    }\n",
       "\n",
       "    .dataframe thead th {\n",
       "        text-align: right;\n",
       "    }\n",
       "</style>\n",
       "<table border=\"1\" class=\"dataframe\">\n",
       "  <thead>\n",
       "    <tr style=\"text-align: right;\">\n",
       "      <th></th>\n",
       "      <th>model</th>\n",
       "      <th>displ</th>\n",
       "      <th>cyl</th>\n",
       "      <th>trans</th>\n",
       "      <th>drive</th>\n",
       "      <th>fuel</th>\n",
       "      <th>cert_region</th>\n",
       "      <th>veh_class</th>\n",
       "      <th>air_pollution_score</th>\n",
       "      <th>city_mpg</th>\n",
       "      <th>hwy_mpg</th>\n",
       "      <th>cmb_mpg</th>\n",
       "      <th>greenhouse_gas_score</th>\n",
       "      <th>smartway</th>\n",
       "    </tr>\n",
       "  </thead>\n",
       "  <tbody>\n",
       "  </tbody>\n",
       "</table>\n",
       "</div>"
      ],
      "text/plain": [
       "Empty DataFrame\n",
       "Columns: [model, displ, cyl, trans, drive, fuel, cert_region, veh_class, air_pollution_score, city_mpg, hwy_mpg, cmb_mpg, greenhouse_gas_score, smartway]\n",
       "Index: []"
      ]
     },
     "execution_count": 43,
     "metadata": {},
     "output_type": "execute_result"
    }
   ],
   "source": [
    "df_9_hyb = df_9[df_9[\"fuel\"].str.contains(\"/\")]\n",
    "\n",
    "df_9_1 = df_9_hyb.copy()\n",
    "df_9_2 = df_9_hyb.copy()\n",
    "\n",
    "for i in split_columns:\n",
    "    df_9_1[i] = df_9_1[i].str.split(\"/\",expand = True)[0]\n",
    "    df_9_2[i] = df_9_2[i].str.split(\"/\",expand = True)[1]\n",
    "\n",
    "extracted_9 = df_9_1.append(df_9_2)  \n",
    "\n",
    "\n",
    "df_9.drop(df_9_hyb.index, inplace = True)\n",
    "\n",
    "df_9 = df_9.append(extracted_9,ignore_index=True)\n",
    "\n",
    "df_9[df_9['fuel'].str.contains('/')]"
   ]
  },
  {
   "cell_type": "code",
   "execution_count": 44,
   "metadata": {},
   "outputs": [
    {
     "name": "stdout",
     "output_type": "stream",
     "text": [
      "<class 'pandas.core.frame.DataFrame'>\n",
      "Int64Index: 2218 entries, 0 to 2398\n",
      "Data columns (total 15 columns):\n",
      " #   Column                Non-Null Count  Dtype  \n",
      "---  ------                --------------  -----  \n",
      " 0   model                 2218 non-null   object \n",
      " 1   displ                 2218 non-null   float64\n",
      " 2   cyl                   2218 non-null   float64\n",
      " 3   trans                 2218 non-null   object \n",
      " 4   drive                 2218 non-null   object \n",
      " 5   fuel                  2218 non-null   object \n",
      " 6   cert_region           2218 non-null   object \n",
      " 7   veh_class             2218 non-null   object \n",
      " 8   air_pollution_score   2218 non-null   int64  \n",
      " 9   city_mpg              2218 non-null   object \n",
      " 10  hwy_mpg               2218 non-null   object \n",
      " 11  cmb_mpg               2218 non-null   object \n",
      " 12  greenhouse_gas_score  2218 non-null   int64  \n",
      " 13  smartway              2218 non-null   object \n",
      " 14  comb_co2              2218 non-null   object \n",
      "dtypes: float64(2), int64(2), object(11)\n",
      "memory usage: 277.2+ KB\n"
     ]
    }
   ],
   "source": [
    "df_22.info()"
   ]
  },
  {
   "cell_type": "code",
   "execution_count": null,
   "metadata": {},
   "outputs": [],
   "source": []
  },
  {
   "cell_type": "markdown",
   "metadata": {},
   "source": [
    "### df_10"
   ]
  },
  {
   "cell_type": "code",
   "execution_count": 45,
   "metadata": {},
   "outputs": [
    {
     "data": {
      "text/html": [
       "<div>\n",
       "<style scoped>\n",
       "    .dataframe tbody tr th:only-of-type {\n",
       "        vertical-align: middle;\n",
       "    }\n",
       "\n",
       "    .dataframe tbody tr th {\n",
       "        vertical-align: top;\n",
       "    }\n",
       "\n",
       "    .dataframe thead th {\n",
       "        text-align: right;\n",
       "    }\n",
       "</style>\n",
       "<table border=\"1\" class=\"dataframe\">\n",
       "  <thead>\n",
       "    <tr style=\"text-align: right;\">\n",
       "      <th></th>\n",
       "      <th>model</th>\n",
       "      <th>displ</th>\n",
       "      <th>cyl</th>\n",
       "      <th>trans</th>\n",
       "      <th>drive</th>\n",
       "      <th>fuel</th>\n",
       "      <th>sales_area</th>\n",
       "      <th>veh_class</th>\n",
       "      <th>air_pollution_score</th>\n",
       "      <th>city_mpg</th>\n",
       "      <th>hwy_mpg</th>\n",
       "      <th>cmb_mpg</th>\n",
       "      <th>greenhouse_gas_score</th>\n",
       "      <th>smartway</th>\n",
       "    </tr>\n",
       "  </thead>\n",
       "  <tbody>\n",
       "  </tbody>\n",
       "</table>\n",
       "</div>"
      ],
      "text/plain": [
       "Empty DataFrame\n",
       "Columns: [model, displ, cyl, trans, drive, fuel, sales_area, veh_class, air_pollution_score, city_mpg, hwy_mpg, cmb_mpg, greenhouse_gas_score, smartway]\n",
       "Index: []"
      ]
     },
     "execution_count": 45,
     "metadata": {},
     "output_type": "execute_result"
    }
   ],
   "source": [
    "\n",
    "df_10_hyb = df_10[df_10[\"fuel\"].str.contains(\"/\")]\n",
    "\n",
    "df_10_1 = df_10_hyb.copy()\n",
    "df_10_2 = df_10_hyb.copy()\n",
    "\n",
    "for i in split_columns:\n",
    "    df_10_1[i] = df_10_1[i].str.split(\"/\",expand = True)[0]\n",
    "    df_10_2[i] = df_10_2[i].str.split(\"/\",expand = True)[1]\n",
    "\n",
    "\n",
    "extracted_10 = df_10_1.append(df_10_2)\n",
    "\n",
    "\n",
    "\n",
    "df_10.drop(df_10_hyb.index, inplace = True)\n",
    "\n",
    "df_10 = df_10.append(extracted_10,ignore_index=True)\n",
    "\n",
    "\n",
    "df_10[df_10['fuel'].str.contains('/')]"
   ]
  },
  {
   "cell_type": "code",
   "execution_count": null,
   "metadata": {},
   "outputs": [],
   "source": []
  },
  {
   "cell_type": "markdown",
   "metadata": {},
   "source": [
    "### df_11"
   ]
  },
  {
   "cell_type": "code",
   "execution_count": 46,
   "metadata": {},
   "outputs": [
    {
     "data": {
      "text/html": [
       "<div>\n",
       "<style scoped>\n",
       "    .dataframe tbody tr th:only-of-type {\n",
       "        vertical-align: middle;\n",
       "    }\n",
       "\n",
       "    .dataframe tbody tr th {\n",
       "        vertical-align: top;\n",
       "    }\n",
       "\n",
       "    .dataframe thead th {\n",
       "        text-align: right;\n",
       "    }\n",
       "</style>\n",
       "<table border=\"1\" class=\"dataframe\">\n",
       "  <thead>\n",
       "    <tr style=\"text-align: right;\">\n",
       "      <th></th>\n",
       "      <th>model</th>\n",
       "      <th>displ</th>\n",
       "      <th>cyl</th>\n",
       "      <th>trans</th>\n",
       "      <th>drive</th>\n",
       "      <th>fuel</th>\n",
       "      <th>sales_area</th>\n",
       "      <th>veh_class</th>\n",
       "      <th>air_pollution_score</th>\n",
       "      <th>city_mpg</th>\n",
       "      <th>hwy_mpg</th>\n",
       "      <th>cmb_mpg</th>\n",
       "      <th>greenhouse_gas_score</th>\n",
       "      <th>smartway</th>\n",
       "    </tr>\n",
       "  </thead>\n",
       "  <tbody>\n",
       "  </tbody>\n",
       "</table>\n",
       "</div>"
      ],
      "text/plain": [
       "Empty DataFrame\n",
       "Columns: [model, displ, cyl, trans, drive, fuel, sales_area, veh_class, air_pollution_score, city_mpg, hwy_mpg, cmb_mpg, greenhouse_gas_score, smartway]\n",
       "Index: []"
      ]
     },
     "execution_count": 46,
     "metadata": {},
     "output_type": "execute_result"
    }
   ],
   "source": [
    "\n",
    "\n",
    "df_11_hyb = df_11[df_11[\"fuel\"].str.contains(\"/\")]\n",
    "\n",
    "\n",
    "\n",
    "df_11_1 = df_11_hyb.copy()\n",
    "df_11_2 = df_11_hyb.copy()\n",
    "\n",
    "for i in split_columns:\n",
    "    df_11_1[i] = df_11_1[i].str.split(\"/\",expand = True)[0]\n",
    "    df_11_2[i] = df_11_2[i].str.split(\"/\",expand = True)[1]\n",
    "    \n",
    "\n",
    "\n",
    "\n",
    "extracted_11 = df_11_1.append(df_11_2)\n",
    "\n",
    "\n",
    "\n",
    "\n",
    "df_11.drop(df_11_hyb.index, inplace = True)\n",
    "\n",
    "\n",
    "df_11 = df_11.append(extracted_11,ignore_index=True)\n",
    "\n",
    "\n",
    "\n",
    "df_11[df_11['fuel'].str.contains('/')]"
   ]
  },
  {
   "cell_type": "code",
   "execution_count": null,
   "metadata": {},
   "outputs": [],
   "source": []
  },
  {
   "cell_type": "markdown",
   "metadata": {},
   "source": [
    "### df_12"
   ]
  },
  {
   "cell_type": "code",
   "execution_count": 47,
   "metadata": {},
   "outputs": [
    {
     "data": {
      "text/html": [
       "<div>\n",
       "<style scoped>\n",
       "    .dataframe tbody tr th:only-of-type {\n",
       "        vertical-align: middle;\n",
       "    }\n",
       "\n",
       "    .dataframe tbody tr th {\n",
       "        vertical-align: top;\n",
       "    }\n",
       "\n",
       "    .dataframe thead th {\n",
       "        text-align: right;\n",
       "    }\n",
       "</style>\n",
       "<table border=\"1\" class=\"dataframe\">\n",
       "  <thead>\n",
       "    <tr style=\"text-align: right;\">\n",
       "      <th></th>\n",
       "      <th>model</th>\n",
       "      <th>displ</th>\n",
       "      <th>cyl</th>\n",
       "      <th>trans</th>\n",
       "      <th>drive</th>\n",
       "      <th>fuel</th>\n",
       "      <th>cert_region</th>\n",
       "      <th>veh_class</th>\n",
       "      <th>air_pollution_score</th>\n",
       "      <th>city_mpg</th>\n",
       "      <th>hwy_mpg</th>\n",
       "      <th>cmb_mpg</th>\n",
       "      <th>greenhouse_gas_score</th>\n",
       "      <th>smartway</th>\n",
       "    </tr>\n",
       "  </thead>\n",
       "  <tbody>\n",
       "  </tbody>\n",
       "</table>\n",
       "</div>"
      ],
      "text/plain": [
       "Empty DataFrame\n",
       "Columns: [model, displ, cyl, trans, drive, fuel, cert_region, veh_class, air_pollution_score, city_mpg, hwy_mpg, cmb_mpg, greenhouse_gas_score, smartway]\n",
       "Index: []"
      ]
     },
     "execution_count": 47,
     "metadata": {},
     "output_type": "execute_result"
    }
   ],
   "source": [
    "\n",
    "df_12_hyb = df_12[df_12[\"fuel\"].str.contains(\"/\")]\n",
    "\n",
    "\n",
    "df_12_1 = df_12_hyb.copy()\n",
    "df_12_2 = df_12_hyb.copy()\n",
    "\n",
    "\n",
    "split_columns = ['fuel',  'city_mpg', 'hwy_mpg', 'cmb_mpg']\n",
    "\n",
    "for i in split_columns:\n",
    "    df_12_1[i] = df_12_1[i].str.split(\"/\",expand = True)[0]\n",
    "    df_12_2[i] = df_12_2[i].str.split(\"/\",expand = True)[1]\n",
    "    \n",
    "\n",
    "extracted_12 = df_12_1.append(df_12_2)\n",
    "\n",
    "\n",
    "\n",
    "df_12.drop(df_12_hyb.index, inplace = True)\n",
    "\n",
    "\n",
    "df_12 = df_12.append(extracted_12,ignore_index=True)\n",
    "\n",
    "df_12[df_12['fuel'].str.contains('/')]"
   ]
  },
  {
   "cell_type": "code",
   "execution_count": null,
   "metadata": {},
   "outputs": [],
   "source": []
  },
  {
   "cell_type": "markdown",
   "metadata": {},
   "source": [
    "### df_13"
   ]
  },
  {
   "cell_type": "code",
   "execution_count": 48,
   "metadata": {},
   "outputs": [
    {
     "data": {
      "text/html": [
       "<div>\n",
       "<style scoped>\n",
       "    .dataframe tbody tr th:only-of-type {\n",
       "        vertical-align: middle;\n",
       "    }\n",
       "\n",
       "    .dataframe tbody tr th {\n",
       "        vertical-align: top;\n",
       "    }\n",
       "\n",
       "    .dataframe thead th {\n",
       "        text-align: right;\n",
       "    }\n",
       "</style>\n",
       "<table border=\"1\" class=\"dataframe\">\n",
       "  <thead>\n",
       "    <tr style=\"text-align: right;\">\n",
       "      <th></th>\n",
       "      <th>model</th>\n",
       "      <th>displ</th>\n",
       "      <th>cyl</th>\n",
       "      <th>trans</th>\n",
       "      <th>drive</th>\n",
       "      <th>fuel</th>\n",
       "      <th>cert_region</th>\n",
       "      <th>veh_class</th>\n",
       "      <th>air_pollution_score</th>\n",
       "      <th>city_mpg</th>\n",
       "      <th>hwy_mpg</th>\n",
       "      <th>cmb_mpg</th>\n",
       "      <th>greenhouse_gas_score</th>\n",
       "      <th>smartway</th>\n",
       "      <th>comb_co2</th>\n",
       "    </tr>\n",
       "  </thead>\n",
       "  <tbody>\n",
       "  </tbody>\n",
       "</table>\n",
       "</div>"
      ],
      "text/plain": [
       "Empty DataFrame\n",
       "Columns: [model, displ, cyl, trans, drive, fuel, cert_region, veh_class, air_pollution_score, city_mpg, hwy_mpg, cmb_mpg, greenhouse_gas_score, smartway, comb_co2]\n",
       "Index: []"
      ]
     },
     "execution_count": 48,
     "metadata": {},
     "output_type": "execute_result"
    }
   ],
   "source": [
    "\n",
    "df_13_hyb = df_13[df_13[\"fuel\"].str.contains(\"/\")]\n",
    "\n",
    "\n",
    "df_13_1 = df_13_hyb.copy()\n",
    "df_13_2 = df_13_hyb.copy()\n",
    "\n",
    "\n",
    "split_columns = ['fuel',  'city_mpg', 'hwy_mpg', 'cmb_mpg']\n",
    "\n",
    "for i in split_columns:\n",
    "    df_13_1[i] = df_13_1[i].str.split(\"/\",expand = True)[0]\n",
    "    df_13_2[i] = df_13_2[i].str.split(\"/\",expand = True)[1]\n",
    "    \n",
    "\n",
    "\n",
    "extracted_13 = df_13_1.append(df_13_2)\n",
    "\n",
    "\n",
    "\n",
    "\n",
    "df_13.drop(df_13_hyb.index, inplace = True)\n",
    "\n",
    "\n",
    "df_13 = df_13.append(extracted_13,ignore_index=True)\n",
    "\n",
    "df_13[df_13['fuel'].str.contains('/')]"
   ]
  },
  {
   "cell_type": "code",
   "execution_count": null,
   "metadata": {},
   "outputs": [],
   "source": []
  },
  {
   "cell_type": "markdown",
   "metadata": {},
   "source": [
    "### df_14"
   ]
  },
  {
   "cell_type": "code",
   "execution_count": 84,
   "metadata": {},
   "outputs": [
    {
     "data": {
      "text/html": [
       "<div>\n",
       "<style scoped>\n",
       "    .dataframe tbody tr th:only-of-type {\n",
       "        vertical-align: middle;\n",
       "    }\n",
       "\n",
       "    .dataframe tbody tr th {\n",
       "        vertical-align: top;\n",
       "    }\n",
       "\n",
       "    .dataframe thead th {\n",
       "        text-align: right;\n",
       "    }\n",
       "</style>\n",
       "<table border=\"1\" class=\"dataframe\">\n",
       "  <thead>\n",
       "    <tr style=\"text-align: right;\">\n",
       "      <th></th>\n",
       "      <th>model</th>\n",
       "      <th>displ</th>\n",
       "      <th>cyl</th>\n",
       "      <th>trans</th>\n",
       "      <th>drive</th>\n",
       "      <th>fuel</th>\n",
       "      <th>cert_region</th>\n",
       "      <th>veh_class</th>\n",
       "      <th>air_pollution_score</th>\n",
       "      <th>city_mpg</th>\n",
       "      <th>hwy_mpg</th>\n",
       "      <th>cmb_mpg</th>\n",
       "      <th>greenhouse_gas_score</th>\n",
       "      <th>smartway</th>\n",
       "    </tr>\n",
       "  </thead>\n",
       "  <tbody>\n",
       "  </tbody>\n",
       "</table>\n",
       "</div>"
      ],
      "text/plain": [
       "Empty DataFrame\n",
       "Columns: [model, displ, cyl, trans, drive, fuel, cert_region, veh_class, air_pollution_score, city_mpg, hwy_mpg, cmb_mpg, greenhouse_gas_score, smartway]\n",
       "Index: []"
      ]
     },
     "execution_count": 84,
     "metadata": {},
     "output_type": "execute_result"
    }
   ],
   "source": [
    "\n",
    "df_14_hyb = df_14[df_14[\"fuel\"].str.contains(\"/\")]\n",
    "\n",
    "df_14_1 = df_14_hyb.copy()\n",
    "df_14_2 = df_14_hyb.copy()\n",
    "\n",
    "\n",
    "split_columns = ['fuel',  'city_mpg', 'hwy_mpg', 'cmb_mpg']\n",
    "\n",
    "\n",
    "for i in split_columns:\n",
    "    df_14_1[i] = df_14_1[i].str.split(\"/\",expand = True)[0]\n",
    "    df_14_2[i] = df_14_2[i].str.split(\"/\",expand = True)[1]\n",
    "    \n",
    "\n",
    "extracted_14 = df_14_1.append(df_14_2)\n",
    "\n",
    "\n",
    "\n",
    "\n",
    "df_14.drop(df_14_hyb.index, inplace = True)\n",
    "\n",
    "\n",
    "df_14 = df_14.append(extracted_14,ignore_index=True)\n",
    "\n",
    "\n",
    "df_14[df_14['fuel'].str.contains('/')]\n"
   ]
  },
  {
   "cell_type": "code",
   "execution_count": null,
   "metadata": {},
   "outputs": [],
   "source": []
  },
  {
   "cell_type": "markdown",
   "metadata": {},
   "source": [
    "### df_15"
   ]
  },
  {
   "cell_type": "code",
   "execution_count": 85,
   "metadata": {},
   "outputs": [
    {
     "data": {
      "text/html": [
       "<div>\n",
       "<style scoped>\n",
       "    .dataframe tbody tr th:only-of-type {\n",
       "        vertical-align: middle;\n",
       "    }\n",
       "\n",
       "    .dataframe tbody tr th {\n",
       "        vertical-align: top;\n",
       "    }\n",
       "\n",
       "    .dataframe thead th {\n",
       "        text-align: right;\n",
       "    }\n",
       "</style>\n",
       "<table border=\"1\" class=\"dataframe\">\n",
       "  <thead>\n",
       "    <tr style=\"text-align: right;\">\n",
       "      <th></th>\n",
       "      <th>model</th>\n",
       "      <th>displ</th>\n",
       "      <th>cyl</th>\n",
       "      <th>trans</th>\n",
       "      <th>drive</th>\n",
       "      <th>fuel</th>\n",
       "      <th>cert_region</th>\n",
       "      <th>veh_class</th>\n",
       "      <th>air_pollution_score</th>\n",
       "      <th>city_mpg</th>\n",
       "      <th>hwy_mpg</th>\n",
       "      <th>cmb_mpg</th>\n",
       "      <th>greenhouse_gas_score</th>\n",
       "      <th>smartway</th>\n",
       "    </tr>\n",
       "  </thead>\n",
       "  <tbody>\n",
       "  </tbody>\n",
       "</table>\n",
       "</div>"
      ],
      "text/plain": [
       "Empty DataFrame\n",
       "Columns: [model, displ, cyl, trans, drive, fuel, cert_region, veh_class, air_pollution_score, city_mpg, hwy_mpg, cmb_mpg, greenhouse_gas_score, smartway]\n",
       "Index: []"
      ]
     },
     "execution_count": 85,
     "metadata": {},
     "output_type": "execute_result"
    }
   ],
   "source": [
    "\n",
    "df_15_hyb = df_15[df_15[\"fuel\"].str.contains(\"/\")]\n",
    "\n",
    "\n",
    "df_15_1 = df_15_hyb.copy()\n",
    "df_15_2 = df_15_hyb.copy()\n",
    "\n",
    "\n",
    "\n",
    "\n",
    "split_columns = ['fuel',  'city_mpg', 'hwy_mpg', 'cmb_mpg']\n",
    "\n",
    "\n",
    "for i in split_columns:\n",
    "    df_15_1[i] = df_15_1[i].str.split(\"/\",expand = True)[0]\n",
    "    df_15_2[i] = df_15_2[i].str.split(\"/\",expand = True)[1]\n",
    "    \n",
    "\n",
    "\n",
    "extracted_15 = df_15_1.append(df_15_2)\n",
    "\n",
    "\n",
    "\n",
    "\n",
    "df_15.drop(df_15_hyb.index, inplace = True)\n",
    "\n",
    "\n",
    "df_15 = df_15.append(extracted_15,ignore_index=True)\n",
    "\n",
    "\n",
    "df_15[df_15['fuel'].str.contains('/')]"
   ]
  },
  {
   "cell_type": "code",
   "execution_count": null,
   "metadata": {},
   "outputs": [],
   "source": []
  },
  {
   "cell_type": "markdown",
   "metadata": {},
   "source": [
    "### df_16"
   ]
  },
  {
   "cell_type": "code",
   "execution_count": 86,
   "metadata": {},
   "outputs": [
    {
     "data": {
      "text/html": [
       "<div>\n",
       "<style scoped>\n",
       "    .dataframe tbody tr th:only-of-type {\n",
       "        vertical-align: middle;\n",
       "    }\n",
       "\n",
       "    .dataframe tbody tr th {\n",
       "        vertical-align: top;\n",
       "    }\n",
       "\n",
       "    .dataframe thead th {\n",
       "        text-align: right;\n",
       "    }\n",
       "</style>\n",
       "<table border=\"1\" class=\"dataframe\">\n",
       "  <thead>\n",
       "    <tr style=\"text-align: right;\">\n",
       "      <th></th>\n",
       "      <th>model</th>\n",
       "      <th>displ</th>\n",
       "      <th>cyl</th>\n",
       "      <th>trans</th>\n",
       "      <th>drive</th>\n",
       "      <th>fuel</th>\n",
       "      <th>cert_region</th>\n",
       "      <th>veh_class</th>\n",
       "      <th>air_pollution_score</th>\n",
       "      <th>city_mpg</th>\n",
       "      <th>hwy_mpg</th>\n",
       "      <th>cmb_mpg</th>\n",
       "      <th>greenhouse_gas_score</th>\n",
       "      <th>smartway</th>\n",
       "    </tr>\n",
       "  </thead>\n",
       "  <tbody>\n",
       "  </tbody>\n",
       "</table>\n",
       "</div>"
      ],
      "text/plain": [
       "Empty DataFrame\n",
       "Columns: [model, displ, cyl, trans, drive, fuel, cert_region, veh_class, air_pollution_score, city_mpg, hwy_mpg, cmb_mpg, greenhouse_gas_score, smartway]\n",
       "Index: []"
      ]
     },
     "execution_count": 86,
     "metadata": {},
     "output_type": "execute_result"
    }
   ],
   "source": [
    "\n",
    "df_16_hyb = df_16[df_16[\"fuel\"].str.contains(\"/\")]\n",
    "\n",
    "df_16_1 = df_16_hyb.copy()\n",
    "df_16_2 = df_16_hyb.copy()\n",
    "\n",
    "\n",
    "split_columns = ['fuel',  'city_mpg', 'hwy_mpg', 'cmb_mpg']\n",
    "\n",
    "\n",
    "for i in split_columns:\n",
    "    df_16_1[i] = df_16_1[i].str.split(\"/\",expand = True)[0]\n",
    "    df_16_2[i] = df_16_2[i].str.split(\"/\",expand = True)[1]\n",
    "    \n",
    "\n",
    "\n",
    "extracted_16 = df_16_1.append(df_16_2)\n",
    "\n",
    "\n",
    "\n",
    "df_16.drop(df_16_hyb.index, inplace = True)\n",
    "\n",
    "\n",
    "df_16 = df_16.append(extracted_16,ignore_index=True)\n",
    "\n",
    "\n",
    "df_16[df_16['fuel'].str.contains('/')]"
   ]
  },
  {
   "cell_type": "code",
   "execution_count": null,
   "metadata": {},
   "outputs": [],
   "source": []
  },
  {
   "cell_type": "markdown",
   "metadata": {},
   "source": [
    "### df_17"
   ]
  },
  {
   "cell_type": "code",
   "execution_count": 87,
   "metadata": {},
   "outputs": [
    {
     "data": {
      "text/html": [
       "<div>\n",
       "<style scoped>\n",
       "    .dataframe tbody tr th:only-of-type {\n",
       "        vertical-align: middle;\n",
       "    }\n",
       "\n",
       "    .dataframe tbody tr th {\n",
       "        vertical-align: top;\n",
       "    }\n",
       "\n",
       "    .dataframe thead th {\n",
       "        text-align: right;\n",
       "    }\n",
       "</style>\n",
       "<table border=\"1\" class=\"dataframe\">\n",
       "  <thead>\n",
       "    <tr style=\"text-align: right;\">\n",
       "      <th></th>\n",
       "      <th>model</th>\n",
       "      <th>displ</th>\n",
       "      <th>cyl</th>\n",
       "      <th>trans</th>\n",
       "      <th>drive</th>\n",
       "      <th>fuel</th>\n",
       "      <th>cert_region</th>\n",
       "      <th>veh_class</th>\n",
       "      <th>air_pollution_score</th>\n",
       "      <th>city_mpg</th>\n",
       "      <th>hwy_mpg</th>\n",
       "      <th>cmb_mpg</th>\n",
       "      <th>greenhouse_gas_score</th>\n",
       "      <th>smartway</th>\n",
       "    </tr>\n",
       "  </thead>\n",
       "  <tbody>\n",
       "  </tbody>\n",
       "</table>\n",
       "</div>"
      ],
      "text/plain": [
       "Empty DataFrame\n",
       "Columns: [model, displ, cyl, trans, drive, fuel, cert_region, veh_class, air_pollution_score, city_mpg, hwy_mpg, cmb_mpg, greenhouse_gas_score, smartway]\n",
       "Index: []"
      ]
     },
     "execution_count": 87,
     "metadata": {},
     "output_type": "execute_result"
    }
   ],
   "source": [
    "\n",
    "df_17_hyb = df_17[df_17[\"fuel\"].str.contains(\"/\")]\n",
    "\n",
    "df_17_1 = df_17_hyb.copy()\n",
    "df_17_2 = df_17_hyb.copy()\n",
    "\n",
    "\n",
    "\n",
    "split_columns = ['fuel',  'city_mpg', 'hwy_mpg', 'cmb_mpg']\n",
    "\n",
    "\n",
    "for i in split_columns:\n",
    "    df_17_1[i] = df_17_1[i].str.split(\"/\",expand = True)[0]\n",
    "    df_17_2[i] = df_17_2[i].str.split(\"/\",expand = True)[1]\n",
    "    \n",
    "\n",
    "\n",
    "extracted_17 = df_17_1.append(df_17_2)\n",
    "\n",
    "\n",
    "\n",
    "\n",
    "df_17.drop(df_17_hyb.index, inplace = True)\n",
    "\n",
    "\n",
    "df_17 = df_17.append(extracted_17,ignore_index=True)\n",
    "\n",
    "\n",
    "df_17[df_17['fuel'].str.contains('/')]"
   ]
  },
  {
   "cell_type": "code",
   "execution_count": null,
   "metadata": {},
   "outputs": [],
   "source": []
  },
  {
   "cell_type": "markdown",
   "metadata": {},
   "source": [
    "### df_18"
   ]
  },
  {
   "cell_type": "code",
   "execution_count": 88,
   "metadata": {},
   "outputs": [
    {
     "data": {
      "text/html": [
       "<div>\n",
       "<style scoped>\n",
       "    .dataframe tbody tr th:only-of-type {\n",
       "        vertical-align: middle;\n",
       "    }\n",
       "\n",
       "    .dataframe tbody tr th {\n",
       "        vertical-align: top;\n",
       "    }\n",
       "\n",
       "    .dataframe thead th {\n",
       "        text-align: right;\n",
       "    }\n",
       "</style>\n",
       "<table border=\"1\" class=\"dataframe\">\n",
       "  <thead>\n",
       "    <tr style=\"text-align: right;\">\n",
       "      <th></th>\n",
       "      <th>model</th>\n",
       "      <th>displ</th>\n",
       "      <th>cyl</th>\n",
       "      <th>trans</th>\n",
       "      <th>drive</th>\n",
       "      <th>fuel</th>\n",
       "      <th>cert_region</th>\n",
       "      <th>veh_class</th>\n",
       "      <th>air_pollution_score</th>\n",
       "      <th>city_mpg</th>\n",
       "      <th>hwy_mpg</th>\n",
       "      <th>cmb_mpg</th>\n",
       "      <th>greenhouse_gas_score</th>\n",
       "      <th>smartway</th>\n",
       "    </tr>\n",
       "  </thead>\n",
       "  <tbody>\n",
       "  </tbody>\n",
       "</table>\n",
       "</div>"
      ],
      "text/plain": [
       "Empty DataFrame\n",
       "Columns: [model, displ, cyl, trans, drive, fuel, cert_region, veh_class, air_pollution_score, city_mpg, hwy_mpg, cmb_mpg, greenhouse_gas_score, smartway]\n",
       "Index: []"
      ]
     },
     "execution_count": 88,
     "metadata": {},
     "output_type": "execute_result"
    }
   ],
   "source": [
    "\n",
    "df_18_hyb = df_18[df_18[\"fuel\"].str.contains(\"/\")]\n",
    "\n",
    "\n",
    "df_18_1 = df_18_hyb.copy()\n",
    "df_18_2 = df_18_hyb.copy()\n",
    "\n",
    "\n",
    "split_columns = ['fuel',  'city_mpg', 'hwy_mpg', 'cmb_mpg']\n",
    "\n",
    "for i in split_columns:\n",
    "    df_18_1[i] = df_18_1[i].str.split(\"/\",expand = True)[0]\n",
    "    df_18_2[i] = df_18_2[i].str.split(\"/\",expand = True)[1]\n",
    "    \n",
    "\n",
    "\n",
    "extracted_18 = df_18_1.append(df_18_2)\n",
    "\n",
    "\n",
    "\n",
    "\n",
    "df_18.drop(df_18_hyb.index, inplace = True)\n",
    "\n",
    "\n",
    "df_18 = df_18.append(extracted_18,ignore_index=True)\n",
    "\n",
    "\n",
    "df_18[df_18['fuel'].str.contains('/')]\n"
   ]
  },
  {
   "cell_type": "code",
   "execution_count": null,
   "metadata": {},
   "outputs": [],
   "source": []
  },
  {
   "cell_type": "markdown",
   "metadata": {},
   "source": [
    "### df_19"
   ]
  },
  {
   "cell_type": "code",
   "execution_count": 89,
   "metadata": {},
   "outputs": [
    {
     "data": {
      "text/html": [
       "<div>\n",
       "<style scoped>\n",
       "    .dataframe tbody tr th:only-of-type {\n",
       "        vertical-align: middle;\n",
       "    }\n",
       "\n",
       "    .dataframe tbody tr th {\n",
       "        vertical-align: top;\n",
       "    }\n",
       "\n",
       "    .dataframe thead th {\n",
       "        text-align: right;\n",
       "    }\n",
       "</style>\n",
       "<table border=\"1\" class=\"dataframe\">\n",
       "  <thead>\n",
       "    <tr style=\"text-align: right;\">\n",
       "      <th></th>\n",
       "      <th>model</th>\n",
       "      <th>displ</th>\n",
       "      <th>cyl</th>\n",
       "      <th>trans</th>\n",
       "      <th>drive</th>\n",
       "      <th>fuel</th>\n",
       "      <th>cert_region</th>\n",
       "      <th>veh_class</th>\n",
       "      <th>air_pollution_score</th>\n",
       "      <th>city_mpg</th>\n",
       "      <th>hwy_mpg</th>\n",
       "      <th>cmb_mpg</th>\n",
       "      <th>greenhouse_gas_score</th>\n",
       "      <th>smartway</th>\n",
       "    </tr>\n",
       "  </thead>\n",
       "  <tbody>\n",
       "  </tbody>\n",
       "</table>\n",
       "</div>"
      ],
      "text/plain": [
       "Empty DataFrame\n",
       "Columns: [model, displ, cyl, trans, drive, fuel, cert_region, veh_class, air_pollution_score, city_mpg, hwy_mpg, cmb_mpg, greenhouse_gas_score, smartway]\n",
       "Index: []"
      ]
     },
     "execution_count": 89,
     "metadata": {},
     "output_type": "execute_result"
    }
   ],
   "source": [
    "\n",
    "df_19_hyb = df_19[df_19[\"fuel\"].str.contains(\"/\")]\n",
    "\n",
    "\n",
    "df_19_1 = df_19_hyb.copy()\n",
    "df_19_2 = df_19_hyb.copy()\n",
    "\n",
    "\n",
    "split_columns = ['fuel',  'city_mpg', 'hwy_mpg', 'cmb_mpg']\n",
    "\n",
    "\n",
    "for i in split_columns:\n",
    "    df_19_1[i] = df_19_1[i].str.split(\"/\",expand = True)[0]\n",
    "    df_19_2[i] = df_19_2[i].str.split(\"/\",expand = True)[1]\n",
    "    \n",
    "\n",
    "\n",
    "extracted_19 = df_19_1.append(df_19_2)\n",
    "\n",
    "\n",
    "\n",
    "\n",
    "df_19.drop(df_19_hyb.index, inplace = True)\n",
    "\n",
    "\n",
    "df_19 = df_19.append(extracted_19,ignore_index=True)\n",
    "\n",
    "\n",
    "df_19[df_19['fuel'].str.contains('/')]"
   ]
  },
  {
   "cell_type": "code",
   "execution_count": null,
   "metadata": {},
   "outputs": [],
   "source": []
  },
  {
   "cell_type": "markdown",
   "metadata": {},
   "source": [
    "### df_20"
   ]
  },
  {
   "cell_type": "code",
   "execution_count": 90,
   "metadata": {},
   "outputs": [
    {
     "data": {
      "text/html": [
       "<div>\n",
       "<style scoped>\n",
       "    .dataframe tbody tr th:only-of-type {\n",
       "        vertical-align: middle;\n",
       "    }\n",
       "\n",
       "    .dataframe tbody tr th {\n",
       "        vertical-align: top;\n",
       "    }\n",
       "\n",
       "    .dataframe thead th {\n",
       "        text-align: right;\n",
       "    }\n",
       "</style>\n",
       "<table border=\"1\" class=\"dataframe\">\n",
       "  <thead>\n",
       "    <tr style=\"text-align: right;\">\n",
       "      <th></th>\n",
       "      <th>model</th>\n",
       "      <th>displ</th>\n",
       "      <th>cyl</th>\n",
       "      <th>trans</th>\n",
       "      <th>drive</th>\n",
       "      <th>fuel</th>\n",
       "      <th>cert_region</th>\n",
       "      <th>veh_class</th>\n",
       "      <th>air_pollution_score</th>\n",
       "      <th>city_mpg</th>\n",
       "      <th>hwy_mpg</th>\n",
       "      <th>cmb_mpg</th>\n",
       "      <th>greenhouse_gas_score</th>\n",
       "      <th>smartway</th>\n",
       "    </tr>\n",
       "  </thead>\n",
       "  <tbody>\n",
       "  </tbody>\n",
       "</table>\n",
       "</div>"
      ],
      "text/plain": [
       "Empty DataFrame\n",
       "Columns: [model, displ, cyl, trans, drive, fuel, cert_region, veh_class, air_pollution_score, city_mpg, hwy_mpg, cmb_mpg, greenhouse_gas_score, smartway]\n",
       "Index: []"
      ]
     },
     "execution_count": 90,
     "metadata": {},
     "output_type": "execute_result"
    }
   ],
   "source": [
    "\n",
    "df_20_hyb = df_20[df_20[\"fuel\"].str.contains(\"/\")]\n",
    "\n",
    "\n",
    "df_20_1 = df_20_hyb.copy()\n",
    "df_20_2 = df_20_hyb.copy()\n",
    "\n",
    "\n",
    "split_columns = ['fuel',  'city_mpg', 'hwy_mpg', 'cmb_mpg']\n",
    "\n",
    "\n",
    "for i in split_columns:\n",
    "    df_20_1[i] = df_20_1[i].str.split(\"/\",expand = True)[0]\n",
    "    df_20_2[i] = df_20_2[i].str.split(\"/\",expand = True)[1]\n",
    "    \n",
    "\n",
    "\n",
    "extracted_20 = df_20_1.append(df_20_2)\n",
    "\n",
    "\n",
    "\n",
    "\n",
    "df_20.drop(df_20_hyb.index, inplace = True)\n",
    "\n",
    "\n",
    "df_20 = df_20.append(extracted_20,ignore_index=True)\n",
    "\n",
    "\n",
    "df_20[df_20['fuel'].str.contains('/')]"
   ]
  },
  {
   "cell_type": "code",
   "execution_count": null,
   "metadata": {},
   "outputs": [],
   "source": []
  },
  {
   "cell_type": "markdown",
   "metadata": {},
   "source": [
    "### df_21"
   ]
  },
  {
   "cell_type": "code",
   "execution_count": 91,
   "metadata": {},
   "outputs": [
    {
     "data": {
      "text/html": [
       "<div>\n",
       "<style scoped>\n",
       "    .dataframe tbody tr th:only-of-type {\n",
       "        vertical-align: middle;\n",
       "    }\n",
       "\n",
       "    .dataframe tbody tr th {\n",
       "        vertical-align: top;\n",
       "    }\n",
       "\n",
       "    .dataframe thead th {\n",
       "        text-align: right;\n",
       "    }\n",
       "</style>\n",
       "<table border=\"1\" class=\"dataframe\">\n",
       "  <thead>\n",
       "    <tr style=\"text-align: right;\">\n",
       "      <th></th>\n",
       "      <th>model</th>\n",
       "      <th>displ</th>\n",
       "      <th>cyl</th>\n",
       "      <th>trans</th>\n",
       "      <th>drive</th>\n",
       "      <th>fuel</th>\n",
       "      <th>cert_region</th>\n",
       "      <th>veh_class</th>\n",
       "      <th>air_pollution_score</th>\n",
       "      <th>city_mpg</th>\n",
       "      <th>hwy_mpg</th>\n",
       "      <th>cmb_mpg</th>\n",
       "      <th>greenhouse_gas_score</th>\n",
       "      <th>smartway</th>\n",
       "    </tr>\n",
       "  </thead>\n",
       "  <tbody>\n",
       "  </tbody>\n",
       "</table>\n",
       "</div>"
      ],
      "text/plain": [
       "Empty DataFrame\n",
       "Columns: [model, displ, cyl, trans, drive, fuel, cert_region, veh_class, air_pollution_score, city_mpg, hwy_mpg, cmb_mpg, greenhouse_gas_score, smartway]\n",
       "Index: []"
      ]
     },
     "execution_count": 91,
     "metadata": {},
     "output_type": "execute_result"
    }
   ],
   "source": [
    "\n",
    "df_21_hyb = df_21[df_21[\"fuel\"].str.contains(\"/\")]\n",
    "\n",
    "\n",
    "\n",
    "df_21_1 = df_21_hyb.copy()\n",
    "df_21_2 = df_21_hyb.copy()\n",
    "\n",
    "\n",
    "split_columns = ['fuel',  'city_mpg', 'hwy_mpg', 'cmb_mpg']\n",
    "\n",
    "\n",
    "for i in split_columns:\n",
    "    df_21_1[i] = df_21_1[i].str.split(\"/\",expand = True)[0]\n",
    "    df_21_2[i] = df_21_2[i].str.split(\"/\",expand = True)[1]\n",
    "    \n",
    "\n",
    "\n",
    "extracted_21 = df_21_1.append(df_21_2)\n",
    "\n",
    "\n",
    "\n",
    "df_21.drop(df_21_hyb.index, inplace = True)\n",
    "\n",
    "\n",
    "df_21 = df_21.append(extracted_21,ignore_index=True)\n",
    "\n",
    "\n",
    "df_21[df_21['fuel'].str.contains('/')]"
   ]
  },
  {
   "cell_type": "code",
   "execution_count": null,
   "metadata": {},
   "outputs": [],
   "source": []
  },
  {
   "cell_type": "markdown",
   "metadata": {},
   "source": [
    "### df_22"
   ]
  },
  {
   "cell_type": "code",
   "execution_count": 92,
   "metadata": {},
   "outputs": [
    {
     "data": {
      "text/html": [
       "<div>\n",
       "<style scoped>\n",
       "    .dataframe tbody tr th:only-of-type {\n",
       "        vertical-align: middle;\n",
       "    }\n",
       "\n",
       "    .dataframe tbody tr th {\n",
       "        vertical-align: top;\n",
       "    }\n",
       "\n",
       "    .dataframe thead th {\n",
       "        text-align: right;\n",
       "    }\n",
       "</style>\n",
       "<table border=\"1\" class=\"dataframe\">\n",
       "  <thead>\n",
       "    <tr style=\"text-align: right;\">\n",
       "      <th></th>\n",
       "      <th>model</th>\n",
       "      <th>displ</th>\n",
       "      <th>cyl</th>\n",
       "      <th>trans</th>\n",
       "      <th>drive</th>\n",
       "      <th>fuel</th>\n",
       "      <th>cert_region</th>\n",
       "      <th>veh_class</th>\n",
       "      <th>air_pollution_score</th>\n",
       "      <th>city_mpg</th>\n",
       "      <th>hwy_mpg</th>\n",
       "      <th>cmb_mpg</th>\n",
       "      <th>greenhouse_gas_score</th>\n",
       "      <th>smartway</th>\n",
       "    </tr>\n",
       "  </thead>\n",
       "  <tbody>\n",
       "  </tbody>\n",
       "</table>\n",
       "</div>"
      ],
      "text/plain": [
       "Empty DataFrame\n",
       "Columns: [model, displ, cyl, trans, drive, fuel, cert_region, veh_class, air_pollution_score, city_mpg, hwy_mpg, cmb_mpg, greenhouse_gas_score, smartway]\n",
       "Index: []"
      ]
     },
     "execution_count": 92,
     "metadata": {},
     "output_type": "execute_result"
    }
   ],
   "source": [
    "\n",
    "df_22_hyb = df_22[df_22[\"fuel\"].str.contains(\"/\")]\n",
    "\n",
    "\n",
    "df_22_1 = df_22_hyb.copy()\n",
    "df_22_2 = df_22_hyb.copy()\n",
    "\n",
    "\n",
    "split_columns = ['fuel',  'city_mpg', 'hwy_mpg', 'cmb_mpg']\n",
    "\n",
    "\n",
    "for i in split_columns:\n",
    "    df_22_1[i] = df_22_1[i].str.split(\"/\",expand = True)[0]\n",
    "    df_22_2[i] = df_22_2[i].str.split(\"/\",expand = True)[1]\n",
    "    \n",
    "\n",
    "\n",
    "extracted_22 = df_22_1.append(df_22_2)\n",
    "\n",
    "\n",
    "\n",
    "\n",
    "df_22.drop(df_22_hyb.index, inplace = True)\n",
    "\n",
    "\n",
    "df_22 = df_22.append(extracted_22,ignore_index=True)\n",
    "\n",
    "\n",
    "df_22[df_22['fuel'].str.contains('/')]"
   ]
  },
  {
   "cell_type": "code",
   "execution_count": 93,
   "metadata": {},
   "outputs": [
    {
     "data": {
      "text/plain": [
       "model                   0\n",
       "displ                   0\n",
       "cyl                     0\n",
       "trans                   0\n",
       "drive                   0\n",
       "fuel                    0\n",
       "cert_region             0\n",
       "veh_class               0\n",
       "air_pollution_score     0\n",
       "city_mpg                0\n",
       "hwy_mpg                 0\n",
       "cmb_mpg                 0\n",
       "greenhouse_gas_score    0\n",
       "smartway                0\n",
       "dtype: int64"
      ]
     },
     "execution_count": 93,
     "metadata": {},
     "output_type": "execute_result"
    }
   ],
   "source": [
    "#df13 and df11 has some null values so removing it\n",
    "\n",
    "df_13.isnull().sum()"
   ]
  },
  {
   "cell_type": "code",
   "execution_count": 137,
   "metadata": {},
   "outputs": [
    {
     "data": {
      "text/plain": [
       "model                   0\n",
       "displ                   0\n",
       "cyl                     0\n",
       "trans                   0\n",
       "drive                   0\n",
       "fuel                    0\n",
       "cert_region             0\n",
       "veh_class               0\n",
       "air_pollution_score     0\n",
       "city_mpg                2\n",
       "hwy_mpg                 2\n",
       "cmb_mpg                 2\n",
       "greenhouse_gas_score    0\n",
       "smartway                0\n",
       "dtype: int64"
      ]
     },
     "execution_count": 137,
     "metadata": {},
     "output_type": "execute_result"
    }
   ],
   "source": [
    "df_15.isnull().sum()"
   ]
  },
  {
   "cell_type": "code",
   "execution_count": 95,
   "metadata": {},
   "outputs": [],
   "source": [
    "df_13.dropna(inplace=True)"
   ]
  },
  {
   "cell_type": "code",
   "execution_count": 96,
   "metadata": {},
   "outputs": [],
   "source": [
    "df_11.dropna(inplace=True)"
   ]
  },
  {
   "cell_type": "code",
   "execution_count": 138,
   "metadata": {},
   "outputs": [],
   "source": [
    "df_15.dropna(inplace=True)"
   ]
  },
  {
   "cell_type": "markdown",
   "metadata": {},
   "source": [
    "##### changing MPG datatypes to int"
   ]
  },
  {
   "cell_type": "code",
   "execution_count": 127,
   "metadata": {},
   "outputs": [
    {
     "data": {
      "text/plain": [
       "18     196\n",
       "19     189\n",
       "20     186\n",
       "17     180\n",
       "16     169\n",
       "22     153\n",
       "25     146\n",
       "15     146\n",
       "24     133\n",
       "21     129\n",
       "23     116\n",
       "13     115\n",
       "14      86\n",
       "26      82\n",
       "27      62\n",
       "11      59\n",
       "12      52\n",
       "28      47\n",
       "31      35\n",
       "30      34\n",
       "29      32\n",
       "9       14\n",
       "36      10\n",
       "40      10\n",
       "10       9\n",
       "44       8\n",
       "8        8\n",
       "35       7\n",
       "34       6\n",
       "43       6\n",
       "32       6\n",
       "41       5\n",
       "42       5\n",
       "33       4\n",
       "51       4\n",
       "95       4\n",
       "85       3\n",
       "101      3\n",
       "37       2\n",
       "53       2\n",
       "50       2\n",
       "7        2\n",
       "127      2\n",
       "80       2\n",
       "54       2\n",
       "68       2\n",
       "48       2\n",
       "90       2\n",
       "Name: city_mpg, dtype: int64"
      ]
     },
     "execution_count": 127,
     "metadata": {},
     "output_type": "execute_result"
    }
   ],
   "source": [
    "df_15.city_mpg.value_counts()"
   ]
  },
  {
   "cell_type": "code",
   "execution_count": 139,
   "metadata": {},
   "outputs": [],
   "source": [
    "mpg_list = ['city_mpg','hwy_mpg','cmb_mpg']"
   ]
  },
  {
   "cell_type": "code",
   "execution_count": 124,
   "metadata": {},
   "outputs": [],
   "source": [
    "for i in mpg_list:\n",
    "    df_08[i] = df_08[i].astype(\"int\")\n",
    "    df_9[i] = df_9[i].astype(\"int\")\n",
    "    df_10[i] = df_10[i].astype(\"int\")\n",
    "    df_11[i] = df_11[i].astype(\"int\")\n",
    "    df_12[i] = df_12[i].astype(\"int\")\n",
    "    df_13[i] = df_13[i].astype(\"int\")\n",
    "    df_14[i] = df_14[i].astype(\"int\")\n",
    "    df_15[i] = df_15[i].astype(\"int\")\n",
    "    df_16[i] = df_16[i].astype(\"int\")\n",
    "    df_17[i] = df_17[i].astype(\"int\")\n",
    "    df_18[i] = df_18[i].astype(\"int\")\n",
    "    df_19[i] = df_19[i].astype(\"int\")\n",
    "    df_20[i] = df_20[i].astype(\"int\")\n",
    "    df_21[i] = df_21[i].astype(\"int\")\n",
    "    df_22[i] = df_22[i].astype(\"int\")\n",
    "    "
   ]
  },
  {
   "cell_type": "code",
   "execution_count": 99,
   "metadata": {},
   "outputs": [
    {
     "data": {
      "text/plain": [
       "4.0     1156\n",
       "6.0      783\n",
       "8.0      504\n",
       "12.0      47\n",
       "3.0       44\n",
       "10.0      12\n",
       "2.0        8\n",
       "5.0        4\n",
       "16.0       4\n",
       "Name: cyl, dtype: int64"
      ]
     },
     "execution_count": 99,
     "metadata": {},
     "output_type": "execute_result"
    }
   ],
   "source": [
    "df_20['cyl'].value_counts()"
   ]
  },
  {
   "cell_type": "code",
   "execution_count": null,
   "metadata": {},
   "outputs": [],
   "source": []
  },
  {
   "cell_type": "markdown",
   "metadata": {},
   "source": [
    "###### changing cyl column in correct format"
   ]
  },
  {
   "cell_type": "code",
   "execution_count": 100,
   "metadata": {},
   "outputs": [],
   "source": [
    "df_08['cyl'] = df_08['cyl'].str.extract('(\\d+)').astype(\"float\")"
   ]
  },
  {
   "cell_type": "markdown",
   "metadata": {},
   "source": [
    "### change column drive from object to float"
   ]
  },
  {
   "cell_type": "code",
   "execution_count": 101,
   "metadata": {},
   "outputs": [
    {
     "data": {
      "text/plain": [
       "array(['2WD', '4WD'], dtype=object)"
      ]
     },
     "execution_count": 101,
     "metadata": {},
     "output_type": "execute_result"
    }
   ],
   "source": [
    "df_19['drive'].unique()"
   ]
  },
  {
   "cell_type": "code",
   "execution_count": 102,
   "metadata": {},
   "outputs": [],
   "source": [
    "df_08['drive'] = df_08['drive'].str.replace('WD','').astype('int')\n",
    "\n",
    "df_9['drive'] = df_9['drive'].str.replace('WD','').astype('int')\n",
    "\n",
    "df_10['drive'] = df_10['drive'].str.replace('WD','').astype('int')\n",
    "\n",
    "df_11['drive'] = df_11['drive'].str.replace('WD','').astype('int')\n",
    "\n",
    "df_12['drive'] = df_12['drive'].str.replace('WD','').astype('int')\n",
    "\n",
    "df_13['drive'] = df_13['drive'].str.replace('WD','').astype('int')\n",
    "\n",
    "df_14['drive'] = df_14['drive'].str.replace('WD','').astype('int')\n",
    "\n",
    "df_15['drive'] = df_15['drive'].str.replace('WD','').astype('int')\n",
    "\n",
    "df_16['drive'] = df_16['drive'].str.replace('WD','').astype('int')\n",
    "\n",
    "df_17['drive'] = df_17['drive'].str.replace('WD','').astype('int')\n",
    "\n",
    "df_18['drive'] = df_18['drive'].str.replace('WD','').astype('int')\n",
    "\n",
    "df_19['drive'] = df_19['drive'].str.replace('WD','').astype('int')\n",
    "\n",
    "df_20['drive'] = df_20['drive'].str.replace('WD','').astype('int')\n",
    "\n",
    "df_21['drive'] = df_21['drive'].str.replace('WD','').astype('int')\n",
    "\n",
    "df_22['drive'] = df_22['drive'].str.replace('WD','').astype('int')"
   ]
  },
  {
   "cell_type": "code",
   "execution_count": null,
   "metadata": {},
   "outputs": [],
   "source": []
  },
  {
   "cell_type": "code",
   "execution_count": 103,
   "metadata": {},
   "outputs": [
    {
     "data": {
      "text/plain": [
       "5      669\n",
       "4      427\n",
       "6      418\n",
       "7      403\n",
       "3      165\n",
       "8      161\n",
       "Mod     54\n",
       "2       50\n",
       "9       47\n",
       "1       44\n",
       "10      43\n",
       "Name: greenhouse_gas_score, dtype: int64"
      ]
     },
     "execution_count": 103,
     "metadata": {},
     "output_type": "execute_result"
    }
   ],
   "source": [
    "df_15[\"greenhouse_gas_score\"].value_counts()"
   ]
  },
  {
   "cell_type": "markdown",
   "metadata": {},
   "source": [
    "###### change Data_frame  column greenhouse_gas_score from object to float"
   ]
  },
  {
   "cell_type": "code",
   "execution_count": 115,
   "metadata": {},
   "outputs": [
    {
     "data": {
      "text/html": [
       "<div>\n",
       "<style scoped>\n",
       "    .dataframe tbody tr th:only-of-type {\n",
       "        vertical-align: middle;\n",
       "    }\n",
       "\n",
       "    .dataframe tbody tr th {\n",
       "        vertical-align: top;\n",
       "    }\n",
       "\n",
       "    .dataframe thead th {\n",
       "        text-align: right;\n",
       "    }\n",
       "</style>\n",
       "<table border=\"1\" class=\"dataframe\">\n",
       "  <thead>\n",
       "    <tr style=\"text-align: right;\">\n",
       "      <th></th>\n",
       "      <th>model</th>\n",
       "      <th>displ</th>\n",
       "      <th>cyl</th>\n",
       "      <th>trans</th>\n",
       "      <th>drive</th>\n",
       "      <th>fuel</th>\n",
       "      <th>cert_region</th>\n",
       "      <th>veh_class</th>\n",
       "      <th>air_pollution_score</th>\n",
       "      <th>city_mpg</th>\n",
       "      <th>hwy_mpg</th>\n",
       "      <th>cmb_mpg</th>\n",
       "      <th>greenhouse_gas_score</th>\n",
       "      <th>smartway</th>\n",
       "    </tr>\n",
       "  </thead>\n",
       "  <tbody>\n",
       "  </tbody>\n",
       "</table>\n",
       "</div>"
      ],
      "text/plain": [
       "Empty DataFrame\n",
       "Columns: [model, displ, cyl, trans, drive, fuel, cert_region, veh_class, air_pollution_score, city_mpg, hwy_mpg, cmb_mpg, greenhouse_gas_score, smartway]\n",
       "Index: []"
      ]
     },
     "execution_count": 115,
     "metadata": {},
     "output_type": "execute_result"
    }
   ],
   "source": [
    "df_22.query(\"greenhouse_gas_score == 'Mod'\").head()"
   ]
  },
  {
   "cell_type": "code",
   "execution_count": null,
   "metadata": {},
   "outputs": [],
   "source": []
  },
  {
   "cell_type": "markdown",
   "metadata": {},
   "source": [
    "### change air_pollution_score and greenhouse_gas_score to float"
   ]
  },
  {
   "cell_type": "code",
   "execution_count": 105,
   "metadata": {},
   "outputs": [],
   "source": [
    "mod_list = [\"air_pollution_score\",\"greenhouse_gas_score\"]"
   ]
  },
  {
   "cell_type": "code",
   "execution_count": 143,
   "metadata": {},
   "outputs": [],
   "source": [
    "df_16[\"air_pollution_score\"] = df_16[\"air_pollution_score\"].str.replace(\"Mod\",\"5\").astype(\"float\")\n",
    "df_16[\"greenhouse_gas_score\"] = df_16[\"greenhouse_gas_score\"].astype(\"float\")"
   ]
  },
  {
   "cell_type": "code",
   "execution_count": 146,
   "metadata": {},
   "outputs": [
    {
     "ename": "AttributeError",
     "evalue": "Can only use .str accessor with string values!",
     "output_type": "error",
     "traceback": [
      "\u001b[1;31m---------------------------------------------------------------------------\u001b[0m",
      "\u001b[1;31mAttributeError\u001b[0m                            Traceback (most recent call last)",
      "\u001b[1;32mC:\\Users\\ABO_SH~1\\AppData\\Local\\Temp/ipykernel_9856/614117162.py\u001b[0m in \u001b[0;36m<module>\u001b[1;34m\u001b[0m\n\u001b[0;32m      1\u001b[0m \u001b[1;32mfor\u001b[0m \u001b[0mi\u001b[0m \u001b[1;32min\u001b[0m \u001b[0mmod_list\u001b[0m\u001b[1;33m:\u001b[0m\u001b[1;33m\u001b[0m\u001b[1;33m\u001b[0m\u001b[0m\n\u001b[0;32m      2\u001b[0m     \u001b[0mdf_08\u001b[0m\u001b[1;33m[\u001b[0m\u001b[0mi\u001b[0m\u001b[1;33m]\u001b[0m \u001b[1;33m=\u001b[0m \u001b[0mdf_08\u001b[0m\u001b[1;33m[\u001b[0m\u001b[0mi\u001b[0m\u001b[1;33m]\u001b[0m\u001b[1;33m.\u001b[0m\u001b[0mastype\u001b[0m\u001b[1;33m(\u001b[0m\u001b[1;34m\"float\"\u001b[0m\u001b[1;33m)\u001b[0m\u001b[1;33m\u001b[0m\u001b[1;33m\u001b[0m\u001b[0m\n\u001b[1;32m----> 3\u001b[1;33m     \u001b[0mdf_9\u001b[0m\u001b[1;33m[\u001b[0m\u001b[0mi\u001b[0m\u001b[1;33m]\u001b[0m \u001b[1;33m=\u001b[0m \u001b[0mdf_9\u001b[0m\u001b[1;33m[\u001b[0m\u001b[0mi\u001b[0m\u001b[1;33m]\u001b[0m\u001b[1;33m.\u001b[0m\u001b[0mstr\u001b[0m\u001b[1;33m.\u001b[0m\u001b[0mreplace\u001b[0m\u001b[1;33m(\u001b[0m\u001b[1;34m\"Mod\"\u001b[0m\u001b[1;33m,\u001b[0m\u001b[1;34m\"5\"\u001b[0m\u001b[1;33m)\u001b[0m\u001b[1;33m.\u001b[0m\u001b[0mastype\u001b[0m\u001b[1;33m(\u001b[0m\u001b[1;34m\"float\"\u001b[0m\u001b[1;33m)\u001b[0m\u001b[1;33m\u001b[0m\u001b[1;33m\u001b[0m\u001b[0m\n\u001b[0m\u001b[0;32m      4\u001b[0m     \u001b[0mdf_10\u001b[0m\u001b[1;33m[\u001b[0m\u001b[0mi\u001b[0m\u001b[1;33m]\u001b[0m \u001b[1;33m=\u001b[0m \u001b[0mdf_10\u001b[0m\u001b[1;33m[\u001b[0m\u001b[0mi\u001b[0m\u001b[1;33m]\u001b[0m\u001b[1;33m.\u001b[0m\u001b[0mstr\u001b[0m\u001b[1;33m.\u001b[0m\u001b[0mreplace\u001b[0m\u001b[1;33m(\u001b[0m\u001b[1;34m\"Mod\"\u001b[0m\u001b[1;33m,\u001b[0m\u001b[1;34m\"5\"\u001b[0m\u001b[1;33m)\u001b[0m\u001b[1;33m.\u001b[0m\u001b[0mastype\u001b[0m\u001b[1;33m(\u001b[0m\u001b[1;34m\"float\"\u001b[0m\u001b[1;33m)\u001b[0m\u001b[1;33m\u001b[0m\u001b[1;33m\u001b[0m\u001b[0m\n\u001b[0;32m      5\u001b[0m     \u001b[0mdf_11\u001b[0m\u001b[1;33m[\u001b[0m\u001b[0mi\u001b[0m\u001b[1;33m]\u001b[0m \u001b[1;33m=\u001b[0m \u001b[0mdf_11\u001b[0m\u001b[1;33m[\u001b[0m\u001b[0mi\u001b[0m\u001b[1;33m]\u001b[0m\u001b[1;33m.\u001b[0m\u001b[0mstr\u001b[0m\u001b[1;33m.\u001b[0m\u001b[0mreplace\u001b[0m\u001b[1;33m(\u001b[0m\u001b[1;34m\"Mod\"\u001b[0m\u001b[1;33m,\u001b[0m\u001b[1;34m\"5\"\u001b[0m\u001b[1;33m)\u001b[0m\u001b[1;33m.\u001b[0m\u001b[0mastype\u001b[0m\u001b[1;33m(\u001b[0m\u001b[1;34m\"float\"\u001b[0m\u001b[1;33m)\u001b[0m\u001b[1;33m\u001b[0m\u001b[1;33m\u001b[0m\u001b[0m\n",
      "\u001b[1;32m~\\anaconda3\\lib\\site-packages\\pandas\\core\\generic.py\u001b[0m in \u001b[0;36m__getattr__\u001b[1;34m(self, name)\u001b[0m\n\u001b[0;32m   5485\u001b[0m         ):\n\u001b[0;32m   5486\u001b[0m             \u001b[1;32mreturn\u001b[0m \u001b[0mself\u001b[0m\u001b[1;33m[\u001b[0m\u001b[0mname\u001b[0m\u001b[1;33m]\u001b[0m\u001b[1;33m\u001b[0m\u001b[1;33m\u001b[0m\u001b[0m\n\u001b[1;32m-> 5487\u001b[1;33m         \u001b[1;32mreturn\u001b[0m \u001b[0mobject\u001b[0m\u001b[1;33m.\u001b[0m\u001b[0m__getattribute__\u001b[0m\u001b[1;33m(\u001b[0m\u001b[0mself\u001b[0m\u001b[1;33m,\u001b[0m \u001b[0mname\u001b[0m\u001b[1;33m)\u001b[0m\u001b[1;33m\u001b[0m\u001b[1;33m\u001b[0m\u001b[0m\n\u001b[0m\u001b[0;32m   5488\u001b[0m \u001b[1;33m\u001b[0m\u001b[0m\n\u001b[0;32m   5489\u001b[0m     \u001b[1;32mdef\u001b[0m \u001b[0m__setattr__\u001b[0m\u001b[1;33m(\u001b[0m\u001b[0mself\u001b[0m\u001b[1;33m,\u001b[0m \u001b[0mname\u001b[0m\u001b[1;33m:\u001b[0m \u001b[0mstr\u001b[0m\u001b[1;33m,\u001b[0m \u001b[0mvalue\u001b[0m\u001b[1;33m)\u001b[0m \u001b[1;33m->\u001b[0m \u001b[1;32mNone\u001b[0m\u001b[1;33m:\u001b[0m\u001b[1;33m\u001b[0m\u001b[1;33m\u001b[0m\u001b[0m\n",
      "\u001b[1;32m~\\anaconda3\\lib\\site-packages\\pandas\\core\\accessor.py\u001b[0m in \u001b[0;36m__get__\u001b[1;34m(self, obj, cls)\u001b[0m\n\u001b[0;32m    179\u001b[0m             \u001b[1;31m# we're accessing the attribute of the class, i.e., Dataset.geo\u001b[0m\u001b[1;33m\u001b[0m\u001b[1;33m\u001b[0m\u001b[0m\n\u001b[0;32m    180\u001b[0m             \u001b[1;32mreturn\u001b[0m \u001b[0mself\u001b[0m\u001b[1;33m.\u001b[0m\u001b[0m_accessor\u001b[0m\u001b[1;33m\u001b[0m\u001b[1;33m\u001b[0m\u001b[0m\n\u001b[1;32m--> 181\u001b[1;33m         \u001b[0maccessor_obj\u001b[0m \u001b[1;33m=\u001b[0m \u001b[0mself\u001b[0m\u001b[1;33m.\u001b[0m\u001b[0m_accessor\u001b[0m\u001b[1;33m(\u001b[0m\u001b[0mobj\u001b[0m\u001b[1;33m)\u001b[0m\u001b[1;33m\u001b[0m\u001b[1;33m\u001b[0m\u001b[0m\n\u001b[0m\u001b[0;32m    182\u001b[0m         \u001b[1;31m# Replace the property with the accessor object. Inspired by:\u001b[0m\u001b[1;33m\u001b[0m\u001b[1;33m\u001b[0m\u001b[0m\n\u001b[0;32m    183\u001b[0m         \u001b[1;31m# https://www.pydanny.com/cached-property.html\u001b[0m\u001b[1;33m\u001b[0m\u001b[1;33m\u001b[0m\u001b[0m\n",
      "\u001b[1;32m~\\anaconda3\\lib\\site-packages\\pandas\\core\\strings\\accessor.py\u001b[0m in \u001b[0;36m__init__\u001b[1;34m(self, data)\u001b[0m\n\u001b[0;32m    166\u001b[0m         \u001b[1;32mfrom\u001b[0m \u001b[0mpandas\u001b[0m\u001b[1;33m.\u001b[0m\u001b[0mcore\u001b[0m\u001b[1;33m.\u001b[0m\u001b[0marrays\u001b[0m\u001b[1;33m.\u001b[0m\u001b[0mstring_\u001b[0m \u001b[1;32mimport\u001b[0m \u001b[0mStringDtype\u001b[0m\u001b[1;33m\u001b[0m\u001b[1;33m\u001b[0m\u001b[0m\n\u001b[0;32m    167\u001b[0m \u001b[1;33m\u001b[0m\u001b[0m\n\u001b[1;32m--> 168\u001b[1;33m         \u001b[0mself\u001b[0m\u001b[1;33m.\u001b[0m\u001b[0m_inferred_dtype\u001b[0m \u001b[1;33m=\u001b[0m \u001b[0mself\u001b[0m\u001b[1;33m.\u001b[0m\u001b[0m_validate\u001b[0m\u001b[1;33m(\u001b[0m\u001b[0mdata\u001b[0m\u001b[1;33m)\u001b[0m\u001b[1;33m\u001b[0m\u001b[1;33m\u001b[0m\u001b[0m\n\u001b[0m\u001b[0;32m    169\u001b[0m         \u001b[0mself\u001b[0m\u001b[1;33m.\u001b[0m\u001b[0m_is_categorical\u001b[0m \u001b[1;33m=\u001b[0m \u001b[0mis_categorical_dtype\u001b[0m\u001b[1;33m(\u001b[0m\u001b[0mdata\u001b[0m\u001b[1;33m.\u001b[0m\u001b[0mdtype\u001b[0m\u001b[1;33m)\u001b[0m\u001b[1;33m\u001b[0m\u001b[1;33m\u001b[0m\u001b[0m\n\u001b[0;32m    170\u001b[0m         \u001b[0mself\u001b[0m\u001b[1;33m.\u001b[0m\u001b[0m_is_string\u001b[0m \u001b[1;33m=\u001b[0m \u001b[0misinstance\u001b[0m\u001b[1;33m(\u001b[0m\u001b[0mdata\u001b[0m\u001b[1;33m.\u001b[0m\u001b[0mdtype\u001b[0m\u001b[1;33m,\u001b[0m \u001b[0mStringDtype\u001b[0m\u001b[1;33m)\u001b[0m\u001b[1;33m\u001b[0m\u001b[1;33m\u001b[0m\u001b[0m\n",
      "\u001b[1;32m~\\anaconda3\\lib\\site-packages\\pandas\\core\\strings\\accessor.py\u001b[0m in \u001b[0;36m_validate\u001b[1;34m(data)\u001b[0m\n\u001b[0;32m    223\u001b[0m \u001b[1;33m\u001b[0m\u001b[0m\n\u001b[0;32m    224\u001b[0m         \u001b[1;32mif\u001b[0m \u001b[0minferred_dtype\u001b[0m \u001b[1;32mnot\u001b[0m \u001b[1;32min\u001b[0m \u001b[0mallowed_types\u001b[0m\u001b[1;33m:\u001b[0m\u001b[1;33m\u001b[0m\u001b[1;33m\u001b[0m\u001b[0m\n\u001b[1;32m--> 225\u001b[1;33m             \u001b[1;32mraise\u001b[0m \u001b[0mAttributeError\u001b[0m\u001b[1;33m(\u001b[0m\u001b[1;34m\"Can only use .str accessor with string values!\"\u001b[0m\u001b[1;33m)\u001b[0m\u001b[1;33m\u001b[0m\u001b[1;33m\u001b[0m\u001b[0m\n\u001b[0m\u001b[0;32m    226\u001b[0m         \u001b[1;32mreturn\u001b[0m \u001b[0minferred_dtype\u001b[0m\u001b[1;33m\u001b[0m\u001b[1;33m\u001b[0m\u001b[0m\n\u001b[0;32m    227\u001b[0m \u001b[1;33m\u001b[0m\u001b[0m\n",
      "\u001b[1;31mAttributeError\u001b[0m: Can only use .str accessor with string values!"
     ]
    }
   ],
   "source": [
    "for i in mod_list:\n",
    "    df_08[i] = df_08[i].astype(\"float\")\n",
    "    df_9[i] = df_9[i].str.replace(\"Mod\",\"5\").astype(\"float\")\n",
    "    df_10[i] = df_10[i].str.replace(\"Mod\",\"5\").astype(\"float\")\n",
    "    df_11[i] = df_11[i].str.replace(\"Mod\",\"5\").astype(\"float\")\n",
    "    df_12[i] = df_12[i].str.replace(\"Mod\",\"5\").astype(\"float\")\n",
    "    df_13[i] = df_13[i].str.replace(\"Mod\",\"5\").astype(\"float\")\n",
    "    df_14[i] = df_14[i].str.replace(\"Mod\",\"5\").astype(\"float\")\n",
    "    df_15[i] = df_15[i].str.replace(\"Mod\",\"5\").astype(\"float\")\n",
    "    df_17[i] = df_17[i].astype(\"float\")\n",
    "    df_18[i] = df_18[i].astype(\"float\")\n",
    "    df_19[i] = df_17[i].astype(\"float\")\n",
    "    df_20[i] = df_18[i].astype(\"float\")\n",
    "    df_21[i] = df_17[i].astype(\"float\")\n",
    "    df_22[i] = df_18[i].astype(\"float\")\n",
    "    "
   ]
  },
  {
   "cell_type": "code",
   "execution_count": 145,
   "metadata": {},
   "outputs": [
    {
     "name": "stdout",
     "output_type": "stream",
     "text": [
      "<class 'pandas.core.frame.DataFrame'>\n",
      "Int64Index: 2479 entries, 0 to 2480\n",
      "Data columns (total 14 columns):\n",
      " #   Column                Non-Null Count  Dtype  \n",
      "---  ------                --------------  -----  \n",
      " 0   model                 2479 non-null   object \n",
      " 1   displ                 2479 non-null   float64\n",
      " 2   cyl                   2479 non-null   float64\n",
      " 3   trans                 2479 non-null   object \n",
      " 4   drive                 2479 non-null   int32  \n",
      " 5   fuel                  2479 non-null   object \n",
      " 6   cert_region           2479 non-null   object \n",
      " 7   veh_class             2479 non-null   object \n",
      " 8   air_pollution_score   2479 non-null   float64\n",
      " 9   city_mpg              2479 non-null   int32  \n",
      " 10  hwy_mpg               2479 non-null   int32  \n",
      " 11  cmb_mpg               2479 non-null   int32  \n",
      " 12  greenhouse_gas_score  2479 non-null   float64\n",
      " 13  smartway              2479 non-null   object \n",
      "dtypes: float64(4), int32(4), object(6)\n",
      "memory usage: 251.8+ KB\n"
     ]
    }
   ],
   "source": [
    "df_15.info()"
   ]
  },
  {
   "cell_type": "code",
   "execution_count": 166,
   "metadata": {},
   "outputs": [],
   "source": [
    "frames = [df_08,df_9,df_10,df_11,df_12,df_13,df_14,df_15,df_16,df_17,df_18,df_19,df_20,df_21,df_22]"
   ]
  },
  {
   "cell_type": "code",
   "execution_count": 167,
   "metadata": {},
   "outputs": [
    {
     "data": {
      "text/html": [
       "<div>\n",
       "<style scoped>\n",
       "    .dataframe tbody tr th:only-of-type {\n",
       "        vertical-align: middle;\n",
       "    }\n",
       "\n",
       "    .dataframe tbody tr th {\n",
       "        vertical-align: top;\n",
       "    }\n",
       "\n",
       "    .dataframe thead th {\n",
       "        text-align: right;\n",
       "    }\n",
       "</style>\n",
       "<table border=\"1\" class=\"dataframe\">\n",
       "  <thead>\n",
       "    <tr style=\"text-align: right;\">\n",
       "      <th></th>\n",
       "      <th></th>\n",
       "      <th>model</th>\n",
       "      <th>displ</th>\n",
       "      <th>cyl</th>\n",
       "      <th>trans</th>\n",
       "      <th>drive</th>\n",
       "      <th>fuel</th>\n",
       "      <th>cert_region</th>\n",
       "      <th>veh_class</th>\n",
       "      <th>air_pollution_score</th>\n",
       "      <th>city_mpg</th>\n",
       "      <th>hwy_mpg</th>\n",
       "      <th>cmb_mpg</th>\n",
       "      <th>greenhouse_gas_score</th>\n",
       "      <th>smartway</th>\n",
       "    </tr>\n",
       "  </thead>\n",
       "  <tbody>\n",
       "    <tr>\n",
       "      <th rowspan=\"5\" valign=\"top\">2008</th>\n",
       "      <th>0</th>\n",
       "      <td>ACURA MDX</td>\n",
       "      <td>3.7</td>\n",
       "      <td>6.0</td>\n",
       "      <td>Auto-S5</td>\n",
       "      <td>4</td>\n",
       "      <td>Gasoline</td>\n",
       "      <td>CA</td>\n",
       "      <td>SUV</td>\n",
       "      <td>7.0</td>\n",
       "      <td>15</td>\n",
       "      <td>20</td>\n",
       "      <td>17</td>\n",
       "      <td>4.0</td>\n",
       "      <td>no</td>\n",
       "    </tr>\n",
       "    <tr>\n",
       "      <th>1</th>\n",
       "      <td>ACURA MDX</td>\n",
       "      <td>3.7</td>\n",
       "      <td>6.0</td>\n",
       "      <td>Auto-S5</td>\n",
       "      <td>4</td>\n",
       "      <td>Gasoline</td>\n",
       "      <td>FA</td>\n",
       "      <td>SUV</td>\n",
       "      <td>6.0</td>\n",
       "      <td>15</td>\n",
       "      <td>20</td>\n",
       "      <td>17</td>\n",
       "      <td>4.0</td>\n",
       "      <td>no</td>\n",
       "    </tr>\n",
       "    <tr>\n",
       "      <th>2</th>\n",
       "      <td>ACURA RDX</td>\n",
       "      <td>2.3</td>\n",
       "      <td>4.0</td>\n",
       "      <td>Auto-S5</td>\n",
       "      <td>4</td>\n",
       "      <td>Gasoline</td>\n",
       "      <td>CA</td>\n",
       "      <td>SUV</td>\n",
       "      <td>7.0</td>\n",
       "      <td>17</td>\n",
       "      <td>22</td>\n",
       "      <td>19</td>\n",
       "      <td>5.0</td>\n",
       "      <td>no</td>\n",
       "    </tr>\n",
       "    <tr>\n",
       "      <th>3</th>\n",
       "      <td>ACURA RDX</td>\n",
       "      <td>2.3</td>\n",
       "      <td>4.0</td>\n",
       "      <td>Auto-S5</td>\n",
       "      <td>4</td>\n",
       "      <td>Gasoline</td>\n",
       "      <td>FA</td>\n",
       "      <td>SUV</td>\n",
       "      <td>6.0</td>\n",
       "      <td>17</td>\n",
       "      <td>22</td>\n",
       "      <td>19</td>\n",
       "      <td>5.0</td>\n",
       "      <td>no</td>\n",
       "    </tr>\n",
       "    <tr>\n",
       "      <th>4</th>\n",
       "      <td>ACURA RL</td>\n",
       "      <td>3.5</td>\n",
       "      <td>6.0</td>\n",
       "      <td>Auto-S5</td>\n",
       "      <td>4</td>\n",
       "      <td>Gasoline</td>\n",
       "      <td>CA</td>\n",
       "      <td>midsize car</td>\n",
       "      <td>7.0</td>\n",
       "      <td>16</td>\n",
       "      <td>24</td>\n",
       "      <td>19</td>\n",
       "      <td>5.0</td>\n",
       "      <td>no</td>\n",
       "    </tr>\n",
       "  </tbody>\n",
       "</table>\n",
       "</div>"
      ],
      "text/plain": [
       "            model  displ  cyl    trans  drive      fuel cert_region  \\\n",
       "2008 0  ACURA MDX    3.7  6.0  Auto-S5      4  Gasoline          CA   \n",
       "     1  ACURA MDX    3.7  6.0  Auto-S5      4  Gasoline          FA   \n",
       "     2  ACURA RDX    2.3  4.0  Auto-S5      4  Gasoline          CA   \n",
       "     3  ACURA RDX    2.3  4.0  Auto-S5      4  Gasoline          FA   \n",
       "     4   ACURA RL    3.5  6.0  Auto-S5      4  Gasoline          CA   \n",
       "\n",
       "          veh_class  air_pollution_score  city_mpg  hwy_mpg  cmb_mpg  \\\n",
       "2008 0          SUV                  7.0        15       20       17   \n",
       "     1          SUV                  6.0        15       20       17   \n",
       "     2          SUV                  7.0        17       22       19   \n",
       "     3          SUV                  6.0        17       22       19   \n",
       "     4  midsize car                  7.0        16       24       19   \n",
       "\n",
       "        greenhouse_gas_score smartway  \n",
       "2008 0                   4.0       no  \n",
       "     1                   4.0       no  \n",
       "     2                   5.0       no  \n",
       "     3                   5.0       no  \n",
       "     4                   5.0       no  "
      ]
     },
     "execution_count": 167,
     "metadata": {},
     "output_type": "execute_result"
    }
   ],
   "source": [
    "df_combined = pd.concat(frames, keys=['2008','2009','2010','2011','2012','2013','2014','2015','2016','2017','2018','2019','2020','2021','2022'])\n",
    "df_combined.head()"
   ]
  },
  {
   "cell_type": "code",
   "execution_count": 168,
   "metadata": {},
   "outputs": [
    {
     "data": {
      "text/plain": [
       "No       21061\n",
       "no        8366\n",
       "Yes       4071\n",
       "yes       2737\n",
       "Elite      388\n",
       "Name: smartway, dtype: int64"
      ]
     },
     "execution_count": 168,
     "metadata": {},
     "output_type": "execute_result"
    }
   ],
   "source": [
    "df_combined.smartway.value_counts()"
   ]
  },
  {
   "cell_type": "code",
   "execution_count": 169,
   "metadata": {},
   "outputs": [
    {
     "name": "stderr",
     "output_type": "stream",
     "text": [
      "C:\\Users\\ABO_SH~1\\AppData\\Local\\Temp/ipykernel_9856/4108609900.py:1: SettingWithCopyWarning: \n",
      "A value is trying to be set on a copy of a slice from a DataFrame\n",
      "\n",
      "See the caveats in the documentation: https://pandas.pydata.org/pandas-docs/stable/user_guide/indexing.html#returning-a-view-versus-a-copy\n",
      "  df_combined.smartway[df_combined.smartway=='yes']='Yes'\n",
      "C:\\Users\\ABO_SH~1\\AppData\\Local\\Temp/ipykernel_9856/4108609900.py:2: SettingWithCopyWarning: \n",
      "A value is trying to be set on a copy of a slice from a DataFrame\n",
      "\n",
      "See the caveats in the documentation: https://pandas.pydata.org/pandas-docs/stable/user_guide/indexing.html#returning-a-view-versus-a-copy\n",
      "  df_combined.smartway[df_combined.smartway=='no']='No'\n",
      "C:\\Users\\ABO_SH~1\\AppData\\Local\\Temp/ipykernel_9856/4108609900.py:3: SettingWithCopyWarning: \n",
      "A value is trying to be set on a copy of a slice from a DataFrame\n",
      "\n",
      "See the caveats in the documentation: https://pandas.pydata.org/pandas-docs/stable/user_guide/indexing.html#returning-a-view-versus-a-copy\n",
      "  df_combined.smartway[df_combined.smartway=='Elite']='Yes'\n"
     ]
    }
   ],
   "source": [
    "df_combined.smartway[df_combined.smartway=='yes']='Yes'\n",
    "df_combined.smartway[df_combined.smartway=='no']='No'\n",
    "df_combined.smartway[df_combined.smartway=='Elite']='Yes'"
   ]
  },
  {
   "cell_type": "code",
   "execution_count": 170,
   "metadata": {},
   "outputs": [
    {
     "data": {
      "text/plain": [
       "No     29427\n",
       "Yes     7196\n",
       "Name: smartway, dtype: int64"
      ]
     },
     "execution_count": 170,
     "metadata": {},
     "output_type": "execute_result"
    }
   ],
   "source": [
    "df_combined.smartway.value_counts()"
   ]
  },
  {
   "cell_type": "code",
   "execution_count": 171,
   "metadata": {},
   "outputs": [],
   "source": [
    "from sklearn import preprocessing\n",
    "from sklearn.model_selection import train_test_split"
   ]
  },
  {
   "cell_type": "code",
   "execution_count": 172,
   "metadata": {},
   "outputs": [
    {
     "data": {
      "text/plain": [
       "array([0, 1])"
      ]
     },
     "execution_count": 172,
     "metadata": {},
     "output_type": "execute_result"
    }
   ],
   "source": [
    "label_encoder = preprocessing.LabelEncoder()\n",
    "\n",
    "df_combined['smartway'] = label_encoder.fit_transform(df_combined['smartway'])\n",
    "df_combined['smartway'].unique()"
   ]
  },
  {
   "cell_type": "code",
   "execution_count": 173,
   "metadata": {},
   "outputs": [
    {
     "data": {
      "text/html": [
       "<div>\n",
       "<style scoped>\n",
       "    .dataframe tbody tr th:only-of-type {\n",
       "        vertical-align: middle;\n",
       "    }\n",
       "\n",
       "    .dataframe tbody tr th {\n",
       "        vertical-align: top;\n",
       "    }\n",
       "\n",
       "    .dataframe thead th {\n",
       "        text-align: right;\n",
       "    }\n",
       "</style>\n",
       "<table border=\"1\" class=\"dataframe\">\n",
       "  <thead>\n",
       "    <tr style=\"text-align: right;\">\n",
       "      <th></th>\n",
       "      <th></th>\n",
       "      <th>model</th>\n",
       "      <th>displ</th>\n",
       "      <th>cyl</th>\n",
       "      <th>trans</th>\n",
       "      <th>drive</th>\n",
       "      <th>fuel</th>\n",
       "      <th>cert_region</th>\n",
       "      <th>veh_class</th>\n",
       "      <th>air_pollution_score</th>\n",
       "      <th>city_mpg</th>\n",
       "      <th>hwy_mpg</th>\n",
       "      <th>cmb_mpg</th>\n",
       "      <th>greenhouse_gas_score</th>\n",
       "      <th>smartway</th>\n",
       "    </tr>\n",
       "  </thead>\n",
       "  <tbody>\n",
       "    <tr>\n",
       "      <th rowspan=\"5\" valign=\"top\">2008</th>\n",
       "      <th>0</th>\n",
       "      <td>ACURA MDX</td>\n",
       "      <td>3.7</td>\n",
       "      <td>6.0</td>\n",
       "      <td>Auto-S5</td>\n",
       "      <td>4</td>\n",
       "      <td>Gasoline</td>\n",
       "      <td>CA</td>\n",
       "      <td>0</td>\n",
       "      <td>7.0</td>\n",
       "      <td>15</td>\n",
       "      <td>20</td>\n",
       "      <td>17</td>\n",
       "      <td>4.0</td>\n",
       "      <td>0</td>\n",
       "    </tr>\n",
       "    <tr>\n",
       "      <th>1</th>\n",
       "      <td>ACURA MDX</td>\n",
       "      <td>3.7</td>\n",
       "      <td>6.0</td>\n",
       "      <td>Auto-S5</td>\n",
       "      <td>4</td>\n",
       "      <td>Gasoline</td>\n",
       "      <td>FA</td>\n",
       "      <td>0</td>\n",
       "      <td>6.0</td>\n",
       "      <td>15</td>\n",
       "      <td>20</td>\n",
       "      <td>17</td>\n",
       "      <td>4.0</td>\n",
       "      <td>0</td>\n",
       "    </tr>\n",
       "    <tr>\n",
       "      <th>2</th>\n",
       "      <td>ACURA RDX</td>\n",
       "      <td>2.3</td>\n",
       "      <td>4.0</td>\n",
       "      <td>Auto-S5</td>\n",
       "      <td>4</td>\n",
       "      <td>Gasoline</td>\n",
       "      <td>CA</td>\n",
       "      <td>0</td>\n",
       "      <td>7.0</td>\n",
       "      <td>17</td>\n",
       "      <td>22</td>\n",
       "      <td>19</td>\n",
       "      <td>5.0</td>\n",
       "      <td>0</td>\n",
       "    </tr>\n",
       "    <tr>\n",
       "      <th>3</th>\n",
       "      <td>ACURA RDX</td>\n",
       "      <td>2.3</td>\n",
       "      <td>4.0</td>\n",
       "      <td>Auto-S5</td>\n",
       "      <td>4</td>\n",
       "      <td>Gasoline</td>\n",
       "      <td>FA</td>\n",
       "      <td>0</td>\n",
       "      <td>6.0</td>\n",
       "      <td>17</td>\n",
       "      <td>22</td>\n",
       "      <td>19</td>\n",
       "      <td>5.0</td>\n",
       "      <td>0</td>\n",
       "    </tr>\n",
       "    <tr>\n",
       "      <th>4</th>\n",
       "      <td>ACURA RL</td>\n",
       "      <td>3.5</td>\n",
       "      <td>6.0</td>\n",
       "      <td>Auto-S5</td>\n",
       "      <td>4</td>\n",
       "      <td>Gasoline</td>\n",
       "      <td>CA</td>\n",
       "      <td>2</td>\n",
       "      <td>7.0</td>\n",
       "      <td>16</td>\n",
       "      <td>24</td>\n",
       "      <td>19</td>\n",
       "      <td>5.0</td>\n",
       "      <td>0</td>\n",
       "    </tr>\n",
       "    <tr>\n",
       "      <th>...</th>\n",
       "      <th>...</th>\n",
       "      <td>...</td>\n",
       "      <td>...</td>\n",
       "      <td>...</td>\n",
       "      <td>...</td>\n",
       "      <td>...</td>\n",
       "      <td>...</td>\n",
       "      <td>...</td>\n",
       "      <td>...</td>\n",
       "      <td>...</td>\n",
       "      <td>...</td>\n",
       "      <td>...</td>\n",
       "      <td>...</td>\n",
       "      <td>...</td>\n",
       "      <td>...</td>\n",
       "    </tr>\n",
       "    <tr>\n",
       "      <th rowspan=\"5\" valign=\"top\">2022</th>\n",
       "      <th>2261</th>\n",
       "      <td>VOLVO V60 T8 Recharge</td>\n",
       "      <td>2.0</td>\n",
       "      <td>4.0</td>\n",
       "      <td>SemiAuto-8</td>\n",
       "      <td>4</td>\n",
       "      <td>Electricity</td>\n",
       "      <td>FA</td>\n",
       "      <td>9</td>\n",
       "      <td>1.0</td>\n",
       "      <td>70</td>\n",
       "      <td>68</td>\n",
       "      <td>69</td>\n",
       "      <td>6.0</td>\n",
       "      <td>1</td>\n",
       "    </tr>\n",
       "    <tr>\n",
       "      <th>2262</th>\n",
       "      <td>VOLVO XC60 T8 Recharge</td>\n",
       "      <td>2.0</td>\n",
       "      <td>4.0</td>\n",
       "      <td>SemiAuto-8</td>\n",
       "      <td>4</td>\n",
       "      <td>Electricity</td>\n",
       "      <td>CA</td>\n",
       "      <td>5</td>\n",
       "      <td>1.0</td>\n",
       "      <td>59</td>\n",
       "      <td>55</td>\n",
       "      <td>57</td>\n",
       "      <td>6.0</td>\n",
       "      <td>1</td>\n",
       "    </tr>\n",
       "    <tr>\n",
       "      <th>2263</th>\n",
       "      <td>VOLVO XC60 T8 Recharge</td>\n",
       "      <td>2.0</td>\n",
       "      <td>4.0</td>\n",
       "      <td>SemiAuto-8</td>\n",
       "      <td>4</td>\n",
       "      <td>Electricity</td>\n",
       "      <td>FA</td>\n",
       "      <td>5</td>\n",
       "      <td>3.0</td>\n",
       "      <td>59</td>\n",
       "      <td>55</td>\n",
       "      <td>57</td>\n",
       "      <td>5.0</td>\n",
       "      <td>1</td>\n",
       "    </tr>\n",
       "    <tr>\n",
       "      <th>2264</th>\n",
       "      <td>VOLVO XC90 T8 Recharge</td>\n",
       "      <td>2.0</td>\n",
       "      <td>4.0</td>\n",
       "      <td>SemiAuto-8</td>\n",
       "      <td>4</td>\n",
       "      <td>Electricity</td>\n",
       "      <td>CA</td>\n",
       "      <td>8</td>\n",
       "      <td>3.0</td>\n",
       "      <td>58</td>\n",
       "      <td>53</td>\n",
       "      <td>55</td>\n",
       "      <td>5.0</td>\n",
       "      <td>1</td>\n",
       "    </tr>\n",
       "    <tr>\n",
       "      <th>2265</th>\n",
       "      <td>VOLVO XC90 T8 Recharge</td>\n",
       "      <td>2.0</td>\n",
       "      <td>4.0</td>\n",
       "      <td>SemiAuto-8</td>\n",
       "      <td>4</td>\n",
       "      <td>Electricity</td>\n",
       "      <td>FA</td>\n",
       "      <td>8</td>\n",
       "      <td>7.0</td>\n",
       "      <td>58</td>\n",
       "      <td>53</td>\n",
       "      <td>55</td>\n",
       "      <td>9.0</td>\n",
       "      <td>1</td>\n",
       "    </tr>\n",
       "  </tbody>\n",
       "</table>\n",
       "<p>36623 rows × 14 columns</p>\n",
       "</div>"
      ],
      "text/plain": [
       "                            model  displ  cyl       trans  drive         fuel  \\\n",
       "2008 0                  ACURA MDX    3.7  6.0     Auto-S5      4     Gasoline   \n",
       "     1                  ACURA MDX    3.7  6.0     Auto-S5      4     Gasoline   \n",
       "     2                  ACURA RDX    2.3  4.0     Auto-S5      4     Gasoline   \n",
       "     3                  ACURA RDX    2.3  4.0     Auto-S5      4     Gasoline   \n",
       "     4                   ACURA RL    3.5  6.0     Auto-S5      4     Gasoline   \n",
       "...                           ...    ...  ...         ...    ...          ...   \n",
       "2022 2261   VOLVO V60 T8 Recharge    2.0  4.0  SemiAuto-8      4  Electricity   \n",
       "     2262  VOLVO XC60 T8 Recharge    2.0  4.0  SemiAuto-8      4  Electricity   \n",
       "     2263  VOLVO XC60 T8 Recharge    2.0  4.0  SemiAuto-8      4  Electricity   \n",
       "     2264  VOLVO XC90 T8 Recharge    2.0  4.0  SemiAuto-8      4  Electricity   \n",
       "     2265  VOLVO XC90 T8 Recharge    2.0  4.0  SemiAuto-8      4  Electricity   \n",
       "\n",
       "          cert_region  veh_class  air_pollution_score  city_mpg  hwy_mpg  \\\n",
       "2008 0             CA          0                  7.0        15       20   \n",
       "     1             FA          0                  6.0        15       20   \n",
       "     2             CA          0                  7.0        17       22   \n",
       "     3             FA          0                  6.0        17       22   \n",
       "     4             CA          2                  7.0        16       24   \n",
       "...               ...        ...                  ...       ...      ...   \n",
       "2022 2261          FA          9                  1.0        70       68   \n",
       "     2262          CA          5                  1.0        59       55   \n",
       "     2263          FA          5                  3.0        59       55   \n",
       "     2264          CA          8                  3.0        58       53   \n",
       "     2265          FA          8                  7.0        58       53   \n",
       "\n",
       "           cmb_mpg  greenhouse_gas_score  smartway  \n",
       "2008 0          17                   4.0         0  \n",
       "     1          17                   4.0         0  \n",
       "     2          19                   5.0         0  \n",
       "     3          19                   5.0         0  \n",
       "     4          19                   5.0         0  \n",
       "...            ...                   ...       ...  \n",
       "2022 2261       69                   6.0         1  \n",
       "     2262       57                   6.0         1  \n",
       "     2263       57                   5.0         1  \n",
       "     2264       55                   5.0         1  \n",
       "     2265       55                   9.0         1  \n",
       "\n",
       "[36623 rows x 14 columns]"
      ]
     },
     "execution_count": 173,
     "metadata": {},
     "output_type": "execute_result"
    }
   ],
   "source": [
    "df_combined[\"veh_class\"] = label_encoder.fit_transform(df_combined[\"veh_class\"] )\n",
    "df_combined"
   ]
  },
  {
   "cell_type": "code",
   "execution_count": 175,
   "metadata": {},
   "outputs": [
    {
     "data": {
      "text/plain": [
       "array([5, 7, 0, 6, 8, 3, 4, 1, 2])"
      ]
     },
     "execution_count": 175,
     "metadata": {},
     "output_type": "execute_result"
    }
   ],
   "source": [
    "df_combined[\"fuel\"] = label_encoder.fit_transform(df_combined[\"fuel\"] )\n",
    "df_combined[\"fuel\"].unique()"
   ]
  },
  {
   "cell_type": "code",
   "execution_count": 176,
   "metadata": {},
   "outputs": [],
   "source": [
    "df_combined = df_combined.drop(columns=[\"trans\",\"cert_region\"])"
   ]
  },
  {
   "cell_type": "code",
   "execution_count": 177,
   "metadata": {},
   "outputs": [],
   "source": [
    "df_combined = df_combined.drop(columns=['model'])\n"
   ]
  },
  {
   "cell_type": "code",
   "execution_count": 178,
   "metadata": {},
   "outputs": [],
   "source": [
    "df_combined = df_combined.dropna()\n",
    "df_combined = df_combined.reset_index(drop=True)"
   ]
  },
  {
   "cell_type": "code",
   "execution_count": 179,
   "metadata": {},
   "outputs": [
    {
     "name": "stdout",
     "output_type": "stream",
     "text": [
      "<class 'pandas.core.frame.DataFrame'>\n",
      "RangeIndex: 33927 entries, 0 to 33926\n",
      "Data columns (total 11 columns):\n",
      " #   Column                Non-Null Count  Dtype  \n",
      "---  ------                --------------  -----  \n",
      " 0   displ                 33927 non-null  float64\n",
      " 1   cyl                   33927 non-null  float64\n",
      " 2   drive                 33927 non-null  int32  \n",
      " 3   fuel                  33927 non-null  int32  \n",
      " 4   veh_class             33927 non-null  int32  \n",
      " 5   air_pollution_score   33927 non-null  float64\n",
      " 6   city_mpg              33927 non-null  int32  \n",
      " 7   hwy_mpg               33927 non-null  int32  \n",
      " 8   cmb_mpg               33927 non-null  int32  \n",
      " 9   greenhouse_gas_score  33927 non-null  float64\n",
      " 10  smartway              33927 non-null  int32  \n",
      "dtypes: float64(4), int32(7)\n",
      "memory usage: 1.9 MB\n"
     ]
    }
   ],
   "source": [
    "df_combined.info()"
   ]
  },
  {
   "cell_type": "code",
   "execution_count": 192,
   "metadata": {},
   "outputs": [
    {
     "data": {
      "text/plain": [
       "0    27271\n",
       "1     6656\n",
       "Name: smartway, dtype: int64"
      ]
     },
     "execution_count": 192,
     "metadata": {},
     "output_type": "execute_result"
    }
   ],
   "source": [
    "df_combined.smartway.value_counts()"
   ]
  },
  {
   "cell_type": "code",
   "execution_count": 193,
   "metadata": {},
   "outputs": [
    {
     "name": "stdout",
     "output_type": "stream",
     "text": [
      "<class 'pandas.core.frame.DataFrame'>\n",
      "Int64Index: 27271 entries, 0 to 33912\n",
      "Data columns (total 11 columns):\n",
      " #   Column                Non-Null Count  Dtype  \n",
      "---  ------                --------------  -----  \n",
      " 0   displ                 27271 non-null  float64\n",
      " 1   cyl                   27271 non-null  float64\n",
      " 2   drive                 27271 non-null  int32  \n",
      " 3   fuel                  27271 non-null  int32  \n",
      " 4   veh_class             27271 non-null  int32  \n",
      " 5   air_pollution_score   27271 non-null  float64\n",
      " 6   city_mpg              27271 non-null  int32  \n",
      " 7   hwy_mpg               27271 non-null  int32  \n",
      " 8   cmb_mpg               27271 non-null  int32  \n",
      " 9   greenhouse_gas_score  27271 non-null  float64\n",
      " 10  smartway              27271 non-null  int32  \n",
      "dtypes: float64(4), int32(7)\n",
      "memory usage: 1.8 MB\n"
     ]
    }
   ],
   "source": [
    "no=df_combined[df_combined['smartway']==0]\n",
    "no.info()"
   ]
  },
  {
   "cell_type": "code",
   "execution_count": 194,
   "metadata": {},
   "outputs": [],
   "source": [
    "data=df_combined[df_combined['smartway']==1]\n",
    "data=data.append(no[:7000])"
   ]
  },
  {
   "cell_type": "code",
   "execution_count": 180,
   "metadata": {},
   "outputs": [],
   "source": [
    "from sklearn.metrics import log_loss,accuracy_score\n",
    "from sklearn.linear_model import LogisticRegression\n",
    "from sklearn.svm import LinearSVC\n",
    "from sklearn.model_selection import train_test_split"
   ]
  },
  {
   "cell_type": "code",
   "execution_count": 195,
   "metadata": {},
   "outputs": [],
   "source": [
    "X = data.drop(columns=[\"smartway\"])\n",
    "\n",
    "Y = data['smartway']"
   ]
  },
  {
   "cell_type": "code",
   "execution_count": 196,
   "metadata": {},
   "outputs": [],
   "source": [
    "x_train,x_test,y_train,y_test  = train_test_split(X,Y,test_size = 0.2,random_state=42)"
   ]
  },
  {
   "cell_type": "code",
   "execution_count": 197,
   "metadata": {},
   "outputs": [
    {
     "name": "stdout",
     "output_type": "stream",
     "text": [
      "x_train shape =  (10924, 10)\n",
      "x_test shape =  (2732, 10)\n",
      "y_train shape =  (10924,)\n",
      "y_test shape =  (2732,)\n"
     ]
    }
   ],
   "source": [
    "print(\"x_train shape = \" , x_train.shape)\n",
    "print(\"x_test shape = \" , x_test.shape)\n",
    "print(\"y_train shape = \" , y_train.shape)\n",
    "print(\"y_test shape = \" , y_test.shape)"
   ]
  },
  {
   "cell_type": "code",
   "execution_count": 198,
   "metadata": {},
   "outputs": [],
   "source": [
    "lr_obj = LogisticRegression(C=0.01,solver=\"liblinear\")\n",
    "lr = lr_obj.fit(x_train,y_train)"
   ]
  },
  {
   "cell_type": "code",
   "execution_count": 199,
   "metadata": {},
   "outputs": [],
   "source": [
    "Y_hat = lr.predict(x_test)"
   ]
  },
  {
   "cell_type": "code",
   "execution_count": 200,
   "metadata": {},
   "outputs": [],
   "source": [
    "Y_hat_proba = lr.predict_proba(x_test)"
   ]
  },
  {
   "cell_type": "code",
   "execution_count": 201,
   "metadata": {},
   "outputs": [
    {
     "name": "stdout",
     "output_type": "stream",
     "text": [
      "log_loss =  0.19070500353999878\n",
      "Accuracy score =  0.9161786237188873\n"
     ]
    }
   ],
   "source": [
    "\n",
    "print(\"log_loss = \",log_loss(y_test,Y_hat_proba))\n",
    "print(\"Accuracy score = \",accuracy_score(y_test,Y_hat))"
   ]
  },
  {
   "cell_type": "code",
   "execution_count": 166,
   "metadata": {},
   "outputs": [],
   "source": []
  },
  {
   "cell_type": "code",
   "execution_count": 210,
   "metadata": {},
   "outputs": [],
   "source": [
    "svc = LinearSVC(C=0.1,max_iter=100000)\n",
    "svc.fit(x_train, y_train)\n",
    "\n",
    "ysvm_pred = svc.predict(x_test)\n",
    "#from sklearn.metrics import accuracy_score, f1_score, confusion_matrix"
   ]
  },
  {
   "cell_type": "code",
   "execution_count": 211,
   "metadata": {},
   "outputs": [
    {
     "name": "stdout",
     "output_type": "stream",
     "text": [
      "Accuracy score =  0.941800878477306\n"
     ]
    }
   ],
   "source": [
    "print(\"Accuracy score = \",accuracy_score(y_test,ysvm_pred))"
   ]
  },
  {
   "cell_type": "markdown",
   "metadata": {},
   "source": [
    "<a id='conclusions'></a>\n",
    "## Conclusions\n",
    "### Research Question 1 (The number of movies each year ?!)\n",
    "###### As the years go by, the number of movies is increasing\n",
    "The year 2015 is the largest year in which he produced films and the number of them 44780670\n",
    "### Research Question 2 ( Budget vs vote average in one year!)\n",
    "Exploring the budget on the success of the film and chose to be in one year due to the difference in financial value over the years\n",
    " \n",
    "###  Research Question 3 (Duration of the movie vs Popularity)\n",
    "Conclude that popularity tends to movies of medium duration\n",
    "###  Research Question 4 (Which genres have the highest rate?)\n",
    "Documentary movies has the highest vote \n",
    "### Limitations\n",
    "\n",
    "All results are limited to the underlying data set and as no advaned statistics were performed, the results can only be treated as indicators and are not generalizable. Furthermore, one has to consider that many entries in the dataset have been removed due to missing data."
   ]
  },
  {
   "cell_type": "code",
   "execution_count": null,
   "metadata": {},
   "outputs": [],
   "source": []
  }
 ],
 "metadata": {
  "kernelspec": {
   "display_name": "Python 3 (ipykernel)",
   "language": "python",
   "name": "python3"
  },
  "language_info": {
   "codemirror_mode": {
    "name": "ipython",
    "version": 3
   },
   "file_extension": ".py",
   "mimetype": "text/x-python",
   "name": "python",
   "nbconvert_exporter": "python",
   "pygments_lexer": "ipython3",
   "version": "3.9.7"
  }
 },
 "nbformat": 4,
 "nbformat_minor": 4
}
